{
  "cells": [
    {
      "cell_type": "markdown",
      "metadata": {
        "id": "view-in-github",
        "colab_type": "text"
      },
      "source": [
        "<a href=\"https://colab.research.google.com/github/drshahizan/Python_EDA/blob/main/assignment/ass4/hpdp/ByteNav/Features_Engineering.ipynb\" target=\"_parent\"><img src=\"https://colab.research.google.com/assets/colab-badge.svg\" alt=\"Open In Colab\"/></a>"
      ]
    },
    {
      "cell_type": "markdown",
      "source": [
        "# Assignment 4: Feature Engineering\n",
        "## Group: Byte Navigators (ByteNav)\n",
        "\n",
        "## Group Member:\n",
        "<table>\n",
        "  <tr>\n",
        "    <th>Name</th>\n",
        "    <th>Matric Number</th>\n",
        "  </tr>\n",
        "  <tr>\n",
        "    <th>LAU YEE CHI</th>\n",
        "    <th>A21EC0042</th>\n",
        "  </tr>\n",
        "  </tr>\n",
        "    <tr>\n",
        "    <th>YEW RUI XIANG</th>\n",
        "    <th>A21EC0149</th>\n",
        "  </tr>\n",
        "  <tr>\n",
        "    <th>SOO WAN YING</th>\n",
        "    <th>A21EC0227</th>\n",
        "  <tr>\n",
        "    <th>LOO ZHI YUAN</th>\n",
        "    <th>A21EC0197</th>\n",
        "  </tr>\n",
        "</table>\n"
      ],
      "metadata": {
        "id": "9jHfF_9f_z7w"
      }
    },
    {
      "cell_type": "markdown",
      "source": [
        "## 1. Dataset Selection\n",
        "We have choose a large dataset which contains 5.7 million new and used vehicle listings (~2M unique vins) from aprox 1.2k dealers in Illinois from June 2018 to June 2020 with a daily resolution. The data is provided as a sample from [AutoDealerData.com](https://autodealerdata.com/?ref=kaggle).\n",
        "\n",
        "The title of the dataset is \"**Large Car Dataset**\" and the dataset used is from **CIS_Automotive_Kaggle_Sample.csv**. The dataset consist of 5.7M rows and 156 columns. Our main purpose working on this dataset is preparing it through a series of data cleaning and feature engineering technique to construct a model for predicting the **\"askPrice\"** which are last ask price before the vehicle was sold. For seeking more details of each attributes, go ahead the below source link.\n",
        "\n",
        "Source of dataset:\n",
        "https://www.kaggle.com/datasets/cisautomotiveapi/large-car-dataset"
      ],
      "metadata": {
        "id": "Xpccn25i_7y0"
      }
    },
    {
      "cell_type": "markdown",
      "source": [
        "## 2. Loading the Dataset"
      ],
      "metadata": {
        "id": "YBbstA0jBX8d"
      }
    },
    {
      "cell_type": "markdown",
      "source": [
        "### Install required packages"
      ],
      "metadata": {
        "id": "DjZ0cFPREuXs"
      }
    },
    {
      "cell_type": "code",
      "execution_count": null,
      "metadata": {
        "colab": {
          "base_uri": "https://localhost:8080/"
        },
        "id": "HDdAUj7eio3_",
        "outputId": "1f0aa132-feb2-42be-a735-ee26b4a49fcf"
      },
      "outputs": [
        {
          "output_type": "stream",
          "name": "stdout",
          "text": [
            "Collecting opendatasets\n",
            "  Downloading opendatasets-0.1.22-py3-none-any.whl (15 kB)\n",
            "Requirement already satisfied: tqdm in /usr/local/lib/python3.10/dist-packages (from opendatasets) (4.66.1)\n",
            "Requirement already satisfied: kaggle in /usr/local/lib/python3.10/dist-packages (from opendatasets) (1.5.16)\n",
            "Requirement already satisfied: click in /usr/local/lib/python3.10/dist-packages (from opendatasets) (8.1.7)\n",
            "Requirement already satisfied: six>=1.10 in /usr/local/lib/python3.10/dist-packages (from kaggle->opendatasets) (1.16.0)\n",
            "Requirement already satisfied: certifi in /usr/local/lib/python3.10/dist-packages (from kaggle->opendatasets) (2023.7.22)\n",
            "Requirement already satisfied: python-dateutil in /usr/local/lib/python3.10/dist-packages (from kaggle->opendatasets) (2.8.2)\n",
            "Requirement already satisfied: requests in /usr/local/lib/python3.10/dist-packages (from kaggle->opendatasets) (2.31.0)\n",
            "Requirement already satisfied: python-slugify in /usr/local/lib/python3.10/dist-packages (from kaggle->opendatasets) (8.0.1)\n",
            "Requirement already satisfied: urllib3 in /usr/local/lib/python3.10/dist-packages (from kaggle->opendatasets) (2.0.7)\n",
            "Requirement already satisfied: bleach in /usr/local/lib/python3.10/dist-packages (from kaggle->opendatasets) (6.1.0)\n",
            "Requirement already satisfied: webencodings in /usr/local/lib/python3.10/dist-packages (from bleach->kaggle->opendatasets) (0.5.1)\n",
            "Requirement already satisfied: text-unidecode>=1.3 in /usr/local/lib/python3.10/dist-packages (from python-slugify->kaggle->opendatasets) (1.3)\n",
            "Requirement already satisfied: charset-normalizer<4,>=2 in /usr/local/lib/python3.10/dist-packages (from requests->kaggle->opendatasets) (3.3.2)\n",
            "Requirement already satisfied: idna<4,>=2.5 in /usr/local/lib/python3.10/dist-packages (from requests->kaggle->opendatasets) (3.4)\n",
            "Installing collected packages: opendatasets\n",
            "Successfully installed opendatasets-0.1.22\n"
          ]
        }
      ],
      "source": [
        "# install opendatasets for reading the dataset from kaggle\n",
        "!pip install opendatasets"
      ]
    },
    {
      "cell_type": "code",
      "source": [
        "# install scikit-learn packages\n",
        "!pip install -U scikit-learn"
      ],
      "metadata": {
        "id": "bI8Ff0r3BleF",
        "colab": {
          "base_uri": "https://localhost:8080/"
        },
        "outputId": "0d4dc205-1535-46ec-9867-a1416eba00ad"
      },
      "execution_count": null,
      "outputs": [
        {
          "output_type": "stream",
          "name": "stdout",
          "text": [
            "Requirement already satisfied: scikit-learn in /usr/local/lib/python3.10/dist-packages (1.2.2)\n",
            "Collecting scikit-learn\n",
            "  Downloading scikit_learn-1.3.2-cp310-cp310-manylinux_2_17_x86_64.manylinux2014_x86_64.whl (10.8 MB)\n",
            "\u001b[2K     \u001b[90m━━━━━━━━━━━━━━━━━━━━━━━━━━━━━━━━━━━━━━━━\u001b[0m \u001b[32m10.8/10.8 MB\u001b[0m \u001b[31m49.0 MB/s\u001b[0m eta \u001b[36m0:00:00\u001b[0m\n",
            "\u001b[?25hRequirement already satisfied: numpy<2.0,>=1.17.3 in /usr/local/lib/python3.10/dist-packages (from scikit-learn) (1.23.5)\n",
            "Requirement already satisfied: scipy>=1.5.0 in /usr/local/lib/python3.10/dist-packages (from scikit-learn) (1.11.3)\n",
            "Requirement already satisfied: joblib>=1.1.1 in /usr/local/lib/python3.10/dist-packages (from scikit-learn) (1.3.2)\n",
            "Requirement already satisfied: threadpoolctl>=2.0.0 in /usr/local/lib/python3.10/dist-packages (from scikit-learn) (3.2.0)\n",
            "Installing collected packages: scikit-learn\n",
            "  Attempting uninstall: scikit-learn\n",
            "    Found existing installation: scikit-learn 1.2.2\n",
            "    Uninstalling scikit-learn-1.2.2:\n",
            "      Successfully uninstalled scikit-learn-1.2.2\n",
            "Successfully installed scikit-learn-1.3.2\n"
          ]
        }
      ]
    },
    {
      "cell_type": "markdown",
      "source": [
        "### Import required libraries"
      ],
      "metadata": {
        "id": "fDvskk19E0s7"
      }
    },
    {
      "cell_type": "code",
      "execution_count": null,
      "metadata": {
        "id": "gek9_hcPivAN"
      },
      "outputs": [],
      "source": [
        "# import required datasets\n",
        "import numpy as np\n",
        "import pandas as pd\n",
        "import seaborn as sns\n",
        "import matplotlib.pyplot as plt\n",
        "import opendatasets as od"
      ]
    },
    {
      "cell_type": "markdown",
      "source": [
        "### Import Dataset"
      ],
      "metadata": {
        "id": "Z0BGK_DcE7FU"
      }
    },
    {
      "cell_type": "code",
      "execution_count": null,
      "metadata": {
        "colab": {
          "base_uri": "https://localhost:8080/"
        },
        "id": "WtXCK0Gjiw7Z",
        "outputId": "5f27bfd3-cdce-49a1-ee81-05db6dd38df4"
      },
      "outputs": [
        {
          "output_type": "stream",
          "name": "stdout",
          "text": [
            "Please provide your Kaggle credentials to download this dataset. Learn more: http://bit.ly/kaggle-creds\n",
            "Your Kaggle username: yewruixiang\n",
            "Your Kaggle Key: ··········\n",
            "Downloading large-car-dataset.zip to ./large-car-dataset\n"
          ]
        },
        {
          "output_type": "stream",
          "name": "stderr",
          "text": [
            "100%|██████████| 825M/825M [00:04<00:00, 210MB/s]\n"
          ]
        },
        {
          "output_type": "stream",
          "name": "stdout",
          "text": [
            "\n"
          ]
        }
      ],
      "source": [
        "# download and assign the csv file into variable named file\n",
        "od.download(\n",
        "    \"https://www.kaggle.com/datasets/cisautomotiveapi/large-car-dataset\")\n",
        "\n",
        "file = ('large-car-dataset/CIS_Automotive_Kaggle_Sample.csv')"
      ]
    },
    {
      "cell_type": "markdown",
      "source": [
        "The dimensionality of this dataset is too large and unable to support by the RAM of the Google Colad. Therefore, we first loop through chunk of the dataset to get the number of missing values in each columns before dropping the columns with the null values greater 40% out of the size of the dataset."
      ],
      "metadata": {
        "id": "82kUaloqCLdN"
      }
    },
    {
      "cell_type": "code",
      "execution_count": null,
      "metadata": {
        "colab": {
          "base_uri": "https://localhost:8080/"
        },
        "id": "c9Syd9MkzqGp",
        "outputId": "7112c9f4-0526-42ac-a228-4a211e6096a0"
      },
      "outputs": [
        {
          "output_type": "stream",
          "name": "stderr",
          "text": [
            "<ipython-input-6-7a3af86cdc9f>:12: DtypeWarning: Columns (1,8,17,22,25,53,65,67,69,70,91,122) have mixed types. Specify dtype option on import or set low_memory=False.\n",
            "  for chunk in pd.read_csv(file, chunksize=chunksize, dtype=dtypes):\n",
            "<ipython-input-6-7a3af86cdc9f>:12: DtypeWarning: Columns (1,8,17,18,53,65,67,69,79,91,122,133) have mixed types. Specify dtype option on import or set low_memory=False.\n",
            "  for chunk in pd.read_csv(file, chunksize=chunksize, dtype=dtypes):\n",
            "<ipython-input-6-7a3af86cdc9f>:12: DtypeWarning: Columns (1,8,17,18,25,53,65,67,69,91,122,133) have mixed types. Specify dtype option on import or set low_memory=False.\n",
            "  for chunk in pd.read_csv(file, chunksize=chunksize, dtype=dtypes):\n",
            "<ipython-input-6-7a3af86cdc9f>:12: DtypeWarning: Columns (1,8,17,18,25,53,65,67,69,91,113,122,133) have mixed types. Specify dtype option on import or set low_memory=False.\n",
            "  for chunk in pd.read_csv(file, chunksize=chunksize, dtype=dtypes):\n",
            "<ipython-input-6-7a3af86cdc9f>:12: DtypeWarning: Columns (1,8,17,25,53,65,67,69,91,122) have mixed types. Specify dtype option on import or set low_memory=False.\n",
            "  for chunk in pd.read_csv(file, chunksize=chunksize, dtype=dtypes):\n",
            "<ipython-input-6-7a3af86cdc9f>:12: DtypeWarning: Columns (1,8,17,18,25,53,65,67,69,79,91,113,122,133) have mixed types. Specify dtype option on import or set low_memory=False.\n",
            "  for chunk in pd.read_csv(file, chunksize=chunksize, dtype=dtypes):\n"
          ]
        }
      ],
      "source": [
        "# Chunk the datasets into 1000000 chunk size each\n",
        "chunksize = 1000000\n",
        "null_values_columns = [0] * 156\n",
        "total_rows = 0\n",
        "\n",
        "# Specific the datatypes of certain columns\n",
        "dtypes={\"interiorColor\":object, \"vf_AxleConfiguration\":object, \"vf_BatteryInfo\":object, \"vf_BatteryType\":object,\n",
        "        \"vf_BrakeSystemDesc\":object, \"vf_MakeID\":np.float64, \"vf_ManufacturerId\":np.float64, \"vf_ModelID\":np.float64,\n",
        "        \"vf_ModelYear\":np.float64, \"vf_NCSANote\":object, \"vf_OtherMotorcycleInfo\":object, \"vf_PossibleValues\":object,\n",
        "        \"vf_Trim2\":object,}\n",
        "\n",
        "for chunk in pd.read_csv(file, chunksize=chunksize, dtype=dtypes):\n",
        "  # read null value in each columns\n",
        "  null_values_columns += chunk.isnull().sum()\n",
        "  total_rows += chunk.shape[0]\n",
        "\n",
        "# Examine the columns which have the null values less than 40% out of the total size\n",
        "columns_need = (null_values_columns/total_rows) < 0.4"
      ]
    },
    {
      "cell_type": "code",
      "execution_count": null,
      "metadata": {
        "colab": {
          "base_uri": "https://localhost:8080/"
        },
        "id": "Y-pst-up6KGy",
        "outputId": "bd093d6e-4d93-4e49-8805-b1c1e6fcd133"
      },
      "outputs": [
        {
          "output_type": "stream",
          "name": "stdout",
          "text": [
            "Number of columns remain for used: 47\n",
            "Columns remain for used: Index(['vin', 'stockNum', 'firstSeen', 'lastSeen', 'msrp', 'askPrice',\n",
            "       'mileage', 'isNew', 'color', 'brandName', 'modelName', 'dealerID',\n",
            "       'vf_AirBagLocFront', 'vf_AirBagLocSide', 'vf_BodyClass',\n",
            "       'vf_BusFloorConfigType', 'vf_BusType', 'vf_CustomMotorcycleType',\n",
            "       'vf_DisplacementCC', 'vf_DisplacementCI', 'vf_DisplacementL',\n",
            "       'vf_Doors', 'vf_DriveType', 'vf_EngineConfiguration',\n",
            "       'vf_EngineCylinders', 'vf_FuelTypePrimary', 'vf_GVWR', 'vf_Make',\n",
            "       'vf_MakeID', 'vf_Manufacturer', 'vf_ManufacturerId', 'vf_Model',\n",
            "       'vf_ModelID', 'vf_ModelYear', 'vf_MotorcycleChassisType',\n",
            "       'vf_MotorcycleSuspensionType', 'vf_PlantCity', 'vf_PlantCompanyName',\n",
            "       'vf_PlantCountry', 'vf_PlantState', 'vf_SeatBeltsAll', 'vf_Series',\n",
            "       'vf_TPMS', 'vf_TrailerBodyType', 'vf_TrailerType', 'vf_VIN',\n",
            "       'vf_VehicleType'],\n",
            "      dtype='object')\n"
          ]
        }
      ],
      "source": [
        "# Identify the columns to retain for use\n",
        "columns_need_index = columns_need[columns_need == True].index\n",
        "print(\"Number of columns remain for used: \" + str(len(columns_need_index)))\n",
        "print(\"Columns remain for used: \" + str(columns_need_index))"
      ]
    },
    {
      "cell_type": "markdown",
      "source": [
        "### Sampling"
      ],
      "metadata": {
        "id": "CDxEauyPbIsC"
      }
    },
    {
      "cell_type": "markdown",
      "source": [
        "Sampling method is carried out to retrieve the random sample from the dataset. The similar is that we used chunk of the dataset by filtering out the rows with null values and select a random set of rows/data from the chunk. The random sample is then stored in a dataframe(df)."
      ],
      "metadata": {
        "id": "rh2M5E1CEy39"
      }
    },
    {
      "cell_type": "code",
      "execution_count": null,
      "metadata": {
        "id": "eIFp8Svo7ucU",
        "colab": {
          "base_uri": "https://localhost:8080/"
        },
        "outputId": "e0867b4d-d9b0-43d8-ad16-91b98bccfa02"
      },
      "outputs": [
        {
          "output_type": "stream",
          "name": "stderr",
          "text": [
            "<ipython-input-8-9c88403a51f5>:9: DtypeWarning: Columns (1,8) have mixed types. Specify dtype option on import or set low_memory=False.\n",
            "  for chunk in pd.read_csv(file, chunksize=chunksize, dtype=dtypes, usecols=columns_need_index):\n",
            "<ipython-input-8-9c88403a51f5>:9: DtypeWarning: Columns (1,8) have mixed types. Specify dtype option on import or set low_memory=False.\n",
            "  for chunk in pd.read_csv(file, chunksize=chunksize, dtype=dtypes, usecols=columns_need_index):\n",
            "<ipython-input-8-9c88403a51f5>:9: DtypeWarning: Columns (1,8) have mixed types. Specify dtype option on import or set low_memory=False.\n",
            "  for chunk in pd.read_csv(file, chunksize=chunksize, dtype=dtypes, usecols=columns_need_index):\n",
            "<ipython-input-8-9c88403a51f5>:9: DtypeWarning: Columns (1,8) have mixed types. Specify dtype option on import or set low_memory=False.\n",
            "  for chunk in pd.read_csv(file, chunksize=chunksize, dtype=dtypes, usecols=columns_need_index):\n",
            "<ipython-input-8-9c88403a51f5>:9: DtypeWarning: Columns (1,8) have mixed types. Specify dtype option on import or set low_memory=False.\n",
            "  for chunk in pd.read_csv(file, chunksize=chunksize, dtype=dtypes, usecols=columns_need_index):\n",
            "<ipython-input-8-9c88403a51f5>:9: DtypeWarning: Columns (1,8) have mixed types. Specify dtype option on import or set low_memory=False.\n",
            "  for chunk in pd.read_csv(file, chunksize=chunksize, dtype=dtypes, usecols=columns_need_index):\n"
          ]
        },
        {
          "output_type": "execute_result",
          "data": {
            "text/plain": [
              "(116349, 47)"
            ]
          },
          "metadata": {},
          "execution_count": 8
        }
      ],
      "source": [
        "# Use sampling method to read the dataset for furture processing\n",
        "chunksize = 1000000\n",
        "df = pd.DataFrame()\n",
        "dtypes={\"interiorColor\":object, \"vf_AxleConfiguration\":object, \"vf_BatteryInfo\":object, \"vf_BatteryType\":object,\n",
        "        \"vf_BrakeSystemDesc\":object, \"vf_MakeID\":np.float64, \"vf_ManufacturerId\":np.float64, \"vf_ModelID\":np.float64,\n",
        "        \"vf_ModelYear\":np.float64, \"vf_NCSANote\":object, \"vf_OtherMotorcycleInfo\":object, \"vf_PossibleValues\":object,\n",
        "        \"vf_Trim2\":object,}\n",
        "\n",
        "for chunk in pd.read_csv(file, chunksize=chunksize, dtype=dtypes, usecols=columns_need_index):\n",
        "  # Drop the row consisting null value to make sure no null value in any columns in our sample data for ease of data processing\n",
        "  chunk = chunk.dropna()\n",
        "  # Select random set of data from the chunk with specified fraction which is 0.25\n",
        "  chunk = chunk.sample(frac=0.25, random_state=99)\n",
        "  # Concatenate the dataframe from each chunk\n",
        "  df = pd.concat([df, chunk], ignore_index=True)\n",
        "\n",
        "df.shape"
      ]
    },
    {
      "cell_type": "code",
      "execution_count": null,
      "metadata": {
        "colab": {
          "base_uri": "https://localhost:8080/",
          "height": 894
        },
        "id": "uVLsduQkA1og",
        "outputId": "72627f82-2832-4598-9cf4-cc0a1f4d17fa"
      },
      "outputs": [
        {
          "output_type": "execute_result",
          "data": {
            "text/plain": [
              "                                                      vin        stockNum  \\\n",
              "0       a1a36f314b932519ae0856f048fbb4b7b421eed83a6d4c...        J79183-1   \n",
              "1       8af4e1bc548aeac631afa916a182e7d1725b57ac7a69b0...          12649F   \n",
              "2       4bb08e5895ac1e226fc35d37e913eb071cea8ce789cc24...  Touring L Plus   \n",
              "3       f9225fe0632a6b379ff2e6b719f247d842fe3d850c70c8...             R/T   \n",
              "4       c909e6c0ff580f7eb53ac519faaef9e5e2de4fcc79ea2f...           38057   \n",
              "...                                                   ...             ...   \n",
              "116344  143161f59a0a4551989610615430af855e9637706e8a34...          181459   \n",
              "116345  6485bbd0739fc161914c7cbbde019e370a14a0fb1b17b7...          27527A   \n",
              "116346  a2f4a91d3441f1f8e90a3fd6164b4bdcaea9e4a4806119...         N190484   \n",
              "116347  abe751eccaec60d0e1e9b7b3faca2261e8734459bc65af...        GUC67244   \n",
              "116348  ac7891050b13efe561c88df827bc32a62c9df717291d11...          J20920   \n",
              "\n",
              "         firstSeen    lastSeen   msrp  askPrice  mileage  isNew  \\\n",
              "0       2019-12-05  2020-05-06  36465     28689     7736  False   \n",
              "1       2020-05-03  2020-05-21  14887     14505        0  False   \n",
              "2       2018-08-13  2018-10-16      0         0        0   True   \n",
              "3       2018-12-14  2019-01-12      0         0        0   True   \n",
              "4       2018-08-05  2018-10-10  29895     28895    12528  False   \n",
              "...            ...         ...    ...       ...      ...    ...   \n",
              "116344  2018-09-11  2018-09-13  83695     83695        0   True   \n",
              "116345  2018-11-16  2018-12-29  25500     25500        0  False   \n",
              "116346  2018-11-02  2018-11-02  40950     40950        0   True   \n",
              "116347  2019-02-27  2019-07-08  19990     19200    39670  False   \n",
              "116348  2018-09-11  2018-10-02  48860     45377        0   True   \n",
              "\n",
              "                                                    color  brandName  ...  \\\n",
              "0                        Billet Silver Metallic Clearcoat       JEEP  ...   \n",
              "1                                        Billet Clearcoat      DODGE  ...   \n",
              "2       Brilliant Black Crystal Pearl-Coat Exterior Paint   CHRYSLER  ...   \n",
              "3                                 DB Black Exterior Paint      DODGE  ...   \n",
              "4                                             Sandy Ridge  CHEVROLET  ...   \n",
              "...                                                   ...        ...  ...   \n",
              "116344                                              Mocha    LINCOLN  ...   \n",
              "116345                                 Siren Red Tintcoat  CHEVROLET  ...   \n",
              "116346                   Billet Silver Metallic Clearcoat       JEEP  ...   \n",
              "116347                                       Oxford White       FORD  ...   \n",
              "116348                                       Bright White       JEEP  ...   \n",
              "\n",
              "             vf_PlantCompanyName      vf_PlantCountry    vf_PlantState  \\\n",
              "0             BELVIDERE ASSEMBLY  UNITED STATES (USA)         ILLINOIS   \n",
              "1                Toluca Assembly               MEXICO  STATE OF MEXICO   \n",
              "2               Windsor Assembly               CANADA          ONTARIO   \n",
              "3       JEFFERSON NORTH ASSEMBLY  UNITED STATES (USA)         MICHIGAN   \n",
              "4                           CAMI               CANADA          ONTARIO   \n",
              "...                          ...                  ...              ...   \n",
              "116344            Kentucky Truck  UNITED STATES (USA)         KENTUCKY   \n",
              "116345                      GMNA  UNITED STATES (USA)         MICHIGAN   \n",
              "116346        BELVIDERE ASSEMBLY  UNITED STATES (USA)         ILLINOIS   \n",
              "116347      Louisville Assembly   UNITED STATES (USA)         KENTUCKY   \n",
              "116348     Toledo North Assembly  UNITED STATES (USA)             OHIO   \n",
              "\n",
              "       vf_SeatBeltsAll         vf_Series vf_TPMS vf_TrailerBodyType  \\\n",
              "0               Manual         Trailhawk  Direct     Not Applicable   \n",
              "1               Manual               SXT  Direct     Not Applicable   \n",
              "2               Manual    Touring L Plus  Direct     Not Applicable   \n",
              "3               Manual               R/T  Direct     Not Applicable   \n",
              "4               Manual     Premier (1LZ)  Direct     Not Applicable   \n",
              "...                ...               ...     ...                ...   \n",
              "116344          Manual           Reserve  Direct     Not Applicable   \n",
              "116345          Manual               1LT  Direct     Not Applicable   \n",
              "116346          Manual           Limited  Direct     Not Applicable   \n",
              "116347          Manual                SE  Direct     Not Applicable   \n",
              "116348          Manual  Unlimited Sahara  Direct     Not Applicable   \n",
              "\n",
              "        vf_TrailerType                                             vf_VIN  \\\n",
              "0       Not Applicable  a1a36f314b932519ae0856f048fbb4b7b421eed83a6d4c...   \n",
              "1       Not Applicable  8af4e1bc548aeac631afa916a182e7d1725b57ac7a69b0...   \n",
              "2       Not Applicable  4bb08e5895ac1e226fc35d37e913eb071cea8ce789cc24...   \n",
              "3       Not Applicable  f9225fe0632a6b379ff2e6b719f247d842fe3d850c70c8...   \n",
              "4       Not Applicable  c909e6c0ff580f7eb53ac519faaef9e5e2de4fcc79ea2f...   \n",
              "...                ...                                                ...   \n",
              "116344  Not Applicable  143161f59a0a4551989610615430af855e9637706e8a34...   \n",
              "116345  Not Applicable  6485bbd0739fc161914c7cbbde019e370a14a0fb1b17b7...   \n",
              "116346  Not Applicable  a2f4a91d3441f1f8e90a3fd6164b4bdcaea9e4a4806119...   \n",
              "116347  Not Applicable  abe751eccaec60d0e1e9b7b3faca2261e8734459bc65af...   \n",
              "116348  Not Applicable  ac7891050b13efe561c88df827bc32a62c9df717291d11...   \n",
              "\n",
              "                              vf_VehicleType  \n",
              "0       MULTIPURPOSE PASSENGER VEHICLE (MPV)  \n",
              "1       MULTIPURPOSE PASSENGER VEHICLE (MPV)  \n",
              "2       MULTIPURPOSE PASSENGER VEHICLE (MPV)  \n",
              "3       MULTIPURPOSE PASSENGER VEHICLE (MPV)  \n",
              "4       MULTIPURPOSE PASSENGER VEHICLE (MPV)  \n",
              "...                                      ...  \n",
              "116344  MULTIPURPOSE PASSENGER VEHICLE (MPV)  \n",
              "116345  MULTIPURPOSE PASSENGER VEHICLE (MPV)  \n",
              "116346  MULTIPURPOSE PASSENGER VEHICLE (MPV)  \n",
              "116347  MULTIPURPOSE PASSENGER VEHICLE (MPV)  \n",
              "116348  MULTIPURPOSE PASSENGER VEHICLE (MPV)  \n",
              "\n",
              "[116349 rows x 47 columns]"
            ],
            "text/html": [
              "\n",
              "  <div id=\"df-5a71ca61-4fb7-4440-b13c-0b2ab523b9f0\" class=\"colab-df-container\">\n",
              "    <div>\n",
              "<style scoped>\n",
              "    .dataframe tbody tr th:only-of-type {\n",
              "        vertical-align: middle;\n",
              "    }\n",
              "\n",
              "    .dataframe tbody tr th {\n",
              "        vertical-align: top;\n",
              "    }\n",
              "\n",
              "    .dataframe thead th {\n",
              "        text-align: right;\n",
              "    }\n",
              "</style>\n",
              "<table border=\"1\" class=\"dataframe\">\n",
              "  <thead>\n",
              "    <tr style=\"text-align: right;\">\n",
              "      <th></th>\n",
              "      <th>vin</th>\n",
              "      <th>stockNum</th>\n",
              "      <th>firstSeen</th>\n",
              "      <th>lastSeen</th>\n",
              "      <th>msrp</th>\n",
              "      <th>askPrice</th>\n",
              "      <th>mileage</th>\n",
              "      <th>isNew</th>\n",
              "      <th>color</th>\n",
              "      <th>brandName</th>\n",
              "      <th>...</th>\n",
              "      <th>vf_PlantCompanyName</th>\n",
              "      <th>vf_PlantCountry</th>\n",
              "      <th>vf_PlantState</th>\n",
              "      <th>vf_SeatBeltsAll</th>\n",
              "      <th>vf_Series</th>\n",
              "      <th>vf_TPMS</th>\n",
              "      <th>vf_TrailerBodyType</th>\n",
              "      <th>vf_TrailerType</th>\n",
              "      <th>vf_VIN</th>\n",
              "      <th>vf_VehicleType</th>\n",
              "    </tr>\n",
              "  </thead>\n",
              "  <tbody>\n",
              "    <tr>\n",
              "      <th>0</th>\n",
              "      <td>a1a36f314b932519ae0856f048fbb4b7b421eed83a6d4c...</td>\n",
              "      <td>J79183-1</td>\n",
              "      <td>2019-12-05</td>\n",
              "      <td>2020-05-06</td>\n",
              "      <td>36465</td>\n",
              "      <td>28689</td>\n",
              "      <td>7736</td>\n",
              "      <td>False</td>\n",
              "      <td>Billet Silver Metallic Clearcoat</td>\n",
              "      <td>JEEP</td>\n",
              "      <td>...</td>\n",
              "      <td>BELVIDERE ASSEMBLY</td>\n",
              "      <td>UNITED STATES (USA)</td>\n",
              "      <td>ILLINOIS</td>\n",
              "      <td>Manual</td>\n",
              "      <td>Trailhawk</td>\n",
              "      <td>Direct</td>\n",
              "      <td>Not Applicable</td>\n",
              "      <td>Not Applicable</td>\n",
              "      <td>a1a36f314b932519ae0856f048fbb4b7b421eed83a6d4c...</td>\n",
              "      <td>MULTIPURPOSE PASSENGER VEHICLE (MPV)</td>\n",
              "    </tr>\n",
              "    <tr>\n",
              "      <th>1</th>\n",
              "      <td>8af4e1bc548aeac631afa916a182e7d1725b57ac7a69b0...</td>\n",
              "      <td>12649F</td>\n",
              "      <td>2020-05-03</td>\n",
              "      <td>2020-05-21</td>\n",
              "      <td>14887</td>\n",
              "      <td>14505</td>\n",
              "      <td>0</td>\n",
              "      <td>False</td>\n",
              "      <td>Billet Clearcoat</td>\n",
              "      <td>DODGE</td>\n",
              "      <td>...</td>\n",
              "      <td>Toluca Assembly</td>\n",
              "      <td>MEXICO</td>\n",
              "      <td>STATE OF MEXICO</td>\n",
              "      <td>Manual</td>\n",
              "      <td>SXT</td>\n",
              "      <td>Direct</td>\n",
              "      <td>Not Applicable</td>\n",
              "      <td>Not Applicable</td>\n",
              "      <td>8af4e1bc548aeac631afa916a182e7d1725b57ac7a69b0...</td>\n",
              "      <td>MULTIPURPOSE PASSENGER VEHICLE (MPV)</td>\n",
              "    </tr>\n",
              "    <tr>\n",
              "      <th>2</th>\n",
              "      <td>4bb08e5895ac1e226fc35d37e913eb071cea8ce789cc24...</td>\n",
              "      <td>Touring L Plus</td>\n",
              "      <td>2018-08-13</td>\n",
              "      <td>2018-10-16</td>\n",
              "      <td>0</td>\n",
              "      <td>0</td>\n",
              "      <td>0</td>\n",
              "      <td>True</td>\n",
              "      <td>Brilliant Black Crystal Pearl-Coat Exterior Paint</td>\n",
              "      <td>CHRYSLER</td>\n",
              "      <td>...</td>\n",
              "      <td>Windsor Assembly</td>\n",
              "      <td>CANADA</td>\n",
              "      <td>ONTARIO</td>\n",
              "      <td>Manual</td>\n",
              "      <td>Touring L Plus</td>\n",
              "      <td>Direct</td>\n",
              "      <td>Not Applicable</td>\n",
              "      <td>Not Applicable</td>\n",
              "      <td>4bb08e5895ac1e226fc35d37e913eb071cea8ce789cc24...</td>\n",
              "      <td>MULTIPURPOSE PASSENGER VEHICLE (MPV)</td>\n",
              "    </tr>\n",
              "    <tr>\n",
              "      <th>3</th>\n",
              "      <td>f9225fe0632a6b379ff2e6b719f247d842fe3d850c70c8...</td>\n",
              "      <td>R/T</td>\n",
              "      <td>2018-12-14</td>\n",
              "      <td>2019-01-12</td>\n",
              "      <td>0</td>\n",
              "      <td>0</td>\n",
              "      <td>0</td>\n",
              "      <td>True</td>\n",
              "      <td>DB Black Exterior Paint</td>\n",
              "      <td>DODGE</td>\n",
              "      <td>...</td>\n",
              "      <td>JEFFERSON NORTH ASSEMBLY</td>\n",
              "      <td>UNITED STATES (USA)</td>\n",
              "      <td>MICHIGAN</td>\n",
              "      <td>Manual</td>\n",
              "      <td>R/T</td>\n",
              "      <td>Direct</td>\n",
              "      <td>Not Applicable</td>\n",
              "      <td>Not Applicable</td>\n",
              "      <td>f9225fe0632a6b379ff2e6b719f247d842fe3d850c70c8...</td>\n",
              "      <td>MULTIPURPOSE PASSENGER VEHICLE (MPV)</td>\n",
              "    </tr>\n",
              "    <tr>\n",
              "      <th>4</th>\n",
              "      <td>c909e6c0ff580f7eb53ac519faaef9e5e2de4fcc79ea2f...</td>\n",
              "      <td>38057</td>\n",
              "      <td>2018-08-05</td>\n",
              "      <td>2018-10-10</td>\n",
              "      <td>29895</td>\n",
              "      <td>28895</td>\n",
              "      <td>12528</td>\n",
              "      <td>False</td>\n",
              "      <td>Sandy Ridge</td>\n",
              "      <td>CHEVROLET</td>\n",
              "      <td>...</td>\n",
              "      <td>CAMI</td>\n",
              "      <td>CANADA</td>\n",
              "      <td>ONTARIO</td>\n",
              "      <td>Manual</td>\n",
              "      <td>Premier (1LZ)</td>\n",
              "      <td>Direct</td>\n",
              "      <td>Not Applicable</td>\n",
              "      <td>Not Applicable</td>\n",
              "      <td>c909e6c0ff580f7eb53ac519faaef9e5e2de4fcc79ea2f...</td>\n",
              "      <td>MULTIPURPOSE PASSENGER VEHICLE (MPV)</td>\n",
              "    </tr>\n",
              "    <tr>\n",
              "      <th>...</th>\n",
              "      <td>...</td>\n",
              "      <td>...</td>\n",
              "      <td>...</td>\n",
              "      <td>...</td>\n",
              "      <td>...</td>\n",
              "      <td>...</td>\n",
              "      <td>...</td>\n",
              "      <td>...</td>\n",
              "      <td>...</td>\n",
              "      <td>...</td>\n",
              "      <td>...</td>\n",
              "      <td>...</td>\n",
              "      <td>...</td>\n",
              "      <td>...</td>\n",
              "      <td>...</td>\n",
              "      <td>...</td>\n",
              "      <td>...</td>\n",
              "      <td>...</td>\n",
              "      <td>...</td>\n",
              "      <td>...</td>\n",
              "      <td>...</td>\n",
              "    </tr>\n",
              "    <tr>\n",
              "      <th>116344</th>\n",
              "      <td>143161f59a0a4551989610615430af855e9637706e8a34...</td>\n",
              "      <td>181459</td>\n",
              "      <td>2018-09-11</td>\n",
              "      <td>2018-09-13</td>\n",
              "      <td>83695</td>\n",
              "      <td>83695</td>\n",
              "      <td>0</td>\n",
              "      <td>True</td>\n",
              "      <td>Mocha</td>\n",
              "      <td>LINCOLN</td>\n",
              "      <td>...</td>\n",
              "      <td>Kentucky Truck</td>\n",
              "      <td>UNITED STATES (USA)</td>\n",
              "      <td>KENTUCKY</td>\n",
              "      <td>Manual</td>\n",
              "      <td>Reserve</td>\n",
              "      <td>Direct</td>\n",
              "      <td>Not Applicable</td>\n",
              "      <td>Not Applicable</td>\n",
              "      <td>143161f59a0a4551989610615430af855e9637706e8a34...</td>\n",
              "      <td>MULTIPURPOSE PASSENGER VEHICLE (MPV)</td>\n",
              "    </tr>\n",
              "    <tr>\n",
              "      <th>116345</th>\n",
              "      <td>6485bbd0739fc161914c7cbbde019e370a14a0fb1b17b7...</td>\n",
              "      <td>27527A</td>\n",
              "      <td>2018-11-16</td>\n",
              "      <td>2018-12-29</td>\n",
              "      <td>25500</td>\n",
              "      <td>25500</td>\n",
              "      <td>0</td>\n",
              "      <td>False</td>\n",
              "      <td>Siren Red Tintcoat</td>\n",
              "      <td>CHEVROLET</td>\n",
              "      <td>...</td>\n",
              "      <td>GMNA</td>\n",
              "      <td>UNITED STATES (USA)</td>\n",
              "      <td>MICHIGAN</td>\n",
              "      <td>Manual</td>\n",
              "      <td>1LT</td>\n",
              "      <td>Direct</td>\n",
              "      <td>Not Applicable</td>\n",
              "      <td>Not Applicable</td>\n",
              "      <td>6485bbd0739fc161914c7cbbde019e370a14a0fb1b17b7...</td>\n",
              "      <td>MULTIPURPOSE PASSENGER VEHICLE (MPV)</td>\n",
              "    </tr>\n",
              "    <tr>\n",
              "      <th>116346</th>\n",
              "      <td>a2f4a91d3441f1f8e90a3fd6164b4bdcaea9e4a4806119...</td>\n",
              "      <td>N190484</td>\n",
              "      <td>2018-11-02</td>\n",
              "      <td>2018-11-02</td>\n",
              "      <td>40950</td>\n",
              "      <td>40950</td>\n",
              "      <td>0</td>\n",
              "      <td>True</td>\n",
              "      <td>Billet Silver Metallic Clearcoat</td>\n",
              "      <td>JEEP</td>\n",
              "      <td>...</td>\n",
              "      <td>BELVIDERE ASSEMBLY</td>\n",
              "      <td>UNITED STATES (USA)</td>\n",
              "      <td>ILLINOIS</td>\n",
              "      <td>Manual</td>\n",
              "      <td>Limited</td>\n",
              "      <td>Direct</td>\n",
              "      <td>Not Applicable</td>\n",
              "      <td>Not Applicable</td>\n",
              "      <td>a2f4a91d3441f1f8e90a3fd6164b4bdcaea9e4a4806119...</td>\n",
              "      <td>MULTIPURPOSE PASSENGER VEHICLE (MPV)</td>\n",
              "    </tr>\n",
              "    <tr>\n",
              "      <th>116347</th>\n",
              "      <td>abe751eccaec60d0e1e9b7b3faca2261e8734459bc65af...</td>\n",
              "      <td>GUC67244</td>\n",
              "      <td>2019-02-27</td>\n",
              "      <td>2019-07-08</td>\n",
              "      <td>19990</td>\n",
              "      <td>19200</td>\n",
              "      <td>39670</td>\n",
              "      <td>False</td>\n",
              "      <td>Oxford White</td>\n",
              "      <td>FORD</td>\n",
              "      <td>...</td>\n",
              "      <td>Louisville Assembly</td>\n",
              "      <td>UNITED STATES (USA)</td>\n",
              "      <td>KENTUCKY</td>\n",
              "      <td>Manual</td>\n",
              "      <td>SE</td>\n",
              "      <td>Direct</td>\n",
              "      <td>Not Applicable</td>\n",
              "      <td>Not Applicable</td>\n",
              "      <td>abe751eccaec60d0e1e9b7b3faca2261e8734459bc65af...</td>\n",
              "      <td>MULTIPURPOSE PASSENGER VEHICLE (MPV)</td>\n",
              "    </tr>\n",
              "    <tr>\n",
              "      <th>116348</th>\n",
              "      <td>ac7891050b13efe561c88df827bc32a62c9df717291d11...</td>\n",
              "      <td>J20920</td>\n",
              "      <td>2018-09-11</td>\n",
              "      <td>2018-10-02</td>\n",
              "      <td>48860</td>\n",
              "      <td>45377</td>\n",
              "      <td>0</td>\n",
              "      <td>True</td>\n",
              "      <td>Bright White</td>\n",
              "      <td>JEEP</td>\n",
              "      <td>...</td>\n",
              "      <td>Toledo North Assembly</td>\n",
              "      <td>UNITED STATES (USA)</td>\n",
              "      <td>OHIO</td>\n",
              "      <td>Manual</td>\n",
              "      <td>Unlimited Sahara</td>\n",
              "      <td>Direct</td>\n",
              "      <td>Not Applicable</td>\n",
              "      <td>Not Applicable</td>\n",
              "      <td>ac7891050b13efe561c88df827bc32a62c9df717291d11...</td>\n",
              "      <td>MULTIPURPOSE PASSENGER VEHICLE (MPV)</td>\n",
              "    </tr>\n",
              "  </tbody>\n",
              "</table>\n",
              "<p>116349 rows × 47 columns</p>\n",
              "</div>\n",
              "    <div class=\"colab-df-buttons\">\n",
              "\n",
              "  <div class=\"colab-df-container\">\n",
              "    <button class=\"colab-df-convert\" onclick=\"convertToInteractive('df-5a71ca61-4fb7-4440-b13c-0b2ab523b9f0')\"\n",
              "            title=\"Convert this dataframe to an interactive table.\"\n",
              "            style=\"display:none;\">\n",
              "\n",
              "  <svg xmlns=\"http://www.w3.org/2000/svg\" height=\"24px\" viewBox=\"0 -960 960 960\">\n",
              "    <path d=\"M120-120v-720h720v720H120Zm60-500h600v-160H180v160Zm220 220h160v-160H400v160Zm0 220h160v-160H400v160ZM180-400h160v-160H180v160Zm440 0h160v-160H620v160ZM180-180h160v-160H180v160Zm440 0h160v-160H620v160Z\"/>\n",
              "  </svg>\n",
              "    </button>\n",
              "\n",
              "  <style>\n",
              "    .colab-df-container {\n",
              "      display:flex;\n",
              "      gap: 12px;\n",
              "    }\n",
              "\n",
              "    .colab-df-convert {\n",
              "      background-color: #E8F0FE;\n",
              "      border: none;\n",
              "      border-radius: 50%;\n",
              "      cursor: pointer;\n",
              "      display: none;\n",
              "      fill: #1967D2;\n",
              "      height: 32px;\n",
              "      padding: 0 0 0 0;\n",
              "      width: 32px;\n",
              "    }\n",
              "\n",
              "    .colab-df-convert:hover {\n",
              "      background-color: #E2EBFA;\n",
              "      box-shadow: 0px 1px 2px rgba(60, 64, 67, 0.3), 0px 1px 3px 1px rgba(60, 64, 67, 0.15);\n",
              "      fill: #174EA6;\n",
              "    }\n",
              "\n",
              "    .colab-df-buttons div {\n",
              "      margin-bottom: 4px;\n",
              "    }\n",
              "\n",
              "    [theme=dark] .colab-df-convert {\n",
              "      background-color: #3B4455;\n",
              "      fill: #D2E3FC;\n",
              "    }\n",
              "\n",
              "    [theme=dark] .colab-df-convert:hover {\n",
              "      background-color: #434B5C;\n",
              "      box-shadow: 0px 1px 3px 1px rgba(0, 0, 0, 0.15);\n",
              "      filter: drop-shadow(0px 1px 2px rgba(0, 0, 0, 0.3));\n",
              "      fill: #FFFFFF;\n",
              "    }\n",
              "  </style>\n",
              "\n",
              "    <script>\n",
              "      const buttonEl =\n",
              "        document.querySelector('#df-5a71ca61-4fb7-4440-b13c-0b2ab523b9f0 button.colab-df-convert');\n",
              "      buttonEl.style.display =\n",
              "        google.colab.kernel.accessAllowed ? 'block' : 'none';\n",
              "\n",
              "      async function convertToInteractive(key) {\n",
              "        const element = document.querySelector('#df-5a71ca61-4fb7-4440-b13c-0b2ab523b9f0');\n",
              "        const dataTable =\n",
              "          await google.colab.kernel.invokeFunction('convertToInteractive',\n",
              "                                                    [key], {});\n",
              "        if (!dataTable) return;\n",
              "\n",
              "        const docLinkHtml = 'Like what you see? Visit the ' +\n",
              "          '<a target=\"_blank\" href=https://colab.research.google.com/notebooks/data_table.ipynb>data table notebook</a>'\n",
              "          + ' to learn more about interactive tables.';\n",
              "        element.innerHTML = '';\n",
              "        dataTable['output_type'] = 'display_data';\n",
              "        await google.colab.output.renderOutput(dataTable, element);\n",
              "        const docLink = document.createElement('div');\n",
              "        docLink.innerHTML = docLinkHtml;\n",
              "        element.appendChild(docLink);\n",
              "      }\n",
              "    </script>\n",
              "  </div>\n",
              "\n",
              "\n",
              "<div id=\"df-8490075e-7724-4871-aec4-ccebfe9dd115\">\n",
              "  <button class=\"colab-df-quickchart\" onclick=\"quickchart('df-8490075e-7724-4871-aec4-ccebfe9dd115')\"\n",
              "            title=\"Suggest charts\"\n",
              "            style=\"display:none;\">\n",
              "\n",
              "<svg xmlns=\"http://www.w3.org/2000/svg\" height=\"24px\"viewBox=\"0 0 24 24\"\n",
              "     width=\"24px\">\n",
              "    <g>\n",
              "        <path d=\"M19 3H5c-1.1 0-2 .9-2 2v14c0 1.1.9 2 2 2h14c1.1 0 2-.9 2-2V5c0-1.1-.9-2-2-2zM9 17H7v-7h2v7zm4 0h-2V7h2v10zm4 0h-2v-4h2v4z\"/>\n",
              "    </g>\n",
              "</svg>\n",
              "  </button>\n",
              "\n",
              "<style>\n",
              "  .colab-df-quickchart {\n",
              "      --bg-color: #E8F0FE;\n",
              "      --fill-color: #1967D2;\n",
              "      --hover-bg-color: #E2EBFA;\n",
              "      --hover-fill-color: #174EA6;\n",
              "      --disabled-fill-color: #AAA;\n",
              "      --disabled-bg-color: #DDD;\n",
              "  }\n",
              "\n",
              "  [theme=dark] .colab-df-quickchart {\n",
              "      --bg-color: #3B4455;\n",
              "      --fill-color: #D2E3FC;\n",
              "      --hover-bg-color: #434B5C;\n",
              "      --hover-fill-color: #FFFFFF;\n",
              "      --disabled-bg-color: #3B4455;\n",
              "      --disabled-fill-color: #666;\n",
              "  }\n",
              "\n",
              "  .colab-df-quickchart {\n",
              "    background-color: var(--bg-color);\n",
              "    border: none;\n",
              "    border-radius: 50%;\n",
              "    cursor: pointer;\n",
              "    display: none;\n",
              "    fill: var(--fill-color);\n",
              "    height: 32px;\n",
              "    padding: 0;\n",
              "    width: 32px;\n",
              "  }\n",
              "\n",
              "  .colab-df-quickchart:hover {\n",
              "    background-color: var(--hover-bg-color);\n",
              "    box-shadow: 0 1px 2px rgba(60, 64, 67, 0.3), 0 1px 3px 1px rgba(60, 64, 67, 0.15);\n",
              "    fill: var(--button-hover-fill-color);\n",
              "  }\n",
              "\n",
              "  .colab-df-quickchart-complete:disabled,\n",
              "  .colab-df-quickchart-complete:disabled:hover {\n",
              "    background-color: var(--disabled-bg-color);\n",
              "    fill: var(--disabled-fill-color);\n",
              "    box-shadow: none;\n",
              "  }\n",
              "\n",
              "  .colab-df-spinner {\n",
              "    border: 2px solid var(--fill-color);\n",
              "    border-color: transparent;\n",
              "    border-bottom-color: var(--fill-color);\n",
              "    animation:\n",
              "      spin 1s steps(1) infinite;\n",
              "  }\n",
              "\n",
              "  @keyframes spin {\n",
              "    0% {\n",
              "      border-color: transparent;\n",
              "      border-bottom-color: var(--fill-color);\n",
              "      border-left-color: var(--fill-color);\n",
              "    }\n",
              "    20% {\n",
              "      border-color: transparent;\n",
              "      border-left-color: var(--fill-color);\n",
              "      border-top-color: var(--fill-color);\n",
              "    }\n",
              "    30% {\n",
              "      border-color: transparent;\n",
              "      border-left-color: var(--fill-color);\n",
              "      border-top-color: var(--fill-color);\n",
              "      border-right-color: var(--fill-color);\n",
              "    }\n",
              "    40% {\n",
              "      border-color: transparent;\n",
              "      border-right-color: var(--fill-color);\n",
              "      border-top-color: var(--fill-color);\n",
              "    }\n",
              "    60% {\n",
              "      border-color: transparent;\n",
              "      border-right-color: var(--fill-color);\n",
              "    }\n",
              "    80% {\n",
              "      border-color: transparent;\n",
              "      border-right-color: var(--fill-color);\n",
              "      border-bottom-color: var(--fill-color);\n",
              "    }\n",
              "    90% {\n",
              "      border-color: transparent;\n",
              "      border-bottom-color: var(--fill-color);\n",
              "    }\n",
              "  }\n",
              "</style>\n",
              "\n",
              "  <script>\n",
              "    async function quickchart(key) {\n",
              "      const quickchartButtonEl =\n",
              "        document.querySelector('#' + key + ' button');\n",
              "      quickchartButtonEl.disabled = true;  // To prevent multiple clicks.\n",
              "      quickchartButtonEl.classList.add('colab-df-spinner');\n",
              "      try {\n",
              "        const charts = await google.colab.kernel.invokeFunction(\n",
              "            'suggestCharts', [key], {});\n",
              "      } catch (error) {\n",
              "        console.error('Error during call to suggestCharts:', error);\n",
              "      }\n",
              "      quickchartButtonEl.classList.remove('colab-df-spinner');\n",
              "      quickchartButtonEl.classList.add('colab-df-quickchart-complete');\n",
              "    }\n",
              "    (() => {\n",
              "      let quickchartButtonEl =\n",
              "        document.querySelector('#df-8490075e-7724-4871-aec4-ccebfe9dd115 button');\n",
              "      quickchartButtonEl.style.display =\n",
              "        google.colab.kernel.accessAllowed ? 'block' : 'none';\n",
              "    })();\n",
              "  </script>\n",
              "</div>\n",
              "    </div>\n",
              "  </div>\n"
            ]
          },
          "metadata": {},
          "execution_count": 9
        }
      ],
      "source": [
        "df"
      ]
    },
    {
      "cell_type": "markdown",
      "source": [
        "## 3. Data Preprocessing & Exploratory Data Analysis (EDA)"
      ],
      "metadata": {
        "id": "6ox5ES0iH3Kt"
      }
    },
    {
      "cell_type": "code",
      "source": [
        "df.shape"
      ],
      "metadata": {
        "colab": {
          "base_uri": "https://localhost:8080/"
        },
        "id": "btYVZ3V9C8kn",
        "outputId": "1c155f71-539f-4925-c3b7-1084d97c735d"
      },
      "execution_count": null,
      "outputs": [
        {
          "output_type": "execute_result",
          "data": {
            "text/plain": [
              "(116349, 47)"
            ]
          },
          "metadata": {},
          "execution_count": 10
        }
      ]
    },
    {
      "cell_type": "code",
      "execution_count": null,
      "metadata": {
        "id": "zYny7ILAp7mM",
        "colab": {
          "base_uri": "https://localhost:8080/"
        },
        "outputId": "db8af743-a845-4a9b-b46f-55481c29c227"
      },
      "outputs": [
        {
          "output_type": "stream",
          "name": "stdout",
          "text": [
            "<class 'pandas.core.frame.DataFrame'>\n",
            "RangeIndex: 116349 entries, 0 to 116348\n",
            "Data columns (total 47 columns):\n",
            " #   Column                       Non-Null Count   Dtype  \n",
            "---  ------                       --------------   -----  \n",
            " 0   vin                          116349 non-null  object \n",
            " 1   stockNum                     116349 non-null  object \n",
            " 2   firstSeen                    116349 non-null  object \n",
            " 3   lastSeen                     116349 non-null  object \n",
            " 4   msrp                         116349 non-null  int64  \n",
            " 5   askPrice                     116349 non-null  int64  \n",
            " 6   mileage                      116349 non-null  int64  \n",
            " 7   isNew                        116349 non-null  bool   \n",
            " 8   color                        116349 non-null  object \n",
            " 9   brandName                    116349 non-null  object \n",
            " 10  modelName                    116349 non-null  object \n",
            " 11  dealerID                     116349 non-null  int64  \n",
            " 12  vf_AirBagLocFront            116349 non-null  object \n",
            " 13  vf_AirBagLocSide             116349 non-null  object \n",
            " 14  vf_BodyClass                 116349 non-null  object \n",
            " 15  vf_BusFloorConfigType        116349 non-null  object \n",
            " 16  vf_BusType                   116349 non-null  object \n",
            " 17  vf_CustomMotorcycleType      116349 non-null  object \n",
            " 18  vf_DisplacementCC            116349 non-null  float64\n",
            " 19  vf_DisplacementCI            116349 non-null  float64\n",
            " 20  vf_DisplacementL             116349 non-null  float64\n",
            " 21  vf_Doors                     116349 non-null  float64\n",
            " 22  vf_DriveType                 116349 non-null  object \n",
            " 23  vf_EngineConfiguration       116349 non-null  object \n",
            " 24  vf_EngineCylinders           116349 non-null  float64\n",
            " 25  vf_FuelTypePrimary           116349 non-null  object \n",
            " 26  vf_GVWR                      116349 non-null  object \n",
            " 27  vf_Make                      116349 non-null  object \n",
            " 28  vf_MakeID                    116349 non-null  float64\n",
            " 29  vf_Manufacturer              116349 non-null  object \n",
            " 30  vf_ManufacturerId            116349 non-null  float64\n",
            " 31  vf_Model                     116349 non-null  object \n",
            " 32  vf_ModelID                   116349 non-null  float64\n",
            " 33  vf_ModelYear                 116349 non-null  float64\n",
            " 34  vf_MotorcycleChassisType     116349 non-null  object \n",
            " 35  vf_MotorcycleSuspensionType  116349 non-null  object \n",
            " 36  vf_PlantCity                 116349 non-null  object \n",
            " 37  vf_PlantCompanyName          116349 non-null  object \n",
            " 38  vf_PlantCountry              116349 non-null  object \n",
            " 39  vf_PlantState                116349 non-null  object \n",
            " 40  vf_SeatBeltsAll              116349 non-null  object \n",
            " 41  vf_Series                    116349 non-null  object \n",
            " 42  vf_TPMS                      116349 non-null  object \n",
            " 43  vf_TrailerBodyType           116349 non-null  object \n",
            " 44  vf_TrailerType               116349 non-null  object \n",
            " 45  vf_VIN                       116349 non-null  object \n",
            " 46  vf_VehicleType               116349 non-null  object \n",
            "dtypes: bool(1), float64(9), int64(4), object(33)\n",
            "memory usage: 40.9+ MB\n"
          ]
        }
      ],
      "source": [
        "df.info()"
      ]
    },
    {
      "cell_type": "markdown",
      "source": [
        "There might be no null values for each columns since we are filtering the null row of data during extracting the sample of dataset."
      ],
      "metadata": {
        "id": "_7vj4AJgF9wC"
      }
    },
    {
      "cell_type": "code",
      "execution_count": null,
      "metadata": {
        "id": "9FN_ZQOxqoyz",
        "colab": {
          "base_uri": "https://localhost:8080/"
        },
        "outputId": "f874b4f0-177d-4fe4-a66d-6b18ccdb7b87"
      },
      "outputs": [
        {
          "output_type": "execute_result",
          "data": {
            "text/plain": [
              "vin                            0\n",
              "stockNum                       0\n",
              "firstSeen                      0\n",
              "lastSeen                       0\n",
              "msrp                           0\n",
              "askPrice                       0\n",
              "mileage                        0\n",
              "isNew                          0\n",
              "color                          0\n",
              "brandName                      0\n",
              "modelName                      0\n",
              "dealerID                       0\n",
              "vf_AirBagLocFront              0\n",
              "vf_AirBagLocSide               0\n",
              "vf_BodyClass                   0\n",
              "vf_BusFloorConfigType          0\n",
              "vf_BusType                     0\n",
              "vf_CustomMotorcycleType        0\n",
              "vf_DisplacementCC              0\n",
              "vf_DisplacementCI              0\n",
              "vf_DisplacementL               0\n",
              "vf_Doors                       0\n",
              "vf_DriveType                   0\n",
              "vf_EngineConfiguration         0\n",
              "vf_EngineCylinders             0\n",
              "vf_FuelTypePrimary             0\n",
              "vf_GVWR                        0\n",
              "vf_Make                        0\n",
              "vf_MakeID                      0\n",
              "vf_Manufacturer                0\n",
              "vf_ManufacturerId              0\n",
              "vf_Model                       0\n",
              "vf_ModelID                     0\n",
              "vf_ModelYear                   0\n",
              "vf_MotorcycleChassisType       0\n",
              "vf_MotorcycleSuspensionType    0\n",
              "vf_PlantCity                   0\n",
              "vf_PlantCompanyName            0\n",
              "vf_PlantCountry                0\n",
              "vf_PlantState                  0\n",
              "vf_SeatBeltsAll                0\n",
              "vf_Series                      0\n",
              "vf_TPMS                        0\n",
              "vf_TrailerBodyType             0\n",
              "vf_TrailerType                 0\n",
              "vf_VIN                         0\n",
              "vf_VehicleType                 0\n",
              "dtype: int64"
            ]
          },
          "metadata": {},
          "execution_count": 12
        }
      ],
      "source": [
        "# sum of null values in each columns\n",
        "df.isnull().sum()"
      ]
    },
    {
      "cell_type": "code",
      "execution_count": null,
      "metadata": {
        "id": "-YDgjaauG-B1",
        "colab": {
          "base_uri": "https://localhost:8080/",
          "height": 320
        },
        "outputId": "3c3bbb20-05c7-4d3b-d45d-b4225efa2723"
      },
      "outputs": [
        {
          "output_type": "execute_result",
          "data": {
            "text/plain": [
              "               msrp      askPrice        mileage       dealerID  \\\n",
              "count  1.163490e+05  1.163490e+05  116349.000000  116349.000000   \n",
              "mean   5.641291e+05  1.182654e+05   17783.287695   19391.166155   \n",
              "std    3.389935e+07  1.407736e+07   30864.313163   10644.093253   \n",
              "min    0.000000e+00  0.000000e+00       0.000000     190.000000   \n",
              "25%    1.914400e+04  1.790000e+04       0.000000   10556.000000   \n",
              "50%    2.799900e+04  2.557700e+04       0.000000   21197.000000   \n",
              "75%    3.699800e+04  3.411600e+04   26874.000000   27980.000000   \n",
              "max    2.147484e+09  2.147484e+09  377868.000000   39979.000000   \n",
              "\n",
              "       vf_DisplacementCC  vf_DisplacementCI  vf_DisplacementL       vf_Doors  \\\n",
              "count      116349.000000      116349.000000     116349.000000  116349.000000   \n",
              "mean         3003.576997         183.319327          3.004319       4.097998   \n",
              "std           928.069208          56.641326          0.928046       0.359426   \n",
              "min          1300.000000          79.330867          1.300000       2.000000   \n",
              "25%          2400.000000         146.456986          2.400000       4.000000   \n",
              "50%          3500.000000         213.583104          3.500000       4.000000   \n",
              "75%          3600.000000         219.685479          3.600000       4.000000   \n",
              "max          6600.000000         402.756711          6.600000       5.000000   \n",
              "\n",
              "       vf_EngineCylinders      vf_MakeID  vf_ManufacturerId     vf_ModelID  \\\n",
              "count       116349.000000  116349.000000      116349.000000  116349.000000   \n",
              "mean             5.243423     469.121720        1013.036794    3287.714179   \n",
              "std              1.121652      15.263991         503.324161    4281.946255   \n",
              "min              3.000000     448.000000         962.000000    1797.000000   \n",
              "25%              4.000000     460.000000         976.000000    1800.000000   \n",
              "50%              6.000000     467.000000         984.000000    1939.000000   \n",
              "75%              6.000000     478.000000         994.000000    2217.000000   \n",
              "max              8.000000    1056.000000       16405.000000   25919.000000   \n",
              "\n",
              "        vf_ModelYear  \n",
              "count  116349.000000  \n",
              "mean     2017.308709  \n",
              "std         2.232024  \n",
              "min      2008.000000  \n",
              "25%      2017.000000  \n",
              "50%      2018.000000  \n",
              "75%      2019.000000  \n",
              "max      2020.000000  "
            ],
            "text/html": [
              "\n",
              "  <div id=\"df-2a59d399-c9ec-49b4-b72b-815bb26d1d10\" class=\"colab-df-container\">\n",
              "    <div>\n",
              "<style scoped>\n",
              "    .dataframe tbody tr th:only-of-type {\n",
              "        vertical-align: middle;\n",
              "    }\n",
              "\n",
              "    .dataframe tbody tr th {\n",
              "        vertical-align: top;\n",
              "    }\n",
              "\n",
              "    .dataframe thead th {\n",
              "        text-align: right;\n",
              "    }\n",
              "</style>\n",
              "<table border=\"1\" class=\"dataframe\">\n",
              "  <thead>\n",
              "    <tr style=\"text-align: right;\">\n",
              "      <th></th>\n",
              "      <th>msrp</th>\n",
              "      <th>askPrice</th>\n",
              "      <th>mileage</th>\n",
              "      <th>dealerID</th>\n",
              "      <th>vf_DisplacementCC</th>\n",
              "      <th>vf_DisplacementCI</th>\n",
              "      <th>vf_DisplacementL</th>\n",
              "      <th>vf_Doors</th>\n",
              "      <th>vf_EngineCylinders</th>\n",
              "      <th>vf_MakeID</th>\n",
              "      <th>vf_ManufacturerId</th>\n",
              "      <th>vf_ModelID</th>\n",
              "      <th>vf_ModelYear</th>\n",
              "    </tr>\n",
              "  </thead>\n",
              "  <tbody>\n",
              "    <tr>\n",
              "      <th>count</th>\n",
              "      <td>1.163490e+05</td>\n",
              "      <td>1.163490e+05</td>\n",
              "      <td>116349.000000</td>\n",
              "      <td>116349.000000</td>\n",
              "      <td>116349.000000</td>\n",
              "      <td>116349.000000</td>\n",
              "      <td>116349.000000</td>\n",
              "      <td>116349.000000</td>\n",
              "      <td>116349.000000</td>\n",
              "      <td>116349.000000</td>\n",
              "      <td>116349.000000</td>\n",
              "      <td>116349.000000</td>\n",
              "      <td>116349.000000</td>\n",
              "    </tr>\n",
              "    <tr>\n",
              "      <th>mean</th>\n",
              "      <td>5.641291e+05</td>\n",
              "      <td>1.182654e+05</td>\n",
              "      <td>17783.287695</td>\n",
              "      <td>19391.166155</td>\n",
              "      <td>3003.576997</td>\n",
              "      <td>183.319327</td>\n",
              "      <td>3.004319</td>\n",
              "      <td>4.097998</td>\n",
              "      <td>5.243423</td>\n",
              "      <td>469.121720</td>\n",
              "      <td>1013.036794</td>\n",
              "      <td>3287.714179</td>\n",
              "      <td>2017.308709</td>\n",
              "    </tr>\n",
              "    <tr>\n",
              "      <th>std</th>\n",
              "      <td>3.389935e+07</td>\n",
              "      <td>1.407736e+07</td>\n",
              "      <td>30864.313163</td>\n",
              "      <td>10644.093253</td>\n",
              "      <td>928.069208</td>\n",
              "      <td>56.641326</td>\n",
              "      <td>0.928046</td>\n",
              "      <td>0.359426</td>\n",
              "      <td>1.121652</td>\n",
              "      <td>15.263991</td>\n",
              "      <td>503.324161</td>\n",
              "      <td>4281.946255</td>\n",
              "      <td>2.232024</td>\n",
              "    </tr>\n",
              "    <tr>\n",
              "      <th>min</th>\n",
              "      <td>0.000000e+00</td>\n",
              "      <td>0.000000e+00</td>\n",
              "      <td>0.000000</td>\n",
              "      <td>190.000000</td>\n",
              "      <td>1300.000000</td>\n",
              "      <td>79.330867</td>\n",
              "      <td>1.300000</td>\n",
              "      <td>2.000000</td>\n",
              "      <td>3.000000</td>\n",
              "      <td>448.000000</td>\n",
              "      <td>962.000000</td>\n",
              "      <td>1797.000000</td>\n",
              "      <td>2008.000000</td>\n",
              "    </tr>\n",
              "    <tr>\n",
              "      <th>25%</th>\n",
              "      <td>1.914400e+04</td>\n",
              "      <td>1.790000e+04</td>\n",
              "      <td>0.000000</td>\n",
              "      <td>10556.000000</td>\n",
              "      <td>2400.000000</td>\n",
              "      <td>146.456986</td>\n",
              "      <td>2.400000</td>\n",
              "      <td>4.000000</td>\n",
              "      <td>4.000000</td>\n",
              "      <td>460.000000</td>\n",
              "      <td>976.000000</td>\n",
              "      <td>1800.000000</td>\n",
              "      <td>2017.000000</td>\n",
              "    </tr>\n",
              "    <tr>\n",
              "      <th>50%</th>\n",
              "      <td>2.799900e+04</td>\n",
              "      <td>2.557700e+04</td>\n",
              "      <td>0.000000</td>\n",
              "      <td>21197.000000</td>\n",
              "      <td>3500.000000</td>\n",
              "      <td>213.583104</td>\n",
              "      <td>3.500000</td>\n",
              "      <td>4.000000</td>\n",
              "      <td>6.000000</td>\n",
              "      <td>467.000000</td>\n",
              "      <td>984.000000</td>\n",
              "      <td>1939.000000</td>\n",
              "      <td>2018.000000</td>\n",
              "    </tr>\n",
              "    <tr>\n",
              "      <th>75%</th>\n",
              "      <td>3.699800e+04</td>\n",
              "      <td>3.411600e+04</td>\n",
              "      <td>26874.000000</td>\n",
              "      <td>27980.000000</td>\n",
              "      <td>3600.000000</td>\n",
              "      <td>219.685479</td>\n",
              "      <td>3.600000</td>\n",
              "      <td>4.000000</td>\n",
              "      <td>6.000000</td>\n",
              "      <td>478.000000</td>\n",
              "      <td>994.000000</td>\n",
              "      <td>2217.000000</td>\n",
              "      <td>2019.000000</td>\n",
              "    </tr>\n",
              "    <tr>\n",
              "      <th>max</th>\n",
              "      <td>2.147484e+09</td>\n",
              "      <td>2.147484e+09</td>\n",
              "      <td>377868.000000</td>\n",
              "      <td>39979.000000</td>\n",
              "      <td>6600.000000</td>\n",
              "      <td>402.756711</td>\n",
              "      <td>6.600000</td>\n",
              "      <td>5.000000</td>\n",
              "      <td>8.000000</td>\n",
              "      <td>1056.000000</td>\n",
              "      <td>16405.000000</td>\n",
              "      <td>25919.000000</td>\n",
              "      <td>2020.000000</td>\n",
              "    </tr>\n",
              "  </tbody>\n",
              "</table>\n",
              "</div>\n",
              "    <div class=\"colab-df-buttons\">\n",
              "\n",
              "  <div class=\"colab-df-container\">\n",
              "    <button class=\"colab-df-convert\" onclick=\"convertToInteractive('df-2a59d399-c9ec-49b4-b72b-815bb26d1d10')\"\n",
              "            title=\"Convert this dataframe to an interactive table.\"\n",
              "            style=\"display:none;\">\n",
              "\n",
              "  <svg xmlns=\"http://www.w3.org/2000/svg\" height=\"24px\" viewBox=\"0 -960 960 960\">\n",
              "    <path d=\"M120-120v-720h720v720H120Zm60-500h600v-160H180v160Zm220 220h160v-160H400v160Zm0 220h160v-160H400v160ZM180-400h160v-160H180v160Zm440 0h160v-160H620v160ZM180-180h160v-160H180v160Zm440 0h160v-160H620v160Z\"/>\n",
              "  </svg>\n",
              "    </button>\n",
              "\n",
              "  <style>\n",
              "    .colab-df-container {\n",
              "      display:flex;\n",
              "      gap: 12px;\n",
              "    }\n",
              "\n",
              "    .colab-df-convert {\n",
              "      background-color: #E8F0FE;\n",
              "      border: none;\n",
              "      border-radius: 50%;\n",
              "      cursor: pointer;\n",
              "      display: none;\n",
              "      fill: #1967D2;\n",
              "      height: 32px;\n",
              "      padding: 0 0 0 0;\n",
              "      width: 32px;\n",
              "    }\n",
              "\n",
              "    .colab-df-convert:hover {\n",
              "      background-color: #E2EBFA;\n",
              "      box-shadow: 0px 1px 2px rgba(60, 64, 67, 0.3), 0px 1px 3px 1px rgba(60, 64, 67, 0.15);\n",
              "      fill: #174EA6;\n",
              "    }\n",
              "\n",
              "    .colab-df-buttons div {\n",
              "      margin-bottom: 4px;\n",
              "    }\n",
              "\n",
              "    [theme=dark] .colab-df-convert {\n",
              "      background-color: #3B4455;\n",
              "      fill: #D2E3FC;\n",
              "    }\n",
              "\n",
              "    [theme=dark] .colab-df-convert:hover {\n",
              "      background-color: #434B5C;\n",
              "      box-shadow: 0px 1px 3px 1px rgba(0, 0, 0, 0.15);\n",
              "      filter: drop-shadow(0px 1px 2px rgba(0, 0, 0, 0.3));\n",
              "      fill: #FFFFFF;\n",
              "    }\n",
              "  </style>\n",
              "\n",
              "    <script>\n",
              "      const buttonEl =\n",
              "        document.querySelector('#df-2a59d399-c9ec-49b4-b72b-815bb26d1d10 button.colab-df-convert');\n",
              "      buttonEl.style.display =\n",
              "        google.colab.kernel.accessAllowed ? 'block' : 'none';\n",
              "\n",
              "      async function convertToInteractive(key) {\n",
              "        const element = document.querySelector('#df-2a59d399-c9ec-49b4-b72b-815bb26d1d10');\n",
              "        const dataTable =\n",
              "          await google.colab.kernel.invokeFunction('convertToInteractive',\n",
              "                                                    [key], {});\n",
              "        if (!dataTable) return;\n",
              "\n",
              "        const docLinkHtml = 'Like what you see? Visit the ' +\n",
              "          '<a target=\"_blank\" href=https://colab.research.google.com/notebooks/data_table.ipynb>data table notebook</a>'\n",
              "          + ' to learn more about interactive tables.';\n",
              "        element.innerHTML = '';\n",
              "        dataTable['output_type'] = 'display_data';\n",
              "        await google.colab.output.renderOutput(dataTable, element);\n",
              "        const docLink = document.createElement('div');\n",
              "        docLink.innerHTML = docLinkHtml;\n",
              "        element.appendChild(docLink);\n",
              "      }\n",
              "    </script>\n",
              "  </div>\n",
              "\n",
              "\n",
              "<div id=\"df-4aefd28c-fb31-41b5-9e06-43836123d9db\">\n",
              "  <button class=\"colab-df-quickchart\" onclick=\"quickchart('df-4aefd28c-fb31-41b5-9e06-43836123d9db')\"\n",
              "            title=\"Suggest charts\"\n",
              "            style=\"display:none;\">\n",
              "\n",
              "<svg xmlns=\"http://www.w3.org/2000/svg\" height=\"24px\"viewBox=\"0 0 24 24\"\n",
              "     width=\"24px\">\n",
              "    <g>\n",
              "        <path d=\"M19 3H5c-1.1 0-2 .9-2 2v14c0 1.1.9 2 2 2h14c1.1 0 2-.9 2-2V5c0-1.1-.9-2-2-2zM9 17H7v-7h2v7zm4 0h-2V7h2v10zm4 0h-2v-4h2v4z\"/>\n",
              "    </g>\n",
              "</svg>\n",
              "  </button>\n",
              "\n",
              "<style>\n",
              "  .colab-df-quickchart {\n",
              "      --bg-color: #E8F0FE;\n",
              "      --fill-color: #1967D2;\n",
              "      --hover-bg-color: #E2EBFA;\n",
              "      --hover-fill-color: #174EA6;\n",
              "      --disabled-fill-color: #AAA;\n",
              "      --disabled-bg-color: #DDD;\n",
              "  }\n",
              "\n",
              "  [theme=dark] .colab-df-quickchart {\n",
              "      --bg-color: #3B4455;\n",
              "      --fill-color: #D2E3FC;\n",
              "      --hover-bg-color: #434B5C;\n",
              "      --hover-fill-color: #FFFFFF;\n",
              "      --disabled-bg-color: #3B4455;\n",
              "      --disabled-fill-color: #666;\n",
              "  }\n",
              "\n",
              "  .colab-df-quickchart {\n",
              "    background-color: var(--bg-color);\n",
              "    border: none;\n",
              "    border-radius: 50%;\n",
              "    cursor: pointer;\n",
              "    display: none;\n",
              "    fill: var(--fill-color);\n",
              "    height: 32px;\n",
              "    padding: 0;\n",
              "    width: 32px;\n",
              "  }\n",
              "\n",
              "  .colab-df-quickchart:hover {\n",
              "    background-color: var(--hover-bg-color);\n",
              "    box-shadow: 0 1px 2px rgba(60, 64, 67, 0.3), 0 1px 3px 1px rgba(60, 64, 67, 0.15);\n",
              "    fill: var(--button-hover-fill-color);\n",
              "  }\n",
              "\n",
              "  .colab-df-quickchart-complete:disabled,\n",
              "  .colab-df-quickchart-complete:disabled:hover {\n",
              "    background-color: var(--disabled-bg-color);\n",
              "    fill: var(--disabled-fill-color);\n",
              "    box-shadow: none;\n",
              "  }\n",
              "\n",
              "  .colab-df-spinner {\n",
              "    border: 2px solid var(--fill-color);\n",
              "    border-color: transparent;\n",
              "    border-bottom-color: var(--fill-color);\n",
              "    animation:\n",
              "      spin 1s steps(1) infinite;\n",
              "  }\n",
              "\n",
              "  @keyframes spin {\n",
              "    0% {\n",
              "      border-color: transparent;\n",
              "      border-bottom-color: var(--fill-color);\n",
              "      border-left-color: var(--fill-color);\n",
              "    }\n",
              "    20% {\n",
              "      border-color: transparent;\n",
              "      border-left-color: var(--fill-color);\n",
              "      border-top-color: var(--fill-color);\n",
              "    }\n",
              "    30% {\n",
              "      border-color: transparent;\n",
              "      border-left-color: var(--fill-color);\n",
              "      border-top-color: var(--fill-color);\n",
              "      border-right-color: var(--fill-color);\n",
              "    }\n",
              "    40% {\n",
              "      border-color: transparent;\n",
              "      border-right-color: var(--fill-color);\n",
              "      border-top-color: var(--fill-color);\n",
              "    }\n",
              "    60% {\n",
              "      border-color: transparent;\n",
              "      border-right-color: var(--fill-color);\n",
              "    }\n",
              "    80% {\n",
              "      border-color: transparent;\n",
              "      border-right-color: var(--fill-color);\n",
              "      border-bottom-color: var(--fill-color);\n",
              "    }\n",
              "    90% {\n",
              "      border-color: transparent;\n",
              "      border-bottom-color: var(--fill-color);\n",
              "    }\n",
              "  }\n",
              "</style>\n",
              "\n",
              "  <script>\n",
              "    async function quickchart(key) {\n",
              "      const quickchartButtonEl =\n",
              "        document.querySelector('#' + key + ' button');\n",
              "      quickchartButtonEl.disabled = true;  // To prevent multiple clicks.\n",
              "      quickchartButtonEl.classList.add('colab-df-spinner');\n",
              "      try {\n",
              "        const charts = await google.colab.kernel.invokeFunction(\n",
              "            'suggestCharts', [key], {});\n",
              "      } catch (error) {\n",
              "        console.error('Error during call to suggestCharts:', error);\n",
              "      }\n",
              "      quickchartButtonEl.classList.remove('colab-df-spinner');\n",
              "      quickchartButtonEl.classList.add('colab-df-quickchart-complete');\n",
              "    }\n",
              "    (() => {\n",
              "      let quickchartButtonEl =\n",
              "        document.querySelector('#df-4aefd28c-fb31-41b5-9e06-43836123d9db button');\n",
              "      quickchartButtonEl.style.display =\n",
              "        google.colab.kernel.accessAllowed ? 'block' : 'none';\n",
              "    })();\n",
              "  </script>\n",
              "</div>\n",
              "    </div>\n",
              "  </div>\n"
            ]
          },
          "metadata": {},
          "execution_count": 13
        }
      ],
      "source": [
        "df.describe()"
      ]
    },
    {
      "cell_type": "markdown",
      "source": [
        "The unique values in each columns is examined to make decisions on the needs to drop the no variability columns and changing to the suitable datatypes."
      ],
      "metadata": {
        "id": "b9NavFmOIOfd"
      }
    },
    {
      "cell_type": "code",
      "execution_count": null,
      "metadata": {
        "id": "Hb5UOgf1DDy8",
        "colab": {
          "base_uri": "https://localhost:8080/"
        },
        "outputId": "6356f7c0-dd0d-4490-ecba-7c342fb7fecf"
      },
      "outputs": [
        {
          "output_type": "stream",
          "name": "stdout",
          "text": [
            "Unique values in vin: 83750\n",
            "Unique values in stockNum: 76968\n",
            "Unique values in firstSeen: 1275\n",
            "Unique values in lastSeen: 731\n",
            "Unique values in msrp: 20090\n",
            "Unique values in askPrice: 27380\n",
            "Unique values in mileage: 27786\n",
            "Unique values in isNew: 2\n",
            "Unique values in color: 1966\n",
            "Unique values in brandName: 20\n",
            "Unique values in modelName: 63\n",
            "Unique values in dealerID: 1120\n",
            "Unique values in vf_AirBagLocSide: 4\n",
            "Unique values in vf_BodyClass: 8\n",
            "Unique values in vf_DisplacementCC: 33\n",
            "Unique values in vf_DisplacementCI: 33\n",
            "Unique values in vf_DisplacementL: 30\n",
            "Unique values in vf_Doors: 3\n",
            "Unique values in vf_DriveType: 6\n",
            "Unique values in vf_EngineConfiguration: 2\n",
            "Unique values in vf_EngineCylinders: 5\n",
            "Unique values in vf_FuelTypePrimary: 4\n",
            "Unique values in vf_GVWR: 8\n",
            "Unique values in vf_Make: 20\n",
            "Unique values in vf_MakeID: 20\n",
            "Unique values in vf_Manufacturer: 16\n",
            "Unique values in vf_ManufacturerId: 16\n",
            "Unique values in vf_Model: 63\n",
            "Unique values in vf_ModelID: 63\n",
            "Unique values in vf_ModelYear: 13\n",
            "Unique values in vf_PlantCity: 44\n",
            "Unique values in vf_PlantCompanyName: 45\n",
            "Unique values in vf_PlantCountry: 6\n",
            "Unique values in vf_PlantState: 25\n",
            "Unique values in vf_Series: 244\n",
            "Unique values in vf_TPMS: 2\n",
            "Unique values in vf_VIN: 83750\n",
            "Unique values in vf_VehicleType: 3\n",
            "Columns which does not have variability and dropped: ['vf_AirBagLocFront', 'vf_BusFloorConfigType', 'vf_BusType', 'vf_CustomMotorcycleType', 'vf_MotorcycleChassisType', 'vf_MotorcycleSuspensionType', 'vf_SeatBeltsAll', 'vf_TrailerBodyType', 'vf_TrailerType']\n"
          ]
        }
      ],
      "source": [
        "No_variability_column = []\n",
        "for column in df.columns:\n",
        "  # Drop columns which does not have variability (no variability column contribute nothing for analysis)\n",
        "  if len(df[column].unique()) == 1:\n",
        "    df.drop(columns=column, inplace=True)\n",
        "    No_variability_column.append(column)\n",
        "    continue\n",
        "\n",
        "  # Change the datatype of the column with less unique value to categorical type\n",
        "  if len(df[column].unique()) < 2000 and column != 'isNew':\n",
        "    if column == 'vf_DisplacementCC' or column == 'vf_DisplacementCI' or column == 'vf_DisplacementL':\n",
        "      df[column] = df[column].astype('float64')\n",
        "    else:\n",
        "      if column in ['vf_Doors', 'vf_EngineCylinders', 'vf_MakeID', 'vf_ManufacturerId', 'vf_ModelID', 'vf_ModelYear']:\n",
        "        df[column] = df[column].astype('int64')\n",
        "      df[column] = df[column].astype('category')\n",
        "\n",
        "  print(\"Unique values in {}: {}\".format(column, len(df[column].unique())))\n",
        "\n",
        "print(\"Columns which does not have variability and dropped: {}\".format(No_variability_column))"
      ]
    },
    {
      "cell_type": "markdown",
      "source": [
        "Examined the unique values in each columns."
      ],
      "metadata": {
        "id": "ujq_U5XJLVJV"
      }
    },
    {
      "cell_type": "code",
      "source": [
        "i = 0\n",
        "for column in df.columns:\n",
        "  print(str(i) + \": Columns \" + column)\n",
        "  print(df[column].unique())\n",
        "  print()\n",
        "  i += 1"
      ],
      "metadata": {
        "id": "OmlxZ8eKLSgU",
        "colab": {
          "base_uri": "https://localhost:8080/"
        },
        "outputId": "8bd509e6-9bfa-438b-c78f-82009cee943e"
      },
      "execution_count": null,
      "outputs": [
        {
          "output_type": "stream",
          "name": "stdout",
          "text": [
            "0: Columns vin\n",
            "['a1a36f314b932519ae0856f048fbb4b7b421eed83a6d4cf14025218a8a14756c'\n",
            " '8af4e1bc548aeac631afa916a182e7d1725b57ac7a69b0143f69e05664467ff9'\n",
            " '4bb08e5895ac1e226fc35d37e913eb071cea8ce789cc241863633abbb0b03051' ...\n",
            " '143161f59a0a4551989610615430af855e9637706e8a34dbcd21a7423890c42f'\n",
            " '6485bbd0739fc161914c7cbbde019e370a14a0fb1b17b7825c24d3fa4d8fcaae'\n",
            " 'a2f4a91d3441f1f8e90a3fd6164b4bdcaea9e4a4806119a62064314997946129']\n",
            "\n",
            "1: Columns stockNum\n",
            "['J79183-1' '12649F' 'Touring L Plus' ... 'J21003' '181459' '27527A']\n",
            "\n",
            "2: Columns firstSeen\n",
            "['2019-12-05', '2020-05-03', '2018-08-13', '2018-12-14', '2018-08-05', ..., '2017-02-26', '2017-11-13', '2017-06-26', '2017-05-14', '2017-04-02']\n",
            "Length: 1275\n",
            "Categories (1275, object): ['2016-05-17', '2016-05-30', '2016-06-19', '2016-06-29', ..., '2020-05-29',\n",
            "                            '2020-05-30', '2020-05-31', '2021-03-04']\n",
            "\n",
            "3: Columns lastSeen\n",
            "['2020-05-06', '2020-05-21', '2018-10-16', '2019-01-12', '2018-10-10', ..., '2020-03-30', '2020-01-19', '2020-05-10', '2020-03-22', '2020-04-26']\n",
            "Length: 731\n",
            "Categories (731, object): ['2018-06-01', '2018-06-02', '2018-06-03', '2018-06-04', ..., '2020-05-28',\n",
            "                           '2020-05-29', '2020-05-30', '2020-05-31']\n",
            "\n",
            "4: Columns msrp\n",
            "[36465 14887     0 ... 11833 38839 83695]\n",
            "\n",
            "5: Columns askPrice\n",
            "[28689 14505     0 ... 28321 36533 83695]\n",
            "\n",
            "6: Columns mileage\n",
            "[  7736      0  12528 ...  30366  28155 126432]\n",
            "\n",
            "7: Columns isNew\n",
            "[False  True]\n",
            "\n",
            "8: Columns color\n",
            "['Billet Silver Metallic Clearcoat', 'Billet Clearcoat', 'Brilliant Black Crystal Pearl-Coat Exterior P..., 'DB Black Exterior Paint', 'Sandy Ridge', ..., 'Gaz White', 'Sandy Ridg', 'Granite Pearlcoat Gray', 'Amore Red Metallic Exterior Paint', 'Silver Smoke Metallic']\n",
            "Length: 1966\n",
            "Categories (1966, object): [' Beige', ' Billet Silver Metallic Clear-Coat Exterior C...,\n",
            "                            ' Blue', ' Classic Silver Metallic', ..., 'stone blue metallic',\n",
            "                            'taupe gray metallic', 'walnut brown metallic clearcoat', 'white']\n",
            "\n",
            "9: Columns brandName\n",
            "['JEEP', 'DODGE', 'CHRYSLER', 'CHEVROLET', 'TOYOTA', ..., 'MERCEDES-BENZ', 'SATURN', 'HUMMER', 'FIAT', 'MAZDA']\n",
            "Length: 20\n",
            "Categories (20, object): ['ALFA ROMEO', 'BUICK', 'CADILLAC', 'CHEVROLET', ..., 'MERCURY', 'NISSAN',\n",
            "                          'SATURN', 'TOYOTA']\n",
            "\n",
            "10: Columns modelName\n",
            "['Cherokee', 'Journey', 'Pacifica', 'Durango', 'Equinox', ..., 'H3', '500X', 'Tribute', 'Voyager', 'Yukon XL']\n",
            "Length: 63\n",
            "Categories (63, object): ['4-Runner', '500X', 'Acadia', 'Armada', ..., 'Wrangler JK', 'XT5', 'Yukon',\n",
            "                          'Yukon XL']\n",
            "\n",
            "11: Columns dealerID\n",
            "[22294, 7514, 4363, 32013, 10244, ..., 38147, 22626, 422, 34613, 25057]\n",
            "Length: 1120\n",
            "Categories (1120, int64): [190, 191, 315, 316, ..., 39919, 39934, 39974, 39979]\n",
            "\n",
            "12: Columns vf_AirBagLocSide\n",
            "['All Rows', '1st Row (Driver & Passenger)', '1st & 2nd & 3rd Rows', '1st & 2nd Rows']\n",
            "Categories (4, object): ['1st & 2nd & 3rd Rows', '1st & 2nd Rows', '1st Row (Driver & Passenger)',\n",
            "                         'All Rows']\n",
            "\n",
            "13: Columns vf_BodyClass\n",
            "['Sport Utility Vehicle (SUV)/Multi-Purpose Veh..., 'Hatchback/Liftback/Notchback', 'Minivan', 'Wagon', 'Pickup', 'Sedan/Saloon', 'Crossover Utility Vehicle (CUV)', 'Sport Utility Truck (SUT)']\n",
            "Categories (8, object): ['Crossover Utility Vehicle (CUV)', 'Hatchback/Liftback/Notchback', 'Minivan', 'Pickup',\n",
            "                         'Sedan/Saloon', 'Sport Utility Truck (SUT)',\n",
            "                         'Sport Utility Vehicle (SUV)/Multi-Purpose Veh..., 'Wagon']\n",
            "\n",
            "14: Columns vf_DisplacementCC\n",
            "[2000. 3600. 5700. 1500. 2500. 3500. 2487. 2400. 4600. 2300. 6600. 3200.\n",
            " 2700. 3456. 1600. 1400. 4000. 4300. 3000. 3700. 5300. 5400. 2800. 6400.\n",
            " 5600. 2362. 2900. 3300. 6200. 2100. 4700. 1300. 5500.]\n",
            "\n",
            "15: Columns vf_DisplacementCI\n",
            "[122.04748819 219.68547874 347.83534134  91.53561614 152.55936024\n",
            " 213.58310433 152.         146.45698583 280.70922284 140.35461142\n",
            " 402.75671103 195.2759811  122.04748819 164.76410906  97.63799055\n",
            "  85.43324173 244.09497638 262.40209961 183.07123228 225.78785315\n",
            " 323.4258437  329.52821811 170.86648347 390.55196221 341.73296693\n",
            " 183.07123228 176.96885787 201.37835551 378.34721339 128.1498626\n",
            " 286.81159725  79.33086732 335.63059252]\n",
            "\n",
            "16: Columns vf_DisplacementL\n",
            "[2.  3.6 5.7 1.5 2.5 3.5 2.4 4.6 2.3 6.6 3.2 2.7 1.6 1.4 4.  4.3 3.  3.7\n",
            " 5.3 5.4 2.8 6.4 5.6 2.9 3.3 6.2 2.1 4.7 1.3 5.5]\n",
            "\n",
            "17: Columns vf_Doors\n",
            "[4, 5, 2]\n",
            "Categories (3, int64): [2, 4, 5]\n",
            "\n",
            "18: Columns vf_DriveType\n",
            "['4WD/4-Wheel Drive/4x4', 'FWD/Front Wheel Drive', '2WD/4WD', 'AWD/All Wheel Drive', '4x2', 'RWD/ Rear Wheel Drive']\n",
            "Categories (6, object): ['2WD/4WD', '4WD/4-Wheel Drive/4x4', '4x2', 'AWD/All Wheel Drive',\n",
            "                         'FWD/Front Wheel Drive', 'RWD/ Rear Wheel Drive']\n",
            "\n",
            "19: Columns vf_EngineConfiguration\n",
            "['In-Line', 'V-Shaped']\n",
            "Categories (2, object): ['In-Line', 'V-Shaped']\n",
            "\n",
            "20: Columns vf_EngineCylinders\n",
            "[4, 6, 8, 3, 5]\n",
            "Categories (5, int64): [3, 4, 5, 6, 8]\n",
            "\n",
            "21: Columns vf_FuelTypePrimary\n",
            "['Gasoline', 'Flexible Fuel Vehicle (FFV)', 'Diesel', 'Electric']\n",
            "Categories (4, object): ['Diesel', 'Electric', 'Flexible Fuel Vehicle (FFV)', 'Gasoline']\n",
            "\n",
            "22: Columns vf_GVWR\n",
            "['Class 1D: 5001 - 6000 lb (2268 - 2722 kg)', 'Class 2E: 6001 - 7000 lb (2722 - 3175 kg)', 'Class 2F: 7001 - 8000 lb (3175 - 3629 kg)', 'Class 1C: 4001 - 5000 lb (1814 - 2268 kg)', 'Class 2H: 9001 - 10000 lb (4082 - 4536 kg)', 'Class 3: 10001 - 14000 lb (4536 - 6350 kg)', 'Class 2: 6001 - 10000 lb (2722 - 4536 kg)', 'Class 1: 6000 lb or less (2722 kg or less)']\n",
            "Categories (8, object): ['Class 1: 6000 lb or less (2722 kg or less)', 'Class 1C: 4001 - 5000 lb (1814 - 2268 kg)',\n",
            "                         'Class 1D: 5001 - 6000 lb (2268 - 2722 kg)', 'Class 2: 6001 - 10000 lb (2722 - 4536 kg)',\n",
            "                         'Class 2E: 6001 - 7000 lb (2722 - 3175 kg)', 'Class 2F: 7001 - 8000 lb (3175 - 3629 kg)',\n",
            "                         'Class 2H: 9001 - 10000 lb (4082 - 4536 kg)', 'Class 3: 10001 - 14000 lb (4536 - 6350 kg)']\n",
            "\n",
            "23: Columns vf_Make\n",
            "['JEEP', 'DODGE', 'CHRYSLER', 'CHEVROLET', 'TOYOTA', ..., 'MERCEDES-BENZ', 'SATURN', 'HUMMER', 'FIAT', 'MAZDA']\n",
            "Length: 20\n",
            "Categories (20, object): ['ALFA ROMEO', 'BUICK', 'CADILLAC', 'CHEVROLET', ..., 'MERCURY', 'NISSAN',\n",
            "                          'SATURN', 'TOYOTA']\n",
            "\n",
            "24: Columns vf_MakeID\n",
            "[483, 476, 477, 467, 448, ..., 449, 1056, 951, 492, 473]\n",
            "Length: 20\n",
            "Categories (20, int64): [448, 449, 460, 464, ..., 493, 515, 951, 1056]\n",
            "\n",
            "25: Columns vf_Manufacturer\n",
            "['FCA US LLC', 'CHRYSLER DE MEXICO TOLUCA', 'FCA CANADA INC.', 'GENERAL MOTORS LLC', 'TOYOTA MOTOR MANUFACTURING CANADA', ..., 'TOYOTA MOTOR MANUFACTURING INDIANA INC.', 'TOYOTA MOTOR MANUFACTURINGTURKEY INC.', 'NISSAN MOTOR COMPANY LTD', 'MERCEDES-BENZ OF NORTH AMERICA INC.', 'FCA ITALY S.P.A.']\n",
            "Length: 16\n",
            "Categories (16, object): ['ALFA ROMEO S.P.A.', 'CHRYSLER DE MEXICO TOLUCA', 'FCA CANADA INC.',\n",
            "                          'FCA ITALY S.P.A.', ..., 'TOYOTA MOTOR MANUFACTURING CANADA',\n",
            "                          'TOYOTA MOTOR MANUFACTURING INDIANA INC.', 'TOYOTA MOTOR MANUFACTURINGTURKEY INC.',\n",
            "                          'TOYOTA MOTOR NORTH AMERICA INC']\n",
            "\n",
            "26: Columns vf_ManufacturerId\n",
            "[994, 1002, 995, 984, 1085, ..., 1087, 16405, 996, 1043, 1029]\n",
            "Length: 16\n",
            "Categories (16, int64): [962, 976, 977, 984, ..., 1085, 1087, 4834, 16405]\n",
            "\n",
            "27: Columns vf_Model\n",
            "['Cherokee', 'Journey', 'Pacifica', 'Durango', 'Equinox', ..., 'H3', '500X', 'Tribute', 'Voyager', 'Yukon XL']\n",
            "Length: 63\n",
            "Categories (63, object): ['4-Runner', '500X', 'Acadia', 'Armada', ..., 'Wrangler JK', 'XT5', 'Yukon',\n",
            "                          'Yukon XL']\n",
            "\n",
            "28: Columns vf_ModelID\n",
            "[1945, 1939, 3628, 3508, 1847, ..., 4599, 10396, 1860, 15131, 4579]\n",
            "Length: 63\n",
            "Categories (63, int64): [1797, 1798, 1799, 1800, ..., 25596, 25741, 25742, 25919]\n",
            "\n",
            "29: Columns vf_ModelYear\n",
            "[2019, 2018, 2017, 2016, 2012, ..., 2020, 2010, 2011, 2009, 2008]\n",
            "Length: 13\n",
            "Categories (13, int64): [2008, 2009, 2010, 2011, ..., 2017, 2018, 2019, 2020]\n",
            "\n",
            "30: Columns vf_PlantCity\n",
            "['BELVIDERE', 'TOLUCA', 'WINDSOR', 'DETROIT', 'INGERSOLL', ..., 'SILAO', 'KANSAS CITY', 'SHONAN PLANT HIRATSUKA', 'SHREVEPORT', 'MELFI']\n",
            "Length: 44\n",
            "Categories (44, object): ['ARIFIYE', 'ARLINGTON', 'BELVIDERE', 'CAMBRIDGE', ..., 'WENTZVILLE',\n",
            "                          'WINDSOR', 'WOODSTOCK', 'YOSHIWARA']\n",
            "\n",
            "31: Columns vf_PlantCompanyName\n",
            "['BELVIDERE ASSEMBLY', 'Toluca Assembly', 'Windsor Assembly', 'JEFFERSON NORTH ASSEMBLY', 'CAMI', ..., 'KANTO AUTO WORKS LTD.', 'Lansing Delta Township', 'Mercedes-Ben USA', 'Kansas City', 'SATA Assembly']\n",
            "Length: 45\n",
            "Categories (45, object): ['BELVIDERE ASSEMBLY', 'Belvidere Assembly', 'CAMI', 'CASSINO Assembly', ...,\n",
            "                          'Toyota Motor Manufacturing Canada Inc', 'Toyota Motor Manufacturing Canada Inc.',\n",
            "                          'WINDSOR ASSEMBLY', 'Windsor Assembly']\n",
            "\n",
            "32: Columns vf_PlantCountry\n",
            "['UNITED STATES (USA)', 'MEXICO', 'CANADA', 'JAPAN', 'ITALY', 'TURKEY']\n",
            "Categories (6, object): ['CANADA', 'ITALY', 'JAPAN', 'MEXICO', 'TURKEY', 'UNITED STATES (USA)']\n",
            "\n",
            "33: Columns vf_PlantState\n",
            "['ILLINOIS', 'STATE OF MEXICO', 'ONTARIO', 'MICHIGAN', 'OHIO', ..., 'GUANAJUATO ', 'KANAGAWA', 'LOUISIANA', 'POTENZA', 'GUANAJUATO']\n",
            "Length: 25\n",
            "Categories (25, object): ['AICHI', 'ALABAMA', 'COAHUILA', 'FUKUOKA', ..., 'SAKARYA',\n",
            "                          'STATE OF MEXICO', 'TENNESSEE', 'TEXAS']\n",
            "\n",
            "34: Columns vf_Series\n",
            "['Trailhawk', 'SXT', 'Touring L Plus', 'R/T', 'Premier (1LZ)', ..., 'Trackhawk', 'Special Service', 'I/Low', 'TREKKING (PLUS)', 'SL (1SV) FWD']\n",
            "Length: 244\n",
            "Categories (244, object): [' FWD Avenir', '1/2 Ton', '1/2 Ton LS', '1/2 Ton LS LTZ', ...,\n",
            "                           'XLT/King Ranch', 'Z71', 'ZGX10L', 'ZR2']\n",
            "\n",
            "35: Columns vf_TPMS\n",
            "['Direct', 'Indirect']\n",
            "Categories (2, object): ['Direct', 'Indirect']\n",
            "\n",
            "36: Columns vf_VIN\n",
            "['a1a36f314b932519ae0856f048fbb4b7b421eed83a6d4cf14025218a8a14756c'\n",
            " '8af4e1bc548aeac631afa916a182e7d1725b57ac7a69b0143f69e05664467ff9'\n",
            " '4bb08e5895ac1e226fc35d37e913eb071cea8ce789cc241863633abbb0b03051' ...\n",
            " '143161f59a0a4551989610615430af855e9637706e8a34dbcd21a7423890c42f'\n",
            " '6485bbd0739fc161914c7cbbde019e370a14a0fb1b17b7825c24d3fa4d8fcaae'\n",
            " 'a2f4a91d3441f1f8e90a3fd6164b4bdcaea9e4a4806119a62064314997946129']\n",
            "\n",
            "37: Columns vf_VehicleType\n",
            "['MULTIPURPOSE PASSENGER VEHICLE (MPV)', 'TRUCK ', 'PASSENGER CAR']\n",
            "Categories (3, object): ['MULTIPURPOSE PASSENGER VEHICLE (MPV)', 'PASSENGER CAR', 'TRUCK ']\n",
            "\n"
          ]
        }
      ]
    },
    {
      "cell_type": "code",
      "execution_count": null,
      "metadata": {
        "id": "zlDWzb55KfwG",
        "colab": {
          "base_uri": "https://localhost:8080/"
        },
        "outputId": "14008242-9278-47a3-eddb-7617aed47086"
      },
      "outputs": [
        {
          "output_type": "execute_result",
          "data": {
            "text/plain": [
              "vin                         object\n",
              "stockNum                    object\n",
              "firstSeen                 category\n",
              "lastSeen                  category\n",
              "msrp                         int64\n",
              "askPrice                     int64\n",
              "mileage                      int64\n",
              "isNew                         bool\n",
              "color                     category\n",
              "brandName                 category\n",
              "modelName                 category\n",
              "dealerID                  category\n",
              "vf_AirBagLocSide          category\n",
              "vf_BodyClass              category\n",
              "vf_DisplacementCC          float64\n",
              "vf_DisplacementCI          float64\n",
              "vf_DisplacementL           float64\n",
              "vf_Doors                  category\n",
              "vf_DriveType              category\n",
              "vf_EngineConfiguration    category\n",
              "vf_EngineCylinders        category\n",
              "vf_FuelTypePrimary        category\n",
              "vf_GVWR                   category\n",
              "vf_Make                   category\n",
              "vf_MakeID                 category\n",
              "vf_Manufacturer           category\n",
              "vf_ManufacturerId         category\n",
              "vf_Model                  category\n",
              "vf_ModelID                category\n",
              "vf_ModelYear              category\n",
              "vf_PlantCity              category\n",
              "vf_PlantCompanyName       category\n",
              "vf_PlantCountry           category\n",
              "vf_PlantState             category\n",
              "vf_Series                 category\n",
              "vf_TPMS                   category\n",
              "vf_VIN                      object\n",
              "vf_VehicleType            category\n",
              "dtype: object"
            ]
          },
          "metadata": {},
          "execution_count": 16
        }
      ],
      "source": [
        "df.dtypes"
      ]
    },
    {
      "cell_type": "code",
      "execution_count": null,
      "metadata": {
        "id": "hQI5kpbWEk-P"
      },
      "outputs": [],
      "source": [
        "# Convert some columns to datetime\n",
        "df['firstSeen'] = pd.to_datetime(df['firstSeen'])\n",
        "df['lastSeen'] = pd.to_datetime(df['lastSeen'])"
      ]
    },
    {
      "cell_type": "code",
      "source": [
        "# Convert some columns to float64\n",
        "df['askPrice'] = df['askPrice'].astype('float64')\n",
        "df['msrp'] = df['msrp'].astype('float64')"
      ],
      "metadata": {
        "id": "DCkZgBGWntTP"
      },
      "execution_count": null,
      "outputs": []
    },
    {
      "cell_type": "markdown",
      "source": [
        "Examined the duplicated rows and columns of the sample dataset. Drop if exists."
      ],
      "metadata": {
        "id": "_XTUveClJIAS"
      }
    },
    {
      "cell_type": "code",
      "source": [
        "# Examined the duplicated rows\n",
        "df.duplicated().sum()"
      ],
      "metadata": {
        "colab": {
          "base_uri": "https://localhost:8080/"
        },
        "id": "_y5063IlDS98",
        "outputId": "852ce365-2908-46a2-e073-4f81111f2863"
      },
      "execution_count": null,
      "outputs": [
        {
          "output_type": "execute_result",
          "data": {
            "text/plain": [
              "0"
            ]
          },
          "metadata": {},
          "execution_count": 19
        }
      ]
    },
    {
      "cell_type": "code",
      "source": [
        "# Examined the duplicated rows\n",
        "df.T.duplicated().sum()"
      ],
      "metadata": {
        "colab": {
          "base_uri": "https://localhost:8080/"
        },
        "id": "NWW-PZnDJiU-",
        "outputId": "4b604910-132e-4b43-8cae-b707aa00f398"
      },
      "execution_count": null,
      "outputs": [
        {
          "output_type": "execute_result",
          "data": {
            "text/plain": [
              "3"
            ]
          },
          "metadata": {},
          "execution_count": 20
        }
      ]
    },
    {
      "cell_type": "code",
      "source": [
        "# Identified duplicated columns\n",
        "dulplicated_columns = df.T.duplicated().index[df.T.duplicated()]\n",
        "dulplicated_columns"
      ],
      "metadata": {
        "id": "1pkKzrCpNzpm",
        "colab": {
          "base_uri": "https://localhost:8080/"
        },
        "outputId": "ec98ac18-177a-49af-f24c-b0d43870be3e"
      },
      "execution_count": null,
      "outputs": [
        {
          "output_type": "execute_result",
          "data": {
            "text/plain": [
              "Index(['vf_Make', 'vf_Model', 'vf_VIN'], dtype='object')"
            ]
          },
          "metadata": {},
          "execution_count": 21
        }
      ]
    },
    {
      "cell_type": "code",
      "source": [
        "# Drop duplicated columns\n",
        "df.drop(dulplicated_columns, axis='columns', inplace=True)"
      ],
      "metadata": {
        "id": "G4Ft_wh1Qdv_"
      },
      "execution_count": null,
      "outputs": []
    },
    {
      "cell_type": "markdown",
      "source": [
        "Examined the columns **askPrice** and **msrp** to remove the data with less than of equal to 0 value."
      ],
      "metadata": {
        "id": "XIFcUAmBKEZe"
      }
    },
    {
      "cell_type": "code",
      "source": [
        "((df['askPrice'] <= 0) | (df['msrp'] <= 0))"
      ],
      "metadata": {
        "colab": {
          "base_uri": "https://localhost:8080/"
        },
        "id": "q9jJInf-XGvT",
        "outputId": "8a324146-25ea-454d-c196-d3bc170c9b93"
      },
      "execution_count": null,
      "outputs": [
        {
          "output_type": "execute_result",
          "data": {
            "text/plain": [
              "0         False\n",
              "1         False\n",
              "2          True\n",
              "3          True\n",
              "4         False\n",
              "          ...  \n",
              "116344    False\n",
              "116345    False\n",
              "116346    False\n",
              "116347    False\n",
              "116348    False\n",
              "Length: 116349, dtype: bool"
            ]
          },
          "metadata": {},
          "execution_count": 23
        }
      ]
    },
    {
      "cell_type": "code",
      "source": [
        "df_copy = df.copy(deep=True)"
      ],
      "metadata": {
        "id": "T3IrxC7uavp9"
      },
      "execution_count": null,
      "outputs": []
    },
    {
      "cell_type": "code",
      "source": [
        "# Drop the target value columns with 0 values askPrice\n",
        "df = df[~((df['askPrice'] == 0) & (df['msrp'] == 0))]\n",
        "df.head()"
      ],
      "metadata": {
        "colab": {
          "base_uri": "https://localhost:8080/",
          "height": 446
        },
        "id": "ncevMaT5XiJI",
        "outputId": "6ab65291-40d3-4135-dec2-b401f2905e75"
      },
      "execution_count": null,
      "outputs": [
        {
          "output_type": "execute_result",
          "data": {
            "text/plain": [
              "                                                 vin  stockNum  firstSeen  \\\n",
              "0  a1a36f314b932519ae0856f048fbb4b7b421eed83a6d4c...  J79183-1 2019-12-05   \n",
              "1  8af4e1bc548aeac631afa916a182e7d1725b57ac7a69b0...    12649F 2020-05-03   \n",
              "4  c909e6c0ff580f7eb53ac519faaef9e5e2de4fcc79ea2f...     38057 2018-08-05   \n",
              "5  d8cf4360d8fca51da6130376c7fee2427aecb7f5e2a762...  HW577421 2019-03-09   \n",
              "6  12868f78b705eec3608cee144e8560cfb4884146f9ac0d...     J6454 2019-01-10   \n",
              "\n",
              "    lastSeen     msrp  askPrice  mileage  isNew  \\\n",
              "0 2020-05-06  36465.0   28689.0     7736  False   \n",
              "1 2020-05-21  14887.0   14505.0        0  False   \n",
              "4 2018-10-10  29895.0   28895.0    12528  False   \n",
              "5 2019-03-13  19399.0   19399.0    57478  False   \n",
              "6 2019-04-03  42200.0   36113.0        0   True   \n",
              "\n",
              "                              color  brandName  ... vf_ManufacturerId  \\\n",
              "0  Billet Silver Metallic Clearcoat       JEEP  ...               994   \n",
              "1                  Billet Clearcoat      DODGE  ...              1002   \n",
              "4                       Sandy Ridge  CHEVROLET  ...               984   \n",
              "5                             Black     TOYOTA  ...              1085   \n",
              "6               Ocean Blue Metallic       JEEP  ...               994   \n",
              "\n",
              "  vf_ModelID vf_ModelYear vf_PlantCity  \\\n",
              "0       1945         2019    BELVIDERE   \n",
              "1       1939         2018       TOLUCA   \n",
              "4       1847         2018    INGERSOLL   \n",
              "5       2217         2017    WOODSTOCK   \n",
              "6       1943         2019       TOLEDO   \n",
              "\n",
              "                      vf_PlantCompanyName      vf_PlantCountry  \\\n",
              "0                      BELVIDERE ASSEMBLY  UNITED STATES (USA)   \n",
              "1                         Toluca Assembly               MEXICO   \n",
              "4                                    CAMI               CANADA   \n",
              "5  Toyota Motor Manufacturing Canada Inc.               CANADA   \n",
              "6                   TOLEDO NORTH ASSEMBLY  UNITED STATES (USA)   \n",
              "\n",
              "     vf_PlantState             vf_Series vf_TPMS  \\\n",
              "0         ILLINOIS             Trailhawk  Direct   \n",
              "1  STATE OF MEXICO                   SXT  Direct   \n",
              "4          ONTARIO         Premier (1LZ)  Direct   \n",
              "5          ONTARIO  ASA44L/ASA42L/AVA44L  Direct   \n",
              "6             OHIO       Unlimited Sport  Direct   \n",
              "\n",
              "                         vf_VehicleType  \n",
              "0  MULTIPURPOSE PASSENGER VEHICLE (MPV)  \n",
              "1  MULTIPURPOSE PASSENGER VEHICLE (MPV)  \n",
              "4  MULTIPURPOSE PASSENGER VEHICLE (MPV)  \n",
              "5  MULTIPURPOSE PASSENGER VEHICLE (MPV)  \n",
              "6  MULTIPURPOSE PASSENGER VEHICLE (MPV)  \n",
              "\n",
              "[5 rows x 35 columns]"
            ],
            "text/html": [
              "\n",
              "  <div id=\"df-8d323361-818a-4d20-94d0-cebef6ca37f2\" class=\"colab-df-container\">\n",
              "    <div>\n",
              "<style scoped>\n",
              "    .dataframe tbody tr th:only-of-type {\n",
              "        vertical-align: middle;\n",
              "    }\n",
              "\n",
              "    .dataframe tbody tr th {\n",
              "        vertical-align: top;\n",
              "    }\n",
              "\n",
              "    .dataframe thead th {\n",
              "        text-align: right;\n",
              "    }\n",
              "</style>\n",
              "<table border=\"1\" class=\"dataframe\">\n",
              "  <thead>\n",
              "    <tr style=\"text-align: right;\">\n",
              "      <th></th>\n",
              "      <th>vin</th>\n",
              "      <th>stockNum</th>\n",
              "      <th>firstSeen</th>\n",
              "      <th>lastSeen</th>\n",
              "      <th>msrp</th>\n",
              "      <th>askPrice</th>\n",
              "      <th>mileage</th>\n",
              "      <th>isNew</th>\n",
              "      <th>color</th>\n",
              "      <th>brandName</th>\n",
              "      <th>...</th>\n",
              "      <th>vf_ManufacturerId</th>\n",
              "      <th>vf_ModelID</th>\n",
              "      <th>vf_ModelYear</th>\n",
              "      <th>vf_PlantCity</th>\n",
              "      <th>vf_PlantCompanyName</th>\n",
              "      <th>vf_PlantCountry</th>\n",
              "      <th>vf_PlantState</th>\n",
              "      <th>vf_Series</th>\n",
              "      <th>vf_TPMS</th>\n",
              "      <th>vf_VehicleType</th>\n",
              "    </tr>\n",
              "  </thead>\n",
              "  <tbody>\n",
              "    <tr>\n",
              "      <th>0</th>\n",
              "      <td>a1a36f314b932519ae0856f048fbb4b7b421eed83a6d4c...</td>\n",
              "      <td>J79183-1</td>\n",
              "      <td>2019-12-05</td>\n",
              "      <td>2020-05-06</td>\n",
              "      <td>36465.0</td>\n",
              "      <td>28689.0</td>\n",
              "      <td>7736</td>\n",
              "      <td>False</td>\n",
              "      <td>Billet Silver Metallic Clearcoat</td>\n",
              "      <td>JEEP</td>\n",
              "      <td>...</td>\n",
              "      <td>994</td>\n",
              "      <td>1945</td>\n",
              "      <td>2019</td>\n",
              "      <td>BELVIDERE</td>\n",
              "      <td>BELVIDERE ASSEMBLY</td>\n",
              "      <td>UNITED STATES (USA)</td>\n",
              "      <td>ILLINOIS</td>\n",
              "      <td>Trailhawk</td>\n",
              "      <td>Direct</td>\n",
              "      <td>MULTIPURPOSE PASSENGER VEHICLE (MPV)</td>\n",
              "    </tr>\n",
              "    <tr>\n",
              "      <th>1</th>\n",
              "      <td>8af4e1bc548aeac631afa916a182e7d1725b57ac7a69b0...</td>\n",
              "      <td>12649F</td>\n",
              "      <td>2020-05-03</td>\n",
              "      <td>2020-05-21</td>\n",
              "      <td>14887.0</td>\n",
              "      <td>14505.0</td>\n",
              "      <td>0</td>\n",
              "      <td>False</td>\n",
              "      <td>Billet Clearcoat</td>\n",
              "      <td>DODGE</td>\n",
              "      <td>...</td>\n",
              "      <td>1002</td>\n",
              "      <td>1939</td>\n",
              "      <td>2018</td>\n",
              "      <td>TOLUCA</td>\n",
              "      <td>Toluca Assembly</td>\n",
              "      <td>MEXICO</td>\n",
              "      <td>STATE OF MEXICO</td>\n",
              "      <td>SXT</td>\n",
              "      <td>Direct</td>\n",
              "      <td>MULTIPURPOSE PASSENGER VEHICLE (MPV)</td>\n",
              "    </tr>\n",
              "    <tr>\n",
              "      <th>4</th>\n",
              "      <td>c909e6c0ff580f7eb53ac519faaef9e5e2de4fcc79ea2f...</td>\n",
              "      <td>38057</td>\n",
              "      <td>2018-08-05</td>\n",
              "      <td>2018-10-10</td>\n",
              "      <td>29895.0</td>\n",
              "      <td>28895.0</td>\n",
              "      <td>12528</td>\n",
              "      <td>False</td>\n",
              "      <td>Sandy Ridge</td>\n",
              "      <td>CHEVROLET</td>\n",
              "      <td>...</td>\n",
              "      <td>984</td>\n",
              "      <td>1847</td>\n",
              "      <td>2018</td>\n",
              "      <td>INGERSOLL</td>\n",
              "      <td>CAMI</td>\n",
              "      <td>CANADA</td>\n",
              "      <td>ONTARIO</td>\n",
              "      <td>Premier (1LZ)</td>\n",
              "      <td>Direct</td>\n",
              "      <td>MULTIPURPOSE PASSENGER VEHICLE (MPV)</td>\n",
              "    </tr>\n",
              "    <tr>\n",
              "      <th>5</th>\n",
              "      <td>d8cf4360d8fca51da6130376c7fee2427aecb7f5e2a762...</td>\n",
              "      <td>HW577421</td>\n",
              "      <td>2019-03-09</td>\n",
              "      <td>2019-03-13</td>\n",
              "      <td>19399.0</td>\n",
              "      <td>19399.0</td>\n",
              "      <td>57478</td>\n",
              "      <td>False</td>\n",
              "      <td>Black</td>\n",
              "      <td>TOYOTA</td>\n",
              "      <td>...</td>\n",
              "      <td>1085</td>\n",
              "      <td>2217</td>\n",
              "      <td>2017</td>\n",
              "      <td>WOODSTOCK</td>\n",
              "      <td>Toyota Motor Manufacturing Canada Inc.</td>\n",
              "      <td>CANADA</td>\n",
              "      <td>ONTARIO</td>\n",
              "      <td>ASA44L/ASA42L/AVA44L</td>\n",
              "      <td>Direct</td>\n",
              "      <td>MULTIPURPOSE PASSENGER VEHICLE (MPV)</td>\n",
              "    </tr>\n",
              "    <tr>\n",
              "      <th>6</th>\n",
              "      <td>12868f78b705eec3608cee144e8560cfb4884146f9ac0d...</td>\n",
              "      <td>J6454</td>\n",
              "      <td>2019-01-10</td>\n",
              "      <td>2019-04-03</td>\n",
              "      <td>42200.0</td>\n",
              "      <td>36113.0</td>\n",
              "      <td>0</td>\n",
              "      <td>True</td>\n",
              "      <td>Ocean Blue Metallic</td>\n",
              "      <td>JEEP</td>\n",
              "      <td>...</td>\n",
              "      <td>994</td>\n",
              "      <td>1943</td>\n",
              "      <td>2019</td>\n",
              "      <td>TOLEDO</td>\n",
              "      <td>TOLEDO NORTH ASSEMBLY</td>\n",
              "      <td>UNITED STATES (USA)</td>\n",
              "      <td>OHIO</td>\n",
              "      <td>Unlimited Sport</td>\n",
              "      <td>Direct</td>\n",
              "      <td>MULTIPURPOSE PASSENGER VEHICLE (MPV)</td>\n",
              "    </tr>\n",
              "  </tbody>\n",
              "</table>\n",
              "<p>5 rows × 35 columns</p>\n",
              "</div>\n",
              "    <div class=\"colab-df-buttons\">\n",
              "\n",
              "  <div class=\"colab-df-container\">\n",
              "    <button class=\"colab-df-convert\" onclick=\"convertToInteractive('df-8d323361-818a-4d20-94d0-cebef6ca37f2')\"\n",
              "            title=\"Convert this dataframe to an interactive table.\"\n",
              "            style=\"display:none;\">\n",
              "\n",
              "  <svg xmlns=\"http://www.w3.org/2000/svg\" height=\"24px\" viewBox=\"0 -960 960 960\">\n",
              "    <path d=\"M120-120v-720h720v720H120Zm60-500h600v-160H180v160Zm220 220h160v-160H400v160Zm0 220h160v-160H400v160ZM180-400h160v-160H180v160Zm440 0h160v-160H620v160ZM180-180h160v-160H180v160Zm440 0h160v-160H620v160Z\"/>\n",
              "  </svg>\n",
              "    </button>\n",
              "\n",
              "  <style>\n",
              "    .colab-df-container {\n",
              "      display:flex;\n",
              "      gap: 12px;\n",
              "    }\n",
              "\n",
              "    .colab-df-convert {\n",
              "      background-color: #E8F0FE;\n",
              "      border: none;\n",
              "      border-radius: 50%;\n",
              "      cursor: pointer;\n",
              "      display: none;\n",
              "      fill: #1967D2;\n",
              "      height: 32px;\n",
              "      padding: 0 0 0 0;\n",
              "      width: 32px;\n",
              "    }\n",
              "\n",
              "    .colab-df-convert:hover {\n",
              "      background-color: #E2EBFA;\n",
              "      box-shadow: 0px 1px 2px rgba(60, 64, 67, 0.3), 0px 1px 3px 1px rgba(60, 64, 67, 0.15);\n",
              "      fill: #174EA6;\n",
              "    }\n",
              "\n",
              "    .colab-df-buttons div {\n",
              "      margin-bottom: 4px;\n",
              "    }\n",
              "\n",
              "    [theme=dark] .colab-df-convert {\n",
              "      background-color: #3B4455;\n",
              "      fill: #D2E3FC;\n",
              "    }\n",
              "\n",
              "    [theme=dark] .colab-df-convert:hover {\n",
              "      background-color: #434B5C;\n",
              "      box-shadow: 0px 1px 3px 1px rgba(0, 0, 0, 0.15);\n",
              "      filter: drop-shadow(0px 1px 2px rgba(0, 0, 0, 0.3));\n",
              "      fill: #FFFFFF;\n",
              "    }\n",
              "  </style>\n",
              "\n",
              "    <script>\n",
              "      const buttonEl =\n",
              "        document.querySelector('#df-8d323361-818a-4d20-94d0-cebef6ca37f2 button.colab-df-convert');\n",
              "      buttonEl.style.display =\n",
              "        google.colab.kernel.accessAllowed ? 'block' : 'none';\n",
              "\n",
              "      async function convertToInteractive(key) {\n",
              "        const element = document.querySelector('#df-8d323361-818a-4d20-94d0-cebef6ca37f2');\n",
              "        const dataTable =\n",
              "          await google.colab.kernel.invokeFunction('convertToInteractive',\n",
              "                                                    [key], {});\n",
              "        if (!dataTable) return;\n",
              "\n",
              "        const docLinkHtml = 'Like what you see? Visit the ' +\n",
              "          '<a target=\"_blank\" href=https://colab.research.google.com/notebooks/data_table.ipynb>data table notebook</a>'\n",
              "          + ' to learn more about interactive tables.';\n",
              "        element.innerHTML = '';\n",
              "        dataTable['output_type'] = 'display_data';\n",
              "        await google.colab.output.renderOutput(dataTable, element);\n",
              "        const docLink = document.createElement('div');\n",
              "        docLink.innerHTML = docLinkHtml;\n",
              "        element.appendChild(docLink);\n",
              "      }\n",
              "    </script>\n",
              "  </div>\n",
              "\n",
              "\n",
              "<div id=\"df-3e3f7abe-4d56-4e99-9224-795b858958ac\">\n",
              "  <button class=\"colab-df-quickchart\" onclick=\"quickchart('df-3e3f7abe-4d56-4e99-9224-795b858958ac')\"\n",
              "            title=\"Suggest charts\"\n",
              "            style=\"display:none;\">\n",
              "\n",
              "<svg xmlns=\"http://www.w3.org/2000/svg\" height=\"24px\"viewBox=\"0 0 24 24\"\n",
              "     width=\"24px\">\n",
              "    <g>\n",
              "        <path d=\"M19 3H5c-1.1 0-2 .9-2 2v14c0 1.1.9 2 2 2h14c1.1 0 2-.9 2-2V5c0-1.1-.9-2-2-2zM9 17H7v-7h2v7zm4 0h-2V7h2v10zm4 0h-2v-4h2v4z\"/>\n",
              "    </g>\n",
              "</svg>\n",
              "  </button>\n",
              "\n",
              "<style>\n",
              "  .colab-df-quickchart {\n",
              "      --bg-color: #E8F0FE;\n",
              "      --fill-color: #1967D2;\n",
              "      --hover-bg-color: #E2EBFA;\n",
              "      --hover-fill-color: #174EA6;\n",
              "      --disabled-fill-color: #AAA;\n",
              "      --disabled-bg-color: #DDD;\n",
              "  }\n",
              "\n",
              "  [theme=dark] .colab-df-quickchart {\n",
              "      --bg-color: #3B4455;\n",
              "      --fill-color: #D2E3FC;\n",
              "      --hover-bg-color: #434B5C;\n",
              "      --hover-fill-color: #FFFFFF;\n",
              "      --disabled-bg-color: #3B4455;\n",
              "      --disabled-fill-color: #666;\n",
              "  }\n",
              "\n",
              "  .colab-df-quickchart {\n",
              "    background-color: var(--bg-color);\n",
              "    border: none;\n",
              "    border-radius: 50%;\n",
              "    cursor: pointer;\n",
              "    display: none;\n",
              "    fill: var(--fill-color);\n",
              "    height: 32px;\n",
              "    padding: 0;\n",
              "    width: 32px;\n",
              "  }\n",
              "\n",
              "  .colab-df-quickchart:hover {\n",
              "    background-color: var(--hover-bg-color);\n",
              "    box-shadow: 0 1px 2px rgba(60, 64, 67, 0.3), 0 1px 3px 1px rgba(60, 64, 67, 0.15);\n",
              "    fill: var(--button-hover-fill-color);\n",
              "  }\n",
              "\n",
              "  .colab-df-quickchart-complete:disabled,\n",
              "  .colab-df-quickchart-complete:disabled:hover {\n",
              "    background-color: var(--disabled-bg-color);\n",
              "    fill: var(--disabled-fill-color);\n",
              "    box-shadow: none;\n",
              "  }\n",
              "\n",
              "  .colab-df-spinner {\n",
              "    border: 2px solid var(--fill-color);\n",
              "    border-color: transparent;\n",
              "    border-bottom-color: var(--fill-color);\n",
              "    animation:\n",
              "      spin 1s steps(1) infinite;\n",
              "  }\n",
              "\n",
              "  @keyframes spin {\n",
              "    0% {\n",
              "      border-color: transparent;\n",
              "      border-bottom-color: var(--fill-color);\n",
              "      border-left-color: var(--fill-color);\n",
              "    }\n",
              "    20% {\n",
              "      border-color: transparent;\n",
              "      border-left-color: var(--fill-color);\n",
              "      border-top-color: var(--fill-color);\n",
              "    }\n",
              "    30% {\n",
              "      border-color: transparent;\n",
              "      border-left-color: var(--fill-color);\n",
              "      border-top-color: var(--fill-color);\n",
              "      border-right-color: var(--fill-color);\n",
              "    }\n",
              "    40% {\n",
              "      border-color: transparent;\n",
              "      border-right-color: var(--fill-color);\n",
              "      border-top-color: var(--fill-color);\n",
              "    }\n",
              "    60% {\n",
              "      border-color: transparent;\n",
              "      border-right-color: var(--fill-color);\n",
              "    }\n",
              "    80% {\n",
              "      border-color: transparent;\n",
              "      border-right-color: var(--fill-color);\n",
              "      border-bottom-color: var(--fill-color);\n",
              "    }\n",
              "    90% {\n",
              "      border-color: transparent;\n",
              "      border-bottom-color: var(--fill-color);\n",
              "    }\n",
              "  }\n",
              "</style>\n",
              "\n",
              "  <script>\n",
              "    async function quickchart(key) {\n",
              "      const quickchartButtonEl =\n",
              "        document.querySelector('#' + key + ' button');\n",
              "      quickchartButtonEl.disabled = true;  // To prevent multiple clicks.\n",
              "      quickchartButtonEl.classList.add('colab-df-spinner');\n",
              "      try {\n",
              "        const charts = await google.colab.kernel.invokeFunction(\n",
              "            'suggestCharts', [key], {});\n",
              "      } catch (error) {\n",
              "        console.error('Error during call to suggestCharts:', error);\n",
              "      }\n",
              "      quickchartButtonEl.classList.remove('colab-df-spinner');\n",
              "      quickchartButtonEl.classList.add('colab-df-quickchart-complete');\n",
              "    }\n",
              "    (() => {\n",
              "      let quickchartButtonEl =\n",
              "        document.querySelector('#df-3e3f7abe-4d56-4e99-9224-795b858958ac button');\n",
              "      quickchartButtonEl.style.display =\n",
              "        google.colab.kernel.accessAllowed ? 'block' : 'none';\n",
              "    })();\n",
              "  </script>\n",
              "</div>\n",
              "    </div>\n",
              "  </div>\n"
            ]
          },
          "metadata": {},
          "execution_count": 25
        }
      ]
    },
    {
      "cell_type": "markdown",
      "source": [
        "## 4. Feature Selection"
      ],
      "metadata": {
        "id": "QavpQvlBl1Yx"
      }
    },
    {
      "cell_type": "code",
      "source": [
        "df.corr()"
      ],
      "metadata": {
        "colab": {
          "base_uri": "https://localhost:8080/",
          "height": 323
        },
        "id": "7tGXPZpvekky",
        "outputId": "040688b6-cd70-4527-db34-e1960c354fc7"
      },
      "execution_count": null,
      "outputs": [
        {
          "output_type": "stream",
          "name": "stderr",
          "text": [
            "<ipython-input-26-2f6f6606aa2c>:1: FutureWarning: The default value of numeric_only in DataFrame.corr is deprecated. In a future version, it will default to False. Select only valid columns or specify the value of numeric_only to silence this warning.\n",
            "  df.corr()\n"
          ]
        },
        {
          "output_type": "execute_result",
          "data": {
            "text/plain": [
              "                       msrp  askPrice   mileage     isNew  vf_DisplacementCC  \\\n",
              "msrp               1.000000  0.415172 -0.008594 -0.014030          -0.004727   \n",
              "askPrice           0.415172  1.000000 -0.000843 -0.005505          -0.001386   \n",
              "mileage           -0.008594 -0.000843  1.000000 -0.506555           0.112192   \n",
              "isNew             -0.014030 -0.005505 -0.506555  1.000000          -0.094639   \n",
              "vf_DisplacementCC -0.004727 -0.001386  0.112192 -0.094639           1.000000   \n",
              "vf_DisplacementCI -0.004736 -0.001390  0.112686 -0.094864           0.999990   \n",
              "vf_DisplacementL  -0.004741 -0.001392  0.112537 -0.094571           0.999987   \n",
              "\n",
              "                   vf_DisplacementCI  vf_DisplacementL  \n",
              "msrp                       -0.004736         -0.004741  \n",
              "askPrice                   -0.001390         -0.001392  \n",
              "mileage                     0.112686          0.112537  \n",
              "isNew                      -0.094864         -0.094571  \n",
              "vf_DisplacementCC           0.999990          0.999987  \n",
              "vf_DisplacementCI           1.000000          0.999999  \n",
              "vf_DisplacementL            0.999999          1.000000  "
            ],
            "text/html": [
              "\n",
              "  <div id=\"df-1a22eb38-da4d-4c65-aadc-72f42554e421\" class=\"colab-df-container\">\n",
              "    <div>\n",
              "<style scoped>\n",
              "    .dataframe tbody tr th:only-of-type {\n",
              "        vertical-align: middle;\n",
              "    }\n",
              "\n",
              "    .dataframe tbody tr th {\n",
              "        vertical-align: top;\n",
              "    }\n",
              "\n",
              "    .dataframe thead th {\n",
              "        text-align: right;\n",
              "    }\n",
              "</style>\n",
              "<table border=\"1\" class=\"dataframe\">\n",
              "  <thead>\n",
              "    <tr style=\"text-align: right;\">\n",
              "      <th></th>\n",
              "      <th>msrp</th>\n",
              "      <th>askPrice</th>\n",
              "      <th>mileage</th>\n",
              "      <th>isNew</th>\n",
              "      <th>vf_DisplacementCC</th>\n",
              "      <th>vf_DisplacementCI</th>\n",
              "      <th>vf_DisplacementL</th>\n",
              "    </tr>\n",
              "  </thead>\n",
              "  <tbody>\n",
              "    <tr>\n",
              "      <th>msrp</th>\n",
              "      <td>1.000000</td>\n",
              "      <td>0.415172</td>\n",
              "      <td>-0.008594</td>\n",
              "      <td>-0.014030</td>\n",
              "      <td>-0.004727</td>\n",
              "      <td>-0.004736</td>\n",
              "      <td>-0.004741</td>\n",
              "    </tr>\n",
              "    <tr>\n",
              "      <th>askPrice</th>\n",
              "      <td>0.415172</td>\n",
              "      <td>1.000000</td>\n",
              "      <td>-0.000843</td>\n",
              "      <td>-0.005505</td>\n",
              "      <td>-0.001386</td>\n",
              "      <td>-0.001390</td>\n",
              "      <td>-0.001392</td>\n",
              "    </tr>\n",
              "    <tr>\n",
              "      <th>mileage</th>\n",
              "      <td>-0.008594</td>\n",
              "      <td>-0.000843</td>\n",
              "      <td>1.000000</td>\n",
              "      <td>-0.506555</td>\n",
              "      <td>0.112192</td>\n",
              "      <td>0.112686</td>\n",
              "      <td>0.112537</td>\n",
              "    </tr>\n",
              "    <tr>\n",
              "      <th>isNew</th>\n",
              "      <td>-0.014030</td>\n",
              "      <td>-0.005505</td>\n",
              "      <td>-0.506555</td>\n",
              "      <td>1.000000</td>\n",
              "      <td>-0.094639</td>\n",
              "      <td>-0.094864</td>\n",
              "      <td>-0.094571</td>\n",
              "    </tr>\n",
              "    <tr>\n",
              "      <th>vf_DisplacementCC</th>\n",
              "      <td>-0.004727</td>\n",
              "      <td>-0.001386</td>\n",
              "      <td>0.112192</td>\n",
              "      <td>-0.094639</td>\n",
              "      <td>1.000000</td>\n",
              "      <td>0.999990</td>\n",
              "      <td>0.999987</td>\n",
              "    </tr>\n",
              "    <tr>\n",
              "      <th>vf_DisplacementCI</th>\n",
              "      <td>-0.004736</td>\n",
              "      <td>-0.001390</td>\n",
              "      <td>0.112686</td>\n",
              "      <td>-0.094864</td>\n",
              "      <td>0.999990</td>\n",
              "      <td>1.000000</td>\n",
              "      <td>0.999999</td>\n",
              "    </tr>\n",
              "    <tr>\n",
              "      <th>vf_DisplacementL</th>\n",
              "      <td>-0.004741</td>\n",
              "      <td>-0.001392</td>\n",
              "      <td>0.112537</td>\n",
              "      <td>-0.094571</td>\n",
              "      <td>0.999987</td>\n",
              "      <td>0.999999</td>\n",
              "      <td>1.000000</td>\n",
              "    </tr>\n",
              "  </tbody>\n",
              "</table>\n",
              "</div>\n",
              "    <div class=\"colab-df-buttons\">\n",
              "\n",
              "  <div class=\"colab-df-container\">\n",
              "    <button class=\"colab-df-convert\" onclick=\"convertToInteractive('df-1a22eb38-da4d-4c65-aadc-72f42554e421')\"\n",
              "            title=\"Convert this dataframe to an interactive table.\"\n",
              "            style=\"display:none;\">\n",
              "\n",
              "  <svg xmlns=\"http://www.w3.org/2000/svg\" height=\"24px\" viewBox=\"0 -960 960 960\">\n",
              "    <path d=\"M120-120v-720h720v720H120Zm60-500h600v-160H180v160Zm220 220h160v-160H400v160Zm0 220h160v-160H400v160ZM180-400h160v-160H180v160Zm440 0h160v-160H620v160ZM180-180h160v-160H180v160Zm440 0h160v-160H620v160Z\"/>\n",
              "  </svg>\n",
              "    </button>\n",
              "\n",
              "  <style>\n",
              "    .colab-df-container {\n",
              "      display:flex;\n",
              "      gap: 12px;\n",
              "    }\n",
              "\n",
              "    .colab-df-convert {\n",
              "      background-color: #E8F0FE;\n",
              "      border: none;\n",
              "      border-radius: 50%;\n",
              "      cursor: pointer;\n",
              "      display: none;\n",
              "      fill: #1967D2;\n",
              "      height: 32px;\n",
              "      padding: 0 0 0 0;\n",
              "      width: 32px;\n",
              "    }\n",
              "\n",
              "    .colab-df-convert:hover {\n",
              "      background-color: #E2EBFA;\n",
              "      box-shadow: 0px 1px 2px rgba(60, 64, 67, 0.3), 0px 1px 3px 1px rgba(60, 64, 67, 0.15);\n",
              "      fill: #174EA6;\n",
              "    }\n",
              "\n",
              "    .colab-df-buttons div {\n",
              "      margin-bottom: 4px;\n",
              "    }\n",
              "\n",
              "    [theme=dark] .colab-df-convert {\n",
              "      background-color: #3B4455;\n",
              "      fill: #D2E3FC;\n",
              "    }\n",
              "\n",
              "    [theme=dark] .colab-df-convert:hover {\n",
              "      background-color: #434B5C;\n",
              "      box-shadow: 0px 1px 3px 1px rgba(0, 0, 0, 0.15);\n",
              "      filter: drop-shadow(0px 1px 2px rgba(0, 0, 0, 0.3));\n",
              "      fill: #FFFFFF;\n",
              "    }\n",
              "  </style>\n",
              "\n",
              "    <script>\n",
              "      const buttonEl =\n",
              "        document.querySelector('#df-1a22eb38-da4d-4c65-aadc-72f42554e421 button.colab-df-convert');\n",
              "      buttonEl.style.display =\n",
              "        google.colab.kernel.accessAllowed ? 'block' : 'none';\n",
              "\n",
              "      async function convertToInteractive(key) {\n",
              "        const element = document.querySelector('#df-1a22eb38-da4d-4c65-aadc-72f42554e421');\n",
              "        const dataTable =\n",
              "          await google.colab.kernel.invokeFunction('convertToInteractive',\n",
              "                                                    [key], {});\n",
              "        if (!dataTable) return;\n",
              "\n",
              "        const docLinkHtml = 'Like what you see? Visit the ' +\n",
              "          '<a target=\"_blank\" href=https://colab.research.google.com/notebooks/data_table.ipynb>data table notebook</a>'\n",
              "          + ' to learn more about interactive tables.';\n",
              "        element.innerHTML = '';\n",
              "        dataTable['output_type'] = 'display_data';\n",
              "        await google.colab.output.renderOutput(dataTable, element);\n",
              "        const docLink = document.createElement('div');\n",
              "        docLink.innerHTML = docLinkHtml;\n",
              "        element.appendChild(docLink);\n",
              "      }\n",
              "    </script>\n",
              "  </div>\n",
              "\n",
              "\n",
              "<div id=\"df-81820493-0149-464e-a0d2-de9d25b354e9\">\n",
              "  <button class=\"colab-df-quickchart\" onclick=\"quickchart('df-81820493-0149-464e-a0d2-de9d25b354e9')\"\n",
              "            title=\"Suggest charts\"\n",
              "            style=\"display:none;\">\n",
              "\n",
              "<svg xmlns=\"http://www.w3.org/2000/svg\" height=\"24px\"viewBox=\"0 0 24 24\"\n",
              "     width=\"24px\">\n",
              "    <g>\n",
              "        <path d=\"M19 3H5c-1.1 0-2 .9-2 2v14c0 1.1.9 2 2 2h14c1.1 0 2-.9 2-2V5c0-1.1-.9-2-2-2zM9 17H7v-7h2v7zm4 0h-2V7h2v10zm4 0h-2v-4h2v4z\"/>\n",
              "    </g>\n",
              "</svg>\n",
              "  </button>\n",
              "\n",
              "<style>\n",
              "  .colab-df-quickchart {\n",
              "      --bg-color: #E8F0FE;\n",
              "      --fill-color: #1967D2;\n",
              "      --hover-bg-color: #E2EBFA;\n",
              "      --hover-fill-color: #174EA6;\n",
              "      --disabled-fill-color: #AAA;\n",
              "      --disabled-bg-color: #DDD;\n",
              "  }\n",
              "\n",
              "  [theme=dark] .colab-df-quickchart {\n",
              "      --bg-color: #3B4455;\n",
              "      --fill-color: #D2E3FC;\n",
              "      --hover-bg-color: #434B5C;\n",
              "      --hover-fill-color: #FFFFFF;\n",
              "      --disabled-bg-color: #3B4455;\n",
              "      --disabled-fill-color: #666;\n",
              "  }\n",
              "\n",
              "  .colab-df-quickchart {\n",
              "    background-color: var(--bg-color);\n",
              "    border: none;\n",
              "    border-radius: 50%;\n",
              "    cursor: pointer;\n",
              "    display: none;\n",
              "    fill: var(--fill-color);\n",
              "    height: 32px;\n",
              "    padding: 0;\n",
              "    width: 32px;\n",
              "  }\n",
              "\n",
              "  .colab-df-quickchart:hover {\n",
              "    background-color: var(--hover-bg-color);\n",
              "    box-shadow: 0 1px 2px rgba(60, 64, 67, 0.3), 0 1px 3px 1px rgba(60, 64, 67, 0.15);\n",
              "    fill: var(--button-hover-fill-color);\n",
              "  }\n",
              "\n",
              "  .colab-df-quickchart-complete:disabled,\n",
              "  .colab-df-quickchart-complete:disabled:hover {\n",
              "    background-color: var(--disabled-bg-color);\n",
              "    fill: var(--disabled-fill-color);\n",
              "    box-shadow: none;\n",
              "  }\n",
              "\n",
              "  .colab-df-spinner {\n",
              "    border: 2px solid var(--fill-color);\n",
              "    border-color: transparent;\n",
              "    border-bottom-color: var(--fill-color);\n",
              "    animation:\n",
              "      spin 1s steps(1) infinite;\n",
              "  }\n",
              "\n",
              "  @keyframes spin {\n",
              "    0% {\n",
              "      border-color: transparent;\n",
              "      border-bottom-color: var(--fill-color);\n",
              "      border-left-color: var(--fill-color);\n",
              "    }\n",
              "    20% {\n",
              "      border-color: transparent;\n",
              "      border-left-color: var(--fill-color);\n",
              "      border-top-color: var(--fill-color);\n",
              "    }\n",
              "    30% {\n",
              "      border-color: transparent;\n",
              "      border-left-color: var(--fill-color);\n",
              "      border-top-color: var(--fill-color);\n",
              "      border-right-color: var(--fill-color);\n",
              "    }\n",
              "    40% {\n",
              "      border-color: transparent;\n",
              "      border-right-color: var(--fill-color);\n",
              "      border-top-color: var(--fill-color);\n",
              "    }\n",
              "    60% {\n",
              "      border-color: transparent;\n",
              "      border-right-color: var(--fill-color);\n",
              "    }\n",
              "    80% {\n",
              "      border-color: transparent;\n",
              "      border-right-color: var(--fill-color);\n",
              "      border-bottom-color: var(--fill-color);\n",
              "    }\n",
              "    90% {\n",
              "      border-color: transparent;\n",
              "      border-bottom-color: var(--fill-color);\n",
              "    }\n",
              "  }\n",
              "</style>\n",
              "\n",
              "  <script>\n",
              "    async function quickchart(key) {\n",
              "      const quickchartButtonEl =\n",
              "        document.querySelector('#' + key + ' button');\n",
              "      quickchartButtonEl.disabled = true;  // To prevent multiple clicks.\n",
              "      quickchartButtonEl.classList.add('colab-df-spinner');\n",
              "      try {\n",
              "        const charts = await google.colab.kernel.invokeFunction(\n",
              "            'suggestCharts', [key], {});\n",
              "      } catch (error) {\n",
              "        console.error('Error during call to suggestCharts:', error);\n",
              "      }\n",
              "      quickchartButtonEl.classList.remove('colab-df-spinner');\n",
              "      quickchartButtonEl.classList.add('colab-df-quickchart-complete');\n",
              "    }\n",
              "    (() => {\n",
              "      let quickchartButtonEl =\n",
              "        document.querySelector('#df-81820493-0149-464e-a0d2-de9d25b354e9 button');\n",
              "      quickchartButtonEl.style.display =\n",
              "        google.colab.kernel.accessAllowed ? 'block' : 'none';\n",
              "    })();\n",
              "  </script>\n",
              "</div>\n",
              "    </div>\n",
              "  </div>\n"
            ]
          },
          "metadata": {},
          "execution_count": 26
        }
      ]
    },
    {
      "cell_type": "markdown",
      "source": [
        "Since there are three columns which are highly correlated(vf_DisplacementCC, vf_DisplacementCI, vf_DisplacementL), we can reduce the dimensionality of the dataset by selecting one of those features or using the Principle Component Analysis (PCA). It uses to represent the relationships between numerical in lower-dimensional space  by computing principal components that capture the variability in the data."
      ],
      "metadata": {
        "id": "0vM1BC8r_c1_"
      }
    },
    {
      "cell_type": "markdown",
      "source": [
        "### **Correlation for categorical data**"
      ],
      "metadata": {
        "id": "o3uRObrdqUiL"
      }
    },
    {
      "cell_type": "markdown",
      "source": [
        "#### 1.Pearson Correlation Test\n",
        "Pearson correlation Test is used to to calculate the correlation between continuous variables."
      ],
      "metadata": {
        "id": "7FhxGpIMTVbQ"
      }
    },
    {
      "cell_type": "code",
      "source": [
        "# Import those libraries\n",
        "import pandas as pd\n",
        "from scipy.stats import pearsonr\n",
        "\n",
        "# Convert dataframe into series\n",
        "dis_CC = df['vf_DisplacementCC']\n",
        "dis_CI = df['vf_DisplacementCI']\n",
        "\n",
        "# Apply the pearsonr()\n",
        "corr, _ = pearsonr(dis_CC, dis_CI)\n",
        "print('Pearsons correlation: %.5f' % corr)"
      ],
      "metadata": {
        "colab": {
          "base_uri": "https://localhost:8080/"
        },
        "id": "a52v2cRcXDMs",
        "outputId": "ca812f43-1413-464c-dad3-f7bedba8fcf0"
      },
      "execution_count": null,
      "outputs": [
        {
          "output_type": "stream",
          "name": "stdout",
          "text": [
            "Pearsons correlation: 0.99999\n"
          ]
        }
      ]
    },
    {
      "cell_type": "code",
      "source": [
        "sns.lmplot(x=\"vf_DisplacementCC\", y=\"vf_DisplacementCI\", data=df);"
      ],
      "metadata": {
        "colab": {
          "base_uri": "https://localhost:8080/",
          "height": 506
        },
        "id": "MpMNUVzoY9wL",
        "outputId": "10b88c39-6576-479b-f53e-ba23887bc800"
      },
      "execution_count": null,
      "outputs": [
        {
          "output_type": "display_data",
          "data": {
            "text/plain": [
              "<Figure size 500x500 with 1 Axes>"
            ],
            "image/png": "[encoded data removed]"
          },
          "metadata": {}
        }
      ]
    },
    {
      "cell_type": "code",
      "source": [
        "# Import those libraries\n",
        "import pandas as pd\n",
        "from scipy.stats import pearsonr\n",
        "\n",
        "# Convert dataframe into series\n",
        "msrp = df['msrp']\n",
        "askprice = df['askPrice']\n",
        "\n",
        "# Apply the pearsonr()\n",
        "corr, _ = pearsonr(msrp, askprice)\n",
        "print('Pearsons correlation: %.5f' % corr)"
      ],
      "metadata": {
        "colab": {
          "base_uri": "https://localhost:8080/"
        },
        "id": "GZ1G0vGJYmRJ",
        "outputId": "f972007d-3d92-4325-a09b-97a98531a295"
      },
      "execution_count": null,
      "outputs": [
        {
          "output_type": "stream",
          "name": "stdout",
          "text": [
            "Pearsons correlation: 0.41517\n"
          ]
        }
      ]
    },
    {
      "cell_type": "code",
      "source": [
        "sns.lmplot(x=\"msrp\", y=\"askPrice\", hue=\"isNew\", data=df);"
      ],
      "metadata": {
        "colab": {
          "base_uri": "https://localhost:8080/",
          "height": 506
        },
        "id": "Bf3pFA6kZNuj",
        "outputId": "e35aa6db-be10-4426-8f84-69ccb72bd055"
      },
      "execution_count": null,
      "outputs": [
        {
          "output_type": "display_data",
          "data": {
            "text/plain": [
              "<Figure size 584.875x500 with 1 Axes>"
            ],
            "image/png": "[encoded data removed]"
          },
          "metadata": {}
        }
      ]
    },
    {
      "cell_type": "markdown",
      "source": [
        "#### 2.Point-biserial Correlation\n",
        "Testing on categorical and continuous variables"
      ],
      "metadata": {
        "id": "jev7rScGV2CT"
      }
    },
    {
      "cell_type": "code",
      "source": [
        "import scipy.stats as stats\n",
        "import pandas as pd\n",
        "from sklearn import preprocessing"
      ],
      "metadata": {
        "id": "kXlnzHgQROVe"
      },
      "execution_count": null,
      "outputs": []
    },
    {
      "cell_type": "code",
      "source": [
        "le = preprocessing.LabelEncoder()\n",
        "df['brandName_'] = le.fit_transform(df['brandName'])\n"
      ],
      "metadata": {
        "id": "gl0TW7rwUiDz",
        "colab": {
          "base_uri": "https://localhost:8080/"
        },
        "outputId": "718f9815-2e32-4d2e-cdc2-3c0975216f2c"
      },
      "execution_count": null,
      "outputs": [
        {
          "output_type": "stream",
          "name": "stderr",
          "text": [
            "<ipython-input-32-c9ce1c0e2ff1>:2: SettingWithCopyWarning: \n",
            "A value is trying to be set on a copy of a slice from a DataFrame.\n",
            "Try using .loc[row_indexer,col_indexer] = value instead\n",
            "\n",
            "See the caveats in the documentation: https://pandas.pydata.org/pandas-docs/stable/user_guide/indexing.html#returning-a-view-versus-a-copy\n",
            "  df['brandName_'] = le.fit_transform(df['brandName'])\n"
          ]
        }
      ]
    },
    {
      "cell_type": "code",
      "source": [
        "stats.pointbiserialr(df['brandName_'], df['askPrice'])"
      ],
      "metadata": {
        "colab": {
          "base_uri": "https://localhost:8080/"
        },
        "id": "kiSgEgwpVk_p",
        "outputId": "0fd373b2-69ef-4cc6-b7ea-42c6e9817d30"
      },
      "execution_count": null,
      "outputs": [
        {
          "output_type": "execute_result",
          "data": {
            "text/plain": [
              "SignificanceResult(statistic=-0.007751549271218207, pvalue=0.012425254012963934)"
            ]
          },
          "metadata": {},
          "execution_count": 33
        }
      ]
    },
    {
      "cell_type": "code",
      "source": [
        "plt.figure(figsize=(20,6))\n",
        "ax= sns.barplot(x = 'brandName',y = 'askPrice',data = df)\n",
        "plt.show()\n",
        "for i, v in enumerate(list(df['askPrice'])):\n",
        "   ax.text(i, v + 0.2, str(v), ha='center')\n",
        "plt.show()"
      ],
      "metadata": {
        "colab": {
          "base_uri": "https://localhost:8080/",
          "height": 488
        },
        "id": "ov4Fa8AVZtku",
        "outputId": "1805a14d-9cff-43c5-8335-9182e7043e96"
      },
      "execution_count": null,
      "outputs": [
        {
          "output_type": "display_data",
          "data": {
            "text/plain": [
              "<Figure size 2000x600 with 1 Axes>"
            ],
            "image/png": "[encoded data removed]"
          },
          "metadata": {}
        }
      ]
    },
    {
      "cell_type": "markdown",
      "source": [
        "### Mutual Information\n",
        "Mutual Information in that in measures a relationship between 2 quantities. It can detect any kind of relationship. We can know the values of a feature, how much confident can we know about the target. In this dataset, our target is `askPrice` which means the minimum price that a seller is willing to take for that same security."
      ],
      "metadata": {
        "id": "NzxIuFsBgtzN"
      }
    },
    {
      "cell_type": "code",
      "execution_count": null,
      "metadata": {
        "id": "mQy6Zu7bFtqd"
      },
      "outputs": [],
      "source": [
        "import seaborn as sns\n",
        "import matplotlib.pyplot as plt"
      ]
    },
    {
      "cell_type": "code",
      "source": [
        "plt.style.use(\"seaborn-whitegrid\")"
      ],
      "metadata": {
        "colab": {
          "base_uri": "https://localhost:8080/"
        },
        "id": "mizZTMmH4QZ1",
        "outputId": "90279a81-880a-4542-eea1-2cb723a8006f"
      },
      "execution_count": null,
      "outputs": [
        {
          "output_type": "stream",
          "name": "stderr",
          "text": [
            "<ipython-input-36-44e8d52a7f21>:1: MatplotlibDeprecationWarning: The seaborn styles shipped by Matplotlib are deprecated since 3.6, as they no longer correspond to the styles shipped by seaborn. However, they will remain available as 'seaborn-v0_8-<style>'. Alternatively, directly use the seaborn API instead.\n",
            "  plt.style.use(\"seaborn-whitegrid\")\n"
          ]
        }
      ]
    },
    {
      "cell_type": "code",
      "source": [
        "X = df.copy()\n",
        "y = X.pop('askPrice')\n",
        "\n",
        "\n",
        "# Label encoding for categoricals\n",
        "for colname in X.select_dtypes(\"object\"):\n",
        "    X[colname], _ = X[colname].factorize()\n",
        "for colname in X.select_dtypes(\"category\"):\n",
        "    X[colname], _ = X[colname].factorize()\n",
        "# All discrete features should now have integer dtypes (double-check this before using MI!)\n",
        "discrete_features = X.dtypes == int\n"
      ],
      "metadata": {
        "id": "bmmuk6bB4VK3"
      },
      "execution_count": null,
      "outputs": []
    },
    {
      "cell_type": "code",
      "source": [
        "from sklearn.feature_selection import mutual_info_regression\n",
        "\n",
        "def make_mi_scores(X, y, discrete_features):\n",
        "    mi_scores = mutual_info_regression(X, y, discrete_features=discrete_features)\n",
        "    mi_scores = pd.Series(mi_scores, name=\"MI Scores\", index=X.columns)\n",
        "    mi_scores = mi_scores.sort_values(ascending=False)\n",
        "    return mi_scores\n",
        "\n",
        "mi_scores = make_mi_scores(X, y, discrete_features)\n",
        "mi_scores[::3]  # show a few features with their MI scores"
      ],
      "metadata": {
        "colab": {
          "base_uri": "https://localhost:8080/"
        },
        "id": "OC-TbkCk5osq",
        "outputId": "6f513dec-ce24-43c8-9d97-20e4dcc82e0c"
      },
      "execution_count": null,
      "outputs": [
        {
          "output_type": "execute_result",
          "data": {
            "text/plain": [
              "vin                       7.372048\n",
              "mileage                   1.710569\n",
              "vf_ModelID                0.915354\n",
              "vf_PlantCity              0.777733\n",
              "vf_ModelYear              0.586629\n",
              "vf_MakeID                 0.480240\n",
              "firstSeen                 0.464819\n",
              "lastSeen                  0.421389\n",
              "vf_GVWR                   0.316791\n",
              "vf_EngineCylinders        0.213294\n",
              "vf_EngineConfiguration    0.175357\n",
              "vf_VehicleType            0.035469\n",
              "Name: MI Scores, dtype: float64"
            ]
          },
          "metadata": {},
          "execution_count": 38
        }
      ]
    },
    {
      "cell_type": "code",
      "source": [
        "def plot_mi_scores(scores):\n",
        "    scores = scores.sort_values(ascending=True)\n",
        "    width = np.arange(len(scores))\n",
        "    ticks = list(scores.index)\n",
        "    plt.barh(width, scores)\n",
        "    plt.yticks(width, ticks)\n",
        "    plt.title(\"Mutual Information Scores\")\n",
        "\n",
        "\n",
        "plt.figure(dpi=100, figsize=(8, 5))\n",
        "plot_mi_scores(mi_scores)"
      ],
      "metadata": {
        "colab": {
          "base_uri": "https://localhost:8080/",
          "height": 461
        },
        "id": "Qt72wDZA94QZ",
        "outputId": "6334f1f6-e1af-4779-87ea-1c6bea401311"
      },
      "execution_count": null,
      "outputs": [
        {
          "output_type": "display_data",
          "data": {
            "text/plain": [
              "<Figure size 800x500 with 1 Axes>"
            ],
            "image/png": "[encoded data removed]"
          },
          "metadata": {}
        }
      ]
    },
    {
      "cell_type": "markdown",
      "source": [
        "From the Mutual Infromation above, we can see that `vf_TPMS` has MI Scrore of 0.00, that shows that this field does not have relationship with others columns.\n",
        " **In real data feature engineering, the fields with score 0.0 can be dropped s it does not contributed to the searching insights and furture analysis.**"
      ],
      "metadata": {
        "id": "8ygSGrs6qIrM"
      }
    },
    {
      "cell_type": "markdown",
      "source": [
        "Besides `vin` (Vehicle Identication Number) and `stockNum` (StockNumber of the vehicle), `msrp` (Manufacturer's Suggested Retail Price - the price that a product's manufacturer recommends it be sold for at the point of sale) and `mileage` (how much the vehicle has been driven) have the highest MI scores. Thus, we will investigate the relationship between `askPrice`, `mileage` and `msrp`."
      ],
      "metadata": {
        "id": "bb3JSUN_ZC5k"
      }
    },
    {
      "cell_type": "code",
      "source": [
        "sns.relplot(x=\"mileage\", y=\"askPrice\", data=df);"
      ],
      "metadata": {
        "colab": {
          "base_uri": "https://localhost:8080/",
          "height": 506
        },
        "id": "dwOLL6bM9_KL",
        "outputId": "73c4eb80-196f-413e-e6f6-25d11489587e"
      },
      "execution_count": null,
      "outputs": [
        {
          "output_type": "display_data",
          "data": {
            "text/plain": [
              "<Figure size 500x500 with 1 Axes>"
            ],
            "image/png": "[encoded data removed]"
          },
          "metadata": {}
        }
      ]
    },
    {
      "cell_type": "markdown",
      "source": [
        "### 5. Feature Transformation"
      ],
      "metadata": {
        "id": "a9QRF7YIjaqe"
      }
    },
    {
      "cell_type": "markdown",
      "source": [
        "**Target Encoding** <br>\n",
        "A target encoding is any kind of encoding that replaces a feature's categories with some number derived from the target. Target encoding derives numbers for the categories using the feature's most important property: its relationship with the target."
      ],
      "metadata": {
        "id": "hWbG3FcHyLZZ"
      }
    },
    {
      "cell_type": "code",
      "source": [
        "! pip install --upgrade category_encoders"
      ],
      "metadata": {
        "colab": {
          "base_uri": "https://localhost:8080/"
        },
        "id": "8JtByrbeivf3",
        "outputId": "2acf428a-d6bc-44f0-e1e8-9abc3d87c289"
      },
      "execution_count": null,
      "outputs": [
        {
          "output_type": "stream",
          "name": "stdout",
          "text": [
            "Collecting category_encoders\n",
            "  Downloading category_encoders-2.6.3-py2.py3-none-any.whl (81 kB)\n",
            "\u001b[2K     \u001b[90m━━━━━━━━━━━━━━━━━━━━━━━━━━━━━━━━━━━━━━━━\u001b[0m \u001b[32m81.9/81.9 kB\u001b[0m \u001b[31m1.4 MB/s\u001b[0m eta \u001b[36m0:00:00\u001b[0m\n",
            "\u001b[?25hRequirement already satisfied: numpy>=1.14.0 in /usr/local/lib/python3.10/dist-packages (from category_encoders) (1.23.5)\n",
            "Requirement already satisfied: scikit-learn>=0.20.0 in /usr/local/lib/python3.10/dist-packages (from category_encoders) (1.3.2)\n",
            "Requirement already satisfied: scipy>=1.0.0 in /usr/local/lib/python3.10/dist-packages (from category_encoders) (1.11.3)\n",
            "Requirement already satisfied: statsmodels>=0.9.0 in /usr/local/lib/python3.10/dist-packages (from category_encoders) (0.14.0)\n",
            "Requirement already satisfied: pandas>=1.0.5 in /usr/local/lib/python3.10/dist-packages (from category_encoders) (1.5.3)\n",
            "Requirement already satisfied: patsy>=0.5.1 in /usr/local/lib/python3.10/dist-packages (from category_encoders) (0.5.3)\n",
            "Requirement already satisfied: python-dateutil>=2.8.1 in /usr/local/lib/python3.10/dist-packages (from pandas>=1.0.5->category_encoders) (2.8.2)\n",
            "Requirement already satisfied: pytz>=2020.1 in /usr/local/lib/python3.10/dist-packages (from pandas>=1.0.5->category_encoders) (2023.3.post1)\n",
            "Requirement already satisfied: six in /usr/local/lib/python3.10/dist-packages (from patsy>=0.5.1->category_encoders) (1.16.0)\n",
            "Requirement already satisfied: joblib>=1.1.1 in /usr/local/lib/python3.10/dist-packages (from scikit-learn>=0.20.0->category_encoders) (1.3.2)\n",
            "Requirement already satisfied: threadpoolctl>=2.0.0 in /usr/local/lib/python3.10/dist-packages (from scikit-learn>=0.20.0->category_encoders) (3.2.0)\n",
            "Requirement already satisfied: packaging>=21.3 in /usr/local/lib/python3.10/dist-packages (from statsmodels>=0.9.0->category_encoders) (23.2)\n",
            "Installing collected packages: category_encoders\n",
            "Successfully installed category_encoders-2.6.3\n"
          ]
        }
      ]
    },
    {
      "cell_type": "code",
      "source": [
        "import matplotlib.pyplot as plt\n",
        "import numpy as np\n",
        "import pandas as pd\n",
        "import seaborn as sns\n",
        "import warnings\n",
        "\n",
        "plt.style.use(\"seaborn-whitegrid\")\n",
        "plt.rc(\"figure\", autolayout=True)\n",
        "plt.rc(\n",
        "    \"axes\",\n",
        "    labelweight=\"bold\",\n",
        "    labelsize=\"large\",\n",
        "    titleweight=\"bold\",\n",
        "    titlesize=14,\n",
        "    titlepad=10,\n",
        ")\n",
        "warnings.filterwarnings('ignore')\n",
        "#df = df.astype(np.uint8, errors='ignore') # reduce memory footprint\n",
        "print(\"Number of Unique Records: {}\".format(df[\"vf_DisplacementCI\"].nunique()))"
      ],
      "metadata": {
        "colab": {
          "base_uri": "https://localhost:8080/"
        },
        "id": "gINR-2N02iAK",
        "outputId": "770170f6-73f9-48ef-bc3a-3b4d12d0445a"
      },
      "execution_count": null,
      "outputs": [
        {
          "output_type": "stream",
          "name": "stdout",
          "text": [
            "Number of Unique Records: 33\n"
          ]
        },
        {
          "output_type": "stream",
          "name": "stderr",
          "text": [
            "<ipython-input-42-da9ca858e7cd>:7: MatplotlibDeprecationWarning: The seaborn styles shipped by Matplotlib are deprecated since 3.6, as they no longer correspond to the styles shipped by seaborn. However, they will remain available as 'seaborn-v0_8-<style>'. Alternatively, directly use the seaborn API instead.\n",
            "  plt.style.use(\"seaborn-whitegrid\")\n"
          ]
        }
      ]
    },
    {
      "cell_type": "markdown",
      "source": [
        "In this feature, we set the target as `vf_DisplacementL` which gives the range in between 1.0 to 7.0. We want to see how is the features which our target field is inferenced by `vf_DisplacementCI`."
      ],
      "metadata": {
        "id": "JFyUEqhMzBtb"
      }
    },
    {
      "cell_type": "code",
      "source": [
        "X = df.copy()\n",
        "y = X.pop('vf_DisplacementL')\n",
        "\n",
        "X_encode = X.sample(frac=0.25)\n",
        "y_encode = y[X_encode.index]\n",
        "X_pretrain = X.drop(X_encode.index)\n",
        "y_train = y[X_pretrain.index]"
      ],
      "metadata": {
        "id": "BDJ8JaAV5FPp"
      },
      "execution_count": null,
      "outputs": []
    },
    {
      "cell_type": "code",
      "source": [
        "from category_encoders import MEstimateEncoder\n",
        "\n",
        "# Create the encoder instance. Choose m to control noise.\n",
        "encoder = MEstimateEncoder(cols=['vf_DisplacementCI'], m=5.0)\n",
        "\n",
        "# Fit the encoder on the encoding split.\n",
        "encoder.fit(X_encode, y_encode)\n",
        "\n",
        "# Encode the Zipcode column to create the final training data\n",
        "X_train = encoder.transform(X_pretrain)"
      ],
      "metadata": {
        "id": "7iKeROT_5Qay"
      },
      "execution_count": null,
      "outputs": []
    },
    {
      "cell_type": "code",
      "source": [
        "plt.figure(dpi=90)\n",
        "ax = sns.distplot(y, kde=False, norm_hist=True)\n",
        "ax = sns.kdeplot(X_train.vf_DisplacementCI, color='r', ax=ax)\n",
        "ax.set_xlabel(\"vf_DisplacementL\")\n",
        "ax.legend(labels=['vf_DisplacementCI', 'vf_DisplacementL']);"
      ],
      "metadata": {
        "colab": {
          "base_uri": "https://localhost:8080/",
          "height": 440
        },
        "id": "xJD3n0885VDO",
        "outputId": "bdb58e16-1b78-43c0-eb48-c78315288fd0"
      },
      "execution_count": null,
      "outputs": [
        {
          "output_type": "display_data",
          "data": {
            "text/plain": [
              "<Figure size 576x432 with 1 Axes>"
            ],
            "image/png": "[encoded data removed]"
          },
          "metadata": {}
        }
      ]
    },
    {
      "cell_type": "markdown",
      "source": [
        "*From the result above, we can see that the most `vf_DisplacementL` in vehicles is in between 3.0 and 4.0 as there is the highest peak in density in axis y.*"
      ],
      "metadata": {
        "id": "vynjCvzOzuWk"
      }
    },
    {
      "cell_type": "markdown",
      "source": [
        "In this feature, our target value is `askPrice`. We want to see the relationship of model of year of vehicles and the asked price for vehicles to investigate how model Year of vehicle affect the asked price."
      ],
      "metadata": {
        "id": "qNeNujjY0jLh"
      }
    },
    {
      "cell_type": "code",
      "source": [
        "df = df.astype({'vf_ModelYear':'int64'})\n",
        "df.dtypes"
      ],
      "metadata": {
        "colab": {
          "base_uri": "https://localhost:8080/"
        },
        "id": "F8M5nkE892Ad",
        "outputId": "592d9975-47b1-458b-f714-adaceb81d0b6"
      },
      "execution_count": null,
      "outputs": [
        {
          "output_type": "execute_result",
          "data": {
            "text/plain": [
              "vin                         object\n",
              "stockNum                    object\n",
              "firstSeen                 category\n",
              "lastSeen                  category\n",
              "msrp                       float64\n",
              "askPrice                   float64\n",
              "mileage                      int64\n",
              "isNew                         bool\n",
              "color                     category\n",
              "brandName                 category\n",
              "modelName                 category\n",
              "dealerID                  category\n",
              "vf_AirBagLocSide          category\n",
              "vf_BodyClass              category\n",
              "vf_DisplacementCC          float64\n",
              "vf_DisplacementCI          float64\n",
              "vf_DisplacementL           float64\n",
              "vf_Doors                  category\n",
              "vf_DriveType              category\n",
              "vf_EngineConfiguration    category\n",
              "vf_EngineCylinders        category\n",
              "vf_FuelTypePrimary        category\n",
              "vf_GVWR                   category\n",
              "vf_MakeID                 category\n",
              "vf_Manufacturer           category\n",
              "vf_ManufacturerId         category\n",
              "vf_ModelID                category\n",
              "vf_ModelYear                 int64\n",
              "vf_PlantCity              category\n",
              "vf_PlantCompanyName       category\n",
              "vf_PlantCountry           category\n",
              "vf_PlantState             category\n",
              "vf_Series                 category\n",
              "vf_TPMS                   category\n",
              "vf_VehicleType            category\n",
              "brandName_                   int64\n",
              "dtype: object"
            ]
          },
          "metadata": {},
          "execution_count": 46
        }
      ]
    },
    {
      "cell_type": "code",
      "source": [
        "X = df.copy()\n",
        "y = X.pop('vf_ModelYear')\n",
        "\n",
        "X_encode = X.sample(frac=0.25)\n",
        "y_encode = y[X_encode.index]\n",
        "X_pretrain = X.drop(X_encode.index)\n",
        "y_train = y[X_pretrain.index]"
      ],
      "metadata": {
        "id": "FENvS5Ac64CG"
      },
      "execution_count": null,
      "outputs": []
    },
    {
      "cell_type": "code",
      "source": [
        "from category_encoders import MEstimateEncoder\n",
        "\n",
        "# Create the encoder instance. Choose m to control noise.\n",
        "encoder = MEstimateEncoder(cols=['askPrice'], m=5.0)\n",
        "\n",
        "# Fit the encoder on the encoding split.\n",
        "encoder.fit(X_encode, y_encode)\n",
        "\n",
        "# Encode the Zipcode column to create the final training data\n",
        "X_train = encoder.transform(X_pretrain)"
      ],
      "metadata": {
        "id": "-Ph0L9Yx88tk"
      },
      "execution_count": null,
      "outputs": []
    },
    {
      "cell_type": "code",
      "source": [
        "plt.figure(dpi=90)\n",
        "ax = sns.distplot(y, kde=False, norm_hist=True)\n",
        "ax = sns.kdeplot(X_train.askPrice, color='r', ax=ax)\n",
        "ax.set_xlabel(\"vf_ModelYear\")\n",
        "ax.legend(labels=['vf_ModelYear', 'askPrice']);"
      ],
      "metadata": {
        "colab": {
          "base_uri": "https://localhost:8080/",
          "height": 440
        },
        "id": "04QgvLIu9DyQ",
        "outputId": "6587e675-0b26-4051-9e84-dad9f2d316c2"
      },
      "execution_count": null,
      "outputs": [
        {
          "output_type": "display_data",
          "data": {
            "text/plain": [
              "<Figure size 576x432 with 1 Axes>"
            ],
            "image/png": "[encoded data removed]"
          },
          "metadata": {}
        }
      ]
    },
    {
      "cell_type": "markdown",
      "source": [
        "*As we can observe in the graph above, the model Year in between 2016 and 2018 has the highest ranked asked price of vehicles as the peak shown. From the graph, we can do further investigation and prediction on the preference of people on prefering the vehicles made in particular years.*"
      ],
      "metadata": {
        "id": "jXNHMxGl1VgB"
      }
    },
    {
      "cell_type": "markdown",
      "source": [
        "## 6. Feature Creation"
      ],
      "metadata": {
        "id": "QwVZonbV-qta"
      }
    },
    {
      "cell_type": "markdown",
      "source": [
        "### K-Means Clustering\n",
        "In the context of feature engineering for prediction, K-Mean is used of an unsupervised algorithm as a \"feature discovery\" technique to learn some property of the data, to represent the structure of the features in a certain way. The cluster generated for each row of data can be another features which useful to be used in model building."
      ],
      "metadata": {
        "id": "pMt_vIXEIXrs"
      }
    },
    {
      "cell_type": "code",
      "source": [
        "from sklearn.cluster import KMeans"
      ],
      "metadata": {
        "id": "IV66hI7JESJn"
      },
      "execution_count": null,
      "outputs": []
    },
    {
      "cell_type": "markdown",
      "source": [
        "In our dataset, we use our target `askPrice` and the features, `msrp` and `mileage` to obseve the patterns generated between them."
      ],
      "metadata": {
        "id": "6yo-KjmN3WfV"
      }
    },
    {
      "cell_type": "code",
      "source": [
        "plt.style.use(\"seaborn-whitegrid\")\n",
        "plt.rc(\"figure\", autolayout=True)\n",
        "plt.rc(\n",
        "    \"axes\",\n",
        "    labelweight=\"bold\",\n",
        "    labelsize=\"large\",\n",
        "    titleweight=\"bold\",\n",
        "    titlesize=14,\n",
        "    titlepad=10,\n",
        ")"
      ],
      "metadata": {
        "id": "azrCEh8NEXt4"
      },
      "execution_count": null,
      "outputs": []
    },
    {
      "cell_type": "code",
      "source": [
        "X = df.loc[:, [\"askPrice\", \"msrp\", \"mileage\"]]\n",
        "X.head()"
      ],
      "metadata": {
        "id": "G_KB947NEacu",
        "colab": {
          "base_uri": "https://localhost:8080/",
          "height": 206
        },
        "outputId": "f00105bf-1d8d-4f9e-980c-43094d39ad3e"
      },
      "execution_count": null,
      "outputs": [
        {
          "output_type": "execute_result",
          "data": {
            "text/plain": [
              "   askPrice     msrp  mileage\n",
              "0   28689.0  36465.0     7736\n",
              "1   14505.0  14887.0        0\n",
              "4   28895.0  29895.0    12528\n",
              "5   19399.0  19399.0    57478\n",
              "6   36113.0  42200.0        0"
            ],
            "text/html": [
              "\n",
              "  <div id=\"df-0ae268ca-8beb-49b9-a725-d46975029671\" class=\"colab-df-container\">\n",
              "    <div>\n",
              "<style scoped>\n",
              "    .dataframe tbody tr th:only-of-type {\n",
              "        vertical-align: middle;\n",
              "    }\n",
              "\n",
              "    .dataframe tbody tr th {\n",
              "        vertical-align: top;\n",
              "    }\n",
              "\n",
              "    .dataframe thead th {\n",
              "        text-align: right;\n",
              "    }\n",
              "</style>\n",
              "<table border=\"1\" class=\"dataframe\">\n",
              "  <thead>\n",
              "    <tr style=\"text-align: right;\">\n",
              "      <th></th>\n",
              "      <th>askPrice</th>\n",
              "      <th>msrp</th>\n",
              "      <th>mileage</th>\n",
              "    </tr>\n",
              "  </thead>\n",
              "  <tbody>\n",
              "    <tr>\n",
              "      <th>0</th>\n",
              "      <td>28689.0</td>\n",
              "      <td>36465.0</td>\n",
              "      <td>7736</td>\n",
              "    </tr>\n",
              "    <tr>\n",
              "      <th>1</th>\n",
              "      <td>14505.0</td>\n",
              "      <td>14887.0</td>\n",
              "      <td>0</td>\n",
              "    </tr>\n",
              "    <tr>\n",
              "      <th>4</th>\n",
              "      <td>28895.0</td>\n",
              "      <td>29895.0</td>\n",
              "      <td>12528</td>\n",
              "    </tr>\n",
              "    <tr>\n",
              "      <th>5</th>\n",
              "      <td>19399.0</td>\n",
              "      <td>19399.0</td>\n",
              "      <td>57478</td>\n",
              "    </tr>\n",
              "    <tr>\n",
              "      <th>6</th>\n",
              "      <td>36113.0</td>\n",
              "      <td>42200.0</td>\n",
              "      <td>0</td>\n",
              "    </tr>\n",
              "  </tbody>\n",
              "</table>\n",
              "</div>\n",
              "    <div class=\"colab-df-buttons\">\n",
              "\n",
              "  <div class=\"colab-df-container\">\n",
              "    <button class=\"colab-df-convert\" onclick=\"convertToInteractive('df-0ae268ca-8beb-49b9-a725-d46975029671')\"\n",
              "            title=\"Convert this dataframe to an interactive table.\"\n",
              "            style=\"display:none;\">\n",
              "\n",
              "  <svg xmlns=\"http://www.w3.org/2000/svg\" height=\"24px\" viewBox=\"0 -960 960 960\">\n",
              "    <path d=\"M120-120v-720h720v720H120Zm60-500h600v-160H180v160Zm220 220h160v-160H400v160Zm0 220h160v-160H400v160ZM180-400h160v-160H180v160Zm440 0h160v-160H620v160ZM180-180h160v-160H180v160Zm440 0h160v-160H620v160Z\"/>\n",
              "  </svg>\n",
              "    </button>\n",
              "\n",
              "  <style>\n",
              "    .colab-df-container {\n",
              "      display:flex;\n",
              "      gap: 12px;\n",
              "    }\n",
              "\n",
              "    .colab-df-convert {\n",
              "      background-color: #E8F0FE;\n",
              "      border: none;\n",
              "      border-radius: 50%;\n",
              "      cursor: pointer;\n",
              "      display: none;\n",
              "      fill: #1967D2;\n",
              "      height: 32px;\n",
              "      padding: 0 0 0 0;\n",
              "      width: 32px;\n",
              "    }\n",
              "\n",
              "    .colab-df-convert:hover {\n",
              "      background-color: #E2EBFA;\n",
              "      box-shadow: 0px 1px 2px rgba(60, 64, 67, 0.3), 0px 1px 3px 1px rgba(60, 64, 67, 0.15);\n",
              "      fill: #174EA6;\n",
              "    }\n",
              "\n",
              "    .colab-df-buttons div {\n",
              "      margin-bottom: 4px;\n",
              "    }\n",
              "\n",
              "    [theme=dark] .colab-df-convert {\n",
              "      background-color: #3B4455;\n",
              "      fill: #D2E3FC;\n",
              "    }\n",
              "\n",
              "    [theme=dark] .colab-df-convert:hover {\n",
              "      background-color: #434B5C;\n",
              "      box-shadow: 0px 1px 3px 1px rgba(0, 0, 0, 0.15);\n",
              "      filter: drop-shadow(0px 1px 2px rgba(0, 0, 0, 0.3));\n",
              "      fill: #FFFFFF;\n",
              "    }\n",
              "  </style>\n",
              "\n",
              "    <script>\n",
              "      const buttonEl =\n",
              "        document.querySelector('#df-0ae268ca-8beb-49b9-a725-d46975029671 button.colab-df-convert');\n",
              "      buttonEl.style.display =\n",
              "        google.colab.kernel.accessAllowed ? 'block' : 'none';\n",
              "\n",
              "      async function convertToInteractive(key) {\n",
              "        const element = document.querySelector('#df-0ae268ca-8beb-49b9-a725-d46975029671');\n",
              "        const dataTable =\n",
              "          await google.colab.kernel.invokeFunction('convertToInteractive',\n",
              "                                                    [key], {});\n",
              "        if (!dataTable) return;\n",
              "\n",
              "        const docLinkHtml = 'Like what you see? Visit the ' +\n",
              "          '<a target=\"_blank\" href=https://colab.research.google.com/notebooks/data_table.ipynb>data table notebook</a>'\n",
              "          + ' to learn more about interactive tables.';\n",
              "        element.innerHTML = '';\n",
              "        dataTable['output_type'] = 'display_data';\n",
              "        await google.colab.output.renderOutput(dataTable, element);\n",
              "        const docLink = document.createElement('div');\n",
              "        docLink.innerHTML = docLinkHtml;\n",
              "        element.appendChild(docLink);\n",
              "      }\n",
              "    </script>\n",
              "  </div>\n",
              "\n",
              "\n",
              "<div id=\"df-e774fefc-97e8-4be1-9c9d-29ad0774abfd\">\n",
              "  <button class=\"colab-df-quickchart\" onclick=\"quickchart('df-e774fefc-97e8-4be1-9c9d-29ad0774abfd')\"\n",
              "            title=\"Suggest charts\"\n",
              "            style=\"display:none;\">\n",
              "\n",
              "<svg xmlns=\"http://www.w3.org/2000/svg\" height=\"24px\"viewBox=\"0 0 24 24\"\n",
              "     width=\"24px\">\n",
              "    <g>\n",
              "        <path d=\"M19 3H5c-1.1 0-2 .9-2 2v14c0 1.1.9 2 2 2h14c1.1 0 2-.9 2-2V5c0-1.1-.9-2-2-2zM9 17H7v-7h2v7zm4 0h-2V7h2v10zm4 0h-2v-4h2v4z\"/>\n",
              "    </g>\n",
              "</svg>\n",
              "  </button>\n",
              "\n",
              "<style>\n",
              "  .colab-df-quickchart {\n",
              "      --bg-color: #E8F0FE;\n",
              "      --fill-color: #1967D2;\n",
              "      --hover-bg-color: #E2EBFA;\n",
              "      --hover-fill-color: #174EA6;\n",
              "      --disabled-fill-color: #AAA;\n",
              "      --disabled-bg-color: #DDD;\n",
              "  }\n",
              "\n",
              "  [theme=dark] .colab-df-quickchart {\n",
              "      --bg-color: #3B4455;\n",
              "      --fill-color: #D2E3FC;\n",
              "      --hover-bg-color: #434B5C;\n",
              "      --hover-fill-color: #FFFFFF;\n",
              "      --disabled-bg-color: #3B4455;\n",
              "      --disabled-fill-color: #666;\n",
              "  }\n",
              "\n",
              "  .colab-df-quickchart {\n",
              "    background-color: var(--bg-color);\n",
              "    border: none;\n",
              "    border-radius: 50%;\n",
              "    cursor: pointer;\n",
              "    display: none;\n",
              "    fill: var(--fill-color);\n",
              "    height: 32px;\n",
              "    padding: 0;\n",
              "    width: 32px;\n",
              "  }\n",
              "\n",
              "  .colab-df-quickchart:hover {\n",
              "    background-color: var(--hover-bg-color);\n",
              "    box-shadow: 0 1px 2px rgba(60, 64, 67, 0.3), 0 1px 3px 1px rgba(60, 64, 67, 0.15);\n",
              "    fill: var(--button-hover-fill-color);\n",
              "  }\n",
              "\n",
              "  .colab-df-quickchart-complete:disabled,\n",
              "  .colab-df-quickchart-complete:disabled:hover {\n",
              "    background-color: var(--disabled-bg-color);\n",
              "    fill: var(--disabled-fill-color);\n",
              "    box-shadow: none;\n",
              "  }\n",
              "\n",
              "  .colab-df-spinner {\n",
              "    border: 2px solid var(--fill-color);\n",
              "    border-color: transparent;\n",
              "    border-bottom-color: var(--fill-color);\n",
              "    animation:\n",
              "      spin 1s steps(1) infinite;\n",
              "  }\n",
              "\n",
              "  @keyframes spin {\n",
              "    0% {\n",
              "      border-color: transparent;\n",
              "      border-bottom-color: var(--fill-color);\n",
              "      border-left-color: var(--fill-color);\n",
              "    }\n",
              "    20% {\n",
              "      border-color: transparent;\n",
              "      border-left-color: var(--fill-color);\n",
              "      border-top-color: var(--fill-color);\n",
              "    }\n",
              "    30% {\n",
              "      border-color: transparent;\n",
              "      border-left-color: var(--fill-color);\n",
              "      border-top-color: var(--fill-color);\n",
              "      border-right-color: var(--fill-color);\n",
              "    }\n",
              "    40% {\n",
              "      border-color: transparent;\n",
              "      border-right-color: var(--fill-color);\n",
              "      border-top-color: var(--fill-color);\n",
              "    }\n",
              "    60% {\n",
              "      border-color: transparent;\n",
              "      border-right-color: var(--fill-color);\n",
              "    }\n",
              "    80% {\n",
              "      border-color: transparent;\n",
              "      border-right-color: var(--fill-color);\n",
              "      border-bottom-color: var(--fill-color);\n",
              "    }\n",
              "    90% {\n",
              "      border-color: transparent;\n",
              "      border-bottom-color: var(--fill-color);\n",
              "    }\n",
              "  }\n",
              "</style>\n",
              "\n",
              "  <script>\n",
              "    async function quickchart(key) {\n",
              "      const quickchartButtonEl =\n",
              "        document.querySelector('#' + key + ' button');\n",
              "      quickchartButtonEl.disabled = true;  // To prevent multiple clicks.\n",
              "      quickchartButtonEl.classList.add('colab-df-spinner');\n",
              "      try {\n",
              "        const charts = await google.colab.kernel.invokeFunction(\n",
              "            'suggestCharts', [key], {});\n",
              "      } catch (error) {\n",
              "        console.error('Error during call to suggestCharts:', error);\n",
              "      }\n",
              "      quickchartButtonEl.classList.remove('colab-df-spinner');\n",
              "      quickchartButtonEl.classList.add('colab-df-quickchart-complete');\n",
              "    }\n",
              "    (() => {\n",
              "      let quickchartButtonEl =\n",
              "        document.querySelector('#df-e774fefc-97e8-4be1-9c9d-29ad0774abfd button');\n",
              "      quickchartButtonEl.style.display =\n",
              "        google.colab.kernel.accessAllowed ? 'block' : 'none';\n",
              "    })();\n",
              "  </script>\n",
              "</div>\n",
              "    </div>\n",
              "  </div>\n"
            ]
          },
          "metadata": {},
          "execution_count": 52
        }
      ]
    },
    {
      "cell_type": "code",
      "source": [
        "# Create cluster feature\n",
        "kmeans = KMeans(n_clusters=6)\n",
        "X[\"Cluster\"] = kmeans.fit_predict(X)\n",
        "X[\"Cluster\"] = X[\"Cluster\"].astype(\"category\")\n",
        "\n",
        "X.head()"
      ],
      "metadata": {
        "id": "sat8gxvMFxVw",
        "colab": {
          "base_uri": "https://localhost:8080/",
          "height": 206
        },
        "outputId": "37232a4e-780f-48f7-ac70-02dc5ddacec7"
      },
      "execution_count": null,
      "outputs": [
        {
          "output_type": "execute_result",
          "data": {
            "text/plain": [
              "   askPrice     msrp  mileage Cluster\n",
              "0   28689.0  36465.0     7736       0\n",
              "1   14505.0  14887.0        0       0\n",
              "4   28895.0  29895.0    12528       0\n",
              "5   19399.0  19399.0    57478       4\n",
              "6   36113.0  42200.0        0       0"
            ],
            "text/html": [
              "\n",
              "  <div id=\"df-fd7e7f1f-ccef-4c18-9d25-7aec4de8d77c\" class=\"colab-df-container\">\n",
              "    <div>\n",
              "<style scoped>\n",
              "    .dataframe tbody tr th:only-of-type {\n",
              "        vertical-align: middle;\n",
              "    }\n",
              "\n",
              "    .dataframe tbody tr th {\n",
              "        vertical-align: top;\n",
              "    }\n",
              "\n",
              "    .dataframe thead th {\n",
              "        text-align: right;\n",
              "    }\n",
              "</style>\n",
              "<table border=\"1\" class=\"dataframe\">\n",
              "  <thead>\n",
              "    <tr style=\"text-align: right;\">\n",
              "      <th></th>\n",
              "      <th>askPrice</th>\n",
              "      <th>msrp</th>\n",
              "      <th>mileage</th>\n",
              "      <th>Cluster</th>\n",
              "    </tr>\n",
              "  </thead>\n",
              "  <tbody>\n",
              "    <tr>\n",
              "      <th>0</th>\n",
              "      <td>28689.0</td>\n",
              "      <td>36465.0</td>\n",
              "      <td>7736</td>\n",
              "      <td>0</td>\n",
              "    </tr>\n",
              "    <tr>\n",
              "      <th>1</th>\n",
              "      <td>14505.0</td>\n",
              "      <td>14887.0</td>\n",
              "      <td>0</td>\n",
              "      <td>0</td>\n",
              "    </tr>\n",
              "    <tr>\n",
              "      <th>4</th>\n",
              "      <td>28895.0</td>\n",
              "      <td>29895.0</td>\n",
              "      <td>12528</td>\n",
              "      <td>0</td>\n",
              "    </tr>\n",
              "    <tr>\n",
              "      <th>5</th>\n",
              "      <td>19399.0</td>\n",
              "      <td>19399.0</td>\n",
              "      <td>57478</td>\n",
              "      <td>4</td>\n",
              "    </tr>\n",
              "    <tr>\n",
              "      <th>6</th>\n",
              "      <td>36113.0</td>\n",
              "      <td>42200.0</td>\n",
              "      <td>0</td>\n",
              "      <td>0</td>\n",
              "    </tr>\n",
              "  </tbody>\n",
              "</table>\n",
              "</div>\n",
              "    <div class=\"colab-df-buttons\">\n",
              "\n",
              "  <div class=\"colab-df-container\">\n",
              "    <button class=\"colab-df-convert\" onclick=\"convertToInteractive('df-fd7e7f1f-ccef-4c18-9d25-7aec4de8d77c')\"\n",
              "            title=\"Convert this dataframe to an interactive table.\"\n",
              "            style=\"display:none;\">\n",
              "\n",
              "  <svg xmlns=\"http://www.w3.org/2000/svg\" height=\"24px\" viewBox=\"0 -960 960 960\">\n",
              "    <path d=\"M120-120v-720h720v720H120Zm60-500h600v-160H180v160Zm220 220h160v-160H400v160Zm0 220h160v-160H400v160ZM180-400h160v-160H180v160Zm440 0h160v-160H620v160ZM180-180h160v-160H180v160Zm440 0h160v-160H620v160Z\"/>\n",
              "  </svg>\n",
              "    </button>\n",
              "\n",
              "  <style>\n",
              "    .colab-df-container {\n",
              "      display:flex;\n",
              "      gap: 12px;\n",
              "    }\n",
              "\n",
              "    .colab-df-convert {\n",
              "      background-color: #E8F0FE;\n",
              "      border: none;\n",
              "      border-radius: 50%;\n",
              "      cursor: pointer;\n",
              "      display: none;\n",
              "      fill: #1967D2;\n",
              "      height: 32px;\n",
              "      padding: 0 0 0 0;\n",
              "      width: 32px;\n",
              "    }\n",
              "\n",
              "    .colab-df-convert:hover {\n",
              "      background-color: #E2EBFA;\n",
              "      box-shadow: 0px 1px 2px rgba(60, 64, 67, 0.3), 0px 1px 3px 1px rgba(60, 64, 67, 0.15);\n",
              "      fill: #174EA6;\n",
              "    }\n",
              "\n",
              "    .colab-df-buttons div {\n",
              "      margin-bottom: 4px;\n",
              "    }\n",
              "\n",
              "    [theme=dark] .colab-df-convert {\n",
              "      background-color: #3B4455;\n",
              "      fill: #D2E3FC;\n",
              "    }\n",
              "\n",
              "    [theme=dark] .colab-df-convert:hover {\n",
              "      background-color: #434B5C;\n",
              "      box-shadow: 0px 1px 3px 1px rgba(0, 0, 0, 0.15);\n",
              "      filter: drop-shadow(0px 1px 2px rgba(0, 0, 0, 0.3));\n",
              "      fill: #FFFFFF;\n",
              "    }\n",
              "  </style>\n",
              "\n",
              "    <script>\n",
              "      const buttonEl =\n",
              "        document.querySelector('#df-fd7e7f1f-ccef-4c18-9d25-7aec4de8d77c button.colab-df-convert');\n",
              "      buttonEl.style.display =\n",
              "        google.colab.kernel.accessAllowed ? 'block' : 'none';\n",
              "\n",
              "      async function convertToInteractive(key) {\n",
              "        const element = document.querySelector('#df-fd7e7f1f-ccef-4c18-9d25-7aec4de8d77c');\n",
              "        const dataTable =\n",
              "          await google.colab.kernel.invokeFunction('convertToInteractive',\n",
              "                                                    [key], {});\n",
              "        if (!dataTable) return;\n",
              "\n",
              "        const docLinkHtml = 'Like what you see? Visit the ' +\n",
              "          '<a target=\"_blank\" href=https://colab.research.google.com/notebooks/data_table.ipynb>data table notebook</a>'\n",
              "          + ' to learn more about interactive tables.';\n",
              "        element.innerHTML = '';\n",
              "        dataTable['output_type'] = 'display_data';\n",
              "        await google.colab.output.renderOutput(dataTable, element);\n",
              "        const docLink = document.createElement('div');\n",
              "        docLink.innerHTML = docLinkHtml;\n",
              "        element.appendChild(docLink);\n",
              "      }\n",
              "    </script>\n",
              "  </div>\n",
              "\n",
              "\n",
              "<div id=\"df-a93f0157-e4e5-476c-85e3-00ccf74df65a\">\n",
              "  <button class=\"colab-df-quickchart\" onclick=\"quickchart('df-a93f0157-e4e5-476c-85e3-00ccf74df65a')\"\n",
              "            title=\"Suggest charts\"\n",
              "            style=\"display:none;\">\n",
              "\n",
              "<svg xmlns=\"http://www.w3.org/2000/svg\" height=\"24px\"viewBox=\"0 0 24 24\"\n",
              "     width=\"24px\">\n",
              "    <g>\n",
              "        <path d=\"M19 3H5c-1.1 0-2 .9-2 2v14c0 1.1.9 2 2 2h14c1.1 0 2-.9 2-2V5c0-1.1-.9-2-2-2zM9 17H7v-7h2v7zm4 0h-2V7h2v10zm4 0h-2v-4h2v4z\"/>\n",
              "    </g>\n",
              "</svg>\n",
              "  </button>\n",
              "\n",
              "<style>\n",
              "  .colab-df-quickchart {\n",
              "      --bg-color: #E8F0FE;\n",
              "      --fill-color: #1967D2;\n",
              "      --hover-bg-color: #E2EBFA;\n",
              "      --hover-fill-color: #174EA6;\n",
              "      --disabled-fill-color: #AAA;\n",
              "      --disabled-bg-color: #DDD;\n",
              "  }\n",
              "\n",
              "  [theme=dark] .colab-df-quickchart {\n",
              "      --bg-color: #3B4455;\n",
              "      --fill-color: #D2E3FC;\n",
              "      --hover-bg-color: #434B5C;\n",
              "      --hover-fill-color: #FFFFFF;\n",
              "      --disabled-bg-color: #3B4455;\n",
              "      --disabled-fill-color: #666;\n",
              "  }\n",
              "\n",
              "  .colab-df-quickchart {\n",
              "    background-color: var(--bg-color);\n",
              "    border: none;\n",
              "    border-radius: 50%;\n",
              "    cursor: pointer;\n",
              "    display: none;\n",
              "    fill: var(--fill-color);\n",
              "    height: 32px;\n",
              "    padding: 0;\n",
              "    width: 32px;\n",
              "  }\n",
              "\n",
              "  .colab-df-quickchart:hover {\n",
              "    background-color: var(--hover-bg-color);\n",
              "    box-shadow: 0 1px 2px rgba(60, 64, 67, 0.3), 0 1px 3px 1px rgba(60, 64, 67, 0.15);\n",
              "    fill: var(--button-hover-fill-color);\n",
              "  }\n",
              "\n",
              "  .colab-df-quickchart-complete:disabled,\n",
              "  .colab-df-quickchart-complete:disabled:hover {\n",
              "    background-color: var(--disabled-bg-color);\n",
              "    fill: var(--disabled-fill-color);\n",
              "    box-shadow: none;\n",
              "  }\n",
              "\n",
              "  .colab-df-spinner {\n",
              "    border: 2px solid var(--fill-color);\n",
              "    border-color: transparent;\n",
              "    border-bottom-color: var(--fill-color);\n",
              "    animation:\n",
              "      spin 1s steps(1) infinite;\n",
              "  }\n",
              "\n",
              "  @keyframes spin {\n",
              "    0% {\n",
              "      border-color: transparent;\n",
              "      border-bottom-color: var(--fill-color);\n",
              "      border-left-color: var(--fill-color);\n",
              "    }\n",
              "    20% {\n",
              "      border-color: transparent;\n",
              "      border-left-color: var(--fill-color);\n",
              "      border-top-color: var(--fill-color);\n",
              "    }\n",
              "    30% {\n",
              "      border-color: transparent;\n",
              "      border-left-color: var(--fill-color);\n",
              "      border-top-color: var(--fill-color);\n",
              "      border-right-color: var(--fill-color);\n",
              "    }\n",
              "    40% {\n",
              "      border-color: transparent;\n",
              "      border-right-color: var(--fill-color);\n",
              "      border-top-color: var(--fill-color);\n",
              "    }\n",
              "    60% {\n",
              "      border-color: transparent;\n",
              "      border-right-color: var(--fill-color);\n",
              "    }\n",
              "    80% {\n",
              "      border-color: transparent;\n",
              "      border-right-color: var(--fill-color);\n",
              "      border-bottom-color: var(--fill-color);\n",
              "    }\n",
              "    90% {\n",
              "      border-color: transparent;\n",
              "      border-bottom-color: var(--fill-color);\n",
              "    }\n",
              "  }\n",
              "</style>\n",
              "\n",
              "  <script>\n",
              "    async function quickchart(key) {\n",
              "      const quickchartButtonEl =\n",
              "        document.querySelector('#' + key + ' button');\n",
              "      quickchartButtonEl.disabled = true;  // To prevent multiple clicks.\n",
              "      quickchartButtonEl.classList.add('colab-df-spinner');\n",
              "      try {\n",
              "        const charts = await google.colab.kernel.invokeFunction(\n",
              "            'suggestCharts', [key], {});\n",
              "      } catch (error) {\n",
              "        console.error('Error during call to suggestCharts:', error);\n",
              "      }\n",
              "      quickchartButtonEl.classList.remove('colab-df-spinner');\n",
              "      quickchartButtonEl.classList.add('colab-df-quickchart-complete');\n",
              "    }\n",
              "    (() => {\n",
              "      let quickchartButtonEl =\n",
              "        document.querySelector('#df-a93f0157-e4e5-476c-85e3-00ccf74df65a button');\n",
              "      quickchartButtonEl.style.display =\n",
              "        google.colab.kernel.accessAllowed ? 'block' : 'none';\n",
              "    })();\n",
              "  </script>\n",
              "</div>\n",
              "    </div>\n",
              "  </div>\n"
            ]
          },
          "metadata": {},
          "execution_count": 53
        }
      ]
    },
    {
      "cell_type": "code",
      "source": [
        "X[\"mileage\"] = df[\"mileage\"]\n",
        "sns.catplot(x=\"mileage\", y=\"Cluster\", data=X, kind=\"boxen\", height=6);"
      ],
      "metadata": {
        "colab": {
          "base_uri": "https://localhost:8080/",
          "height": 607
        },
        "id": "RmpsEtb3b56y",
        "outputId": "f7cb763b-916b-496b-9d49-eb1ac8910704"
      },
      "execution_count": null,
      "outputs": [
        {
          "output_type": "display_data",
          "data": {
            "text/plain": [
              "<Figure size 600x600 with 1 Axes>"
            ],
            "image/png": "[encoded data removed]"
          },
          "metadata": {}
        }
      ]
    },
    {
      "cell_type": "markdown",
      "source": [
        "In our dataset, we use our target `vf_DisplacementL` and the features, `vf_DisplacementCC` and `vf_DisplacementCI` to obseve the patterns generated between them."
      ],
      "metadata": {
        "id": "NYU00dCg4Wjf"
      }
    },
    {
      "cell_type": "code",
      "source": [
        "X = df.loc[:, [\"vf_DisplacementCC\", \"vf_DisplacementCI\", \"vf_DisplacementL\"]]\n",
        "X.head()"
      ],
      "metadata": {
        "id": "bcAgs0yBNKPx",
        "colab": {
          "base_uri": "https://localhost:8080/",
          "height": 206
        },
        "outputId": "d7e97791-9718-4a9a-a5af-779fee1e67f2"
      },
      "execution_count": null,
      "outputs": [
        {
          "output_type": "execute_result",
          "data": {
            "text/plain": [
              "   vf_DisplacementCC  vf_DisplacementCI  vf_DisplacementL\n",
              "0             2000.0         122.047488               2.0\n",
              "1             3600.0         219.685479               3.6\n",
              "4             1500.0          91.535616               1.5\n",
              "5             2500.0         152.559360               2.5\n",
              "6             3600.0         219.685479               3.6"
            ],
            "text/html": [
              "\n",
              "  <div id=\"df-6c9ebb37-c87a-43a7-973d-9d03fd41ae3e\" class=\"colab-df-container\">\n",
              "    <div>\n",
              "<style scoped>\n",
              "    .dataframe tbody tr th:only-of-type {\n",
              "        vertical-align: middle;\n",
              "    }\n",
              "\n",
              "    .dataframe tbody tr th {\n",
              "        vertical-align: top;\n",
              "    }\n",
              "\n",
              "    .dataframe thead th {\n",
              "        text-align: right;\n",
              "    }\n",
              "</style>\n",
              "<table border=\"1\" class=\"dataframe\">\n",
              "  <thead>\n",
              "    <tr style=\"text-align: right;\">\n",
              "      <th></th>\n",
              "      <th>vf_DisplacementCC</th>\n",
              "      <th>vf_DisplacementCI</th>\n",
              "      <th>vf_DisplacementL</th>\n",
              "    </tr>\n",
              "  </thead>\n",
              "  <tbody>\n",
              "    <tr>\n",
              "      <th>0</th>\n",
              "      <td>2000.0</td>\n",
              "      <td>122.047488</td>\n",
              "      <td>2.0</td>\n",
              "    </tr>\n",
              "    <tr>\n",
              "      <th>1</th>\n",
              "      <td>3600.0</td>\n",
              "      <td>219.685479</td>\n",
              "      <td>3.6</td>\n",
              "    </tr>\n",
              "    <tr>\n",
              "      <th>4</th>\n",
              "      <td>1500.0</td>\n",
              "      <td>91.535616</td>\n",
              "      <td>1.5</td>\n",
              "    </tr>\n",
              "    <tr>\n",
              "      <th>5</th>\n",
              "      <td>2500.0</td>\n",
              "      <td>152.559360</td>\n",
              "      <td>2.5</td>\n",
              "    </tr>\n",
              "    <tr>\n",
              "      <th>6</th>\n",
              "      <td>3600.0</td>\n",
              "      <td>219.685479</td>\n",
              "      <td>3.6</td>\n",
              "    </tr>\n",
              "  </tbody>\n",
              "</table>\n",
              "</div>\n",
              "    <div class=\"colab-df-buttons\">\n",
              "\n",
              "  <div class=\"colab-df-container\">\n",
              "    <button class=\"colab-df-convert\" onclick=\"convertToInteractive('df-6c9ebb37-c87a-43a7-973d-9d03fd41ae3e')\"\n",
              "            title=\"Convert this dataframe to an interactive table.\"\n",
              "            style=\"display:none;\">\n",
              "\n",
              "  <svg xmlns=\"http://www.w3.org/2000/svg\" height=\"24px\" viewBox=\"0 -960 960 960\">\n",
              "    <path d=\"M120-120v-720h720v720H120Zm60-500h600v-160H180v160Zm220 220h160v-160H400v160Zm0 220h160v-160H400v160ZM180-400h160v-160H180v160Zm440 0h160v-160H620v160ZM180-180h160v-160H180v160Zm440 0h160v-160H620v160Z\"/>\n",
              "  </svg>\n",
              "    </button>\n",
              "\n",
              "  <style>\n",
              "    .colab-df-container {\n",
              "      display:flex;\n",
              "      gap: 12px;\n",
              "    }\n",
              "\n",
              "    .colab-df-convert {\n",
              "      background-color: #E8F0FE;\n",
              "      border: none;\n",
              "      border-radius: 50%;\n",
              "      cursor: pointer;\n",
              "      display: none;\n",
              "      fill: #1967D2;\n",
              "      height: 32px;\n",
              "      padding: 0 0 0 0;\n",
              "      width: 32px;\n",
              "    }\n",
              "\n",
              "    .colab-df-convert:hover {\n",
              "      background-color: #E2EBFA;\n",
              "      box-shadow: 0px 1px 2px rgba(60, 64, 67, 0.3), 0px 1px 3px 1px rgba(60, 64, 67, 0.15);\n",
              "      fill: #174EA6;\n",
              "    }\n",
              "\n",
              "    .colab-df-buttons div {\n",
              "      margin-bottom: 4px;\n",
              "    }\n",
              "\n",
              "    [theme=dark] .colab-df-convert {\n",
              "      background-color: #3B4455;\n",
              "      fill: #D2E3FC;\n",
              "    }\n",
              "\n",
              "    [theme=dark] .colab-df-convert:hover {\n",
              "      background-color: #434B5C;\n",
              "      box-shadow: 0px 1px 3px 1px rgba(0, 0, 0, 0.15);\n",
              "      filter: drop-shadow(0px 1px 2px rgba(0, 0, 0, 0.3));\n",
              "      fill: #FFFFFF;\n",
              "    }\n",
              "  </style>\n",
              "\n",
              "    <script>\n",
              "      const buttonEl =\n",
              "        document.querySelector('#df-6c9ebb37-c87a-43a7-973d-9d03fd41ae3e button.colab-df-convert');\n",
              "      buttonEl.style.display =\n",
              "        google.colab.kernel.accessAllowed ? 'block' : 'none';\n",
              "\n",
              "      async function convertToInteractive(key) {\n",
              "        const element = document.querySelector('#df-6c9ebb37-c87a-43a7-973d-9d03fd41ae3e');\n",
              "        const dataTable =\n",
              "          await google.colab.kernel.invokeFunction('convertToInteractive',\n",
              "                                                    [key], {});\n",
              "        if (!dataTable) return;\n",
              "\n",
              "        const docLinkHtml = 'Like what you see? Visit the ' +\n",
              "          '<a target=\"_blank\" href=https://colab.research.google.com/notebooks/data_table.ipynb>data table notebook</a>'\n",
              "          + ' to learn more about interactive tables.';\n",
              "        element.innerHTML = '';\n",
              "        dataTable['output_type'] = 'display_data';\n",
              "        await google.colab.output.renderOutput(dataTable, element);\n",
              "        const docLink = document.createElement('div');\n",
              "        docLink.innerHTML = docLinkHtml;\n",
              "        element.appendChild(docLink);\n",
              "      }\n",
              "    </script>\n",
              "  </div>\n",
              "\n",
              "\n",
              "<div id=\"df-184a668c-b6ec-414f-b2a1-86bbd92d2c88\">\n",
              "  <button class=\"colab-df-quickchart\" onclick=\"quickchart('df-184a668c-b6ec-414f-b2a1-86bbd92d2c88')\"\n",
              "            title=\"Suggest charts\"\n",
              "            style=\"display:none;\">\n",
              "\n",
              "<svg xmlns=\"http://www.w3.org/2000/svg\" height=\"24px\"viewBox=\"0 0 24 24\"\n",
              "     width=\"24px\">\n",
              "    <g>\n",
              "        <path d=\"M19 3H5c-1.1 0-2 .9-2 2v14c0 1.1.9 2 2 2h14c1.1 0 2-.9 2-2V5c0-1.1-.9-2-2-2zM9 17H7v-7h2v7zm4 0h-2V7h2v10zm4 0h-2v-4h2v4z\"/>\n",
              "    </g>\n",
              "</svg>\n",
              "  </button>\n",
              "\n",
              "<style>\n",
              "  .colab-df-quickchart {\n",
              "      --bg-color: #E8F0FE;\n",
              "      --fill-color: #1967D2;\n",
              "      --hover-bg-color: #E2EBFA;\n",
              "      --hover-fill-color: #174EA6;\n",
              "      --disabled-fill-color: #AAA;\n",
              "      --disabled-bg-color: #DDD;\n",
              "  }\n",
              "\n",
              "  [theme=dark] .colab-df-quickchart {\n",
              "      --bg-color: #3B4455;\n",
              "      --fill-color: #D2E3FC;\n",
              "      --hover-bg-color: #434B5C;\n",
              "      --hover-fill-color: #FFFFFF;\n",
              "      --disabled-bg-color: #3B4455;\n",
              "      --disabled-fill-color: #666;\n",
              "  }\n",
              "\n",
              "  .colab-df-quickchart {\n",
              "    background-color: var(--bg-color);\n",
              "    border: none;\n",
              "    border-radius: 50%;\n",
              "    cursor: pointer;\n",
              "    display: none;\n",
              "    fill: var(--fill-color);\n",
              "    height: 32px;\n",
              "    padding: 0;\n",
              "    width: 32px;\n",
              "  }\n",
              "\n",
              "  .colab-df-quickchart:hover {\n",
              "    background-color: var(--hover-bg-color);\n",
              "    box-shadow: 0 1px 2px rgba(60, 64, 67, 0.3), 0 1px 3px 1px rgba(60, 64, 67, 0.15);\n",
              "    fill: var(--button-hover-fill-color);\n",
              "  }\n",
              "\n",
              "  .colab-df-quickchart-complete:disabled,\n",
              "  .colab-df-quickchart-complete:disabled:hover {\n",
              "    background-color: var(--disabled-bg-color);\n",
              "    fill: var(--disabled-fill-color);\n",
              "    box-shadow: none;\n",
              "  }\n",
              "\n",
              "  .colab-df-spinner {\n",
              "    border: 2px solid var(--fill-color);\n",
              "    border-color: transparent;\n",
              "    border-bottom-color: var(--fill-color);\n",
              "    animation:\n",
              "      spin 1s steps(1) infinite;\n",
              "  }\n",
              "\n",
              "  @keyframes spin {\n",
              "    0% {\n",
              "      border-color: transparent;\n",
              "      border-bottom-color: var(--fill-color);\n",
              "      border-left-color: var(--fill-color);\n",
              "    }\n",
              "    20% {\n",
              "      border-color: transparent;\n",
              "      border-left-color: var(--fill-color);\n",
              "      border-top-color: var(--fill-color);\n",
              "    }\n",
              "    30% {\n",
              "      border-color: transparent;\n",
              "      border-left-color: var(--fill-color);\n",
              "      border-top-color: var(--fill-color);\n",
              "      border-right-color: var(--fill-color);\n",
              "    }\n",
              "    40% {\n",
              "      border-color: transparent;\n",
              "      border-right-color: var(--fill-color);\n",
              "      border-top-color: var(--fill-color);\n",
              "    }\n",
              "    60% {\n",
              "      border-color: transparent;\n",
              "      border-right-color: var(--fill-color);\n",
              "    }\n",
              "    80% {\n",
              "      border-color: transparent;\n",
              "      border-right-color: var(--fill-color);\n",
              "      border-bottom-color: var(--fill-color);\n",
              "    }\n",
              "    90% {\n",
              "      border-color: transparent;\n",
              "      border-bottom-color: var(--fill-color);\n",
              "    }\n",
              "  }\n",
              "</style>\n",
              "\n",
              "  <script>\n",
              "    async function quickchart(key) {\n",
              "      const quickchartButtonEl =\n",
              "        document.querySelector('#' + key + ' button');\n",
              "      quickchartButtonEl.disabled = true;  // To prevent multiple clicks.\n",
              "      quickchartButtonEl.classList.add('colab-df-spinner');\n",
              "      try {\n",
              "        const charts = await google.colab.kernel.invokeFunction(\n",
              "            'suggestCharts', [key], {});\n",
              "      } catch (error) {\n",
              "        console.error('Error during call to suggestCharts:', error);\n",
              "      }\n",
              "      quickchartButtonEl.classList.remove('colab-df-spinner');\n",
              "      quickchartButtonEl.classList.add('colab-df-quickchart-complete');\n",
              "    }\n",
              "    (() => {\n",
              "      let quickchartButtonEl =\n",
              "        document.querySelector('#df-184a668c-b6ec-414f-b2a1-86bbd92d2c88 button');\n",
              "      quickchartButtonEl.style.display =\n",
              "        google.colab.kernel.accessAllowed ? 'block' : 'none';\n",
              "    })();\n",
              "  </script>\n",
              "</div>\n",
              "    </div>\n",
              "  </div>\n"
            ]
          },
          "metadata": {},
          "execution_count": 55
        }
      ]
    },
    {
      "cell_type": "code",
      "source": [
        "# Create cluster feature\n",
        "kmeans = KMeans(n_clusters=6)\n",
        "X[\"Cluster\"] = kmeans.fit_predict(X)\n",
        "X[\"Cluster\"] = X[\"Cluster\"].astype(\"category\")\n",
        "\n",
        "X.head()"
      ],
      "metadata": {
        "colab": {
          "base_uri": "https://localhost:8080/",
          "height": 206
        },
        "id": "P4EnkK4aNhei",
        "outputId": "0451eead-6538-40ec-ef84-d21f95a678e6"
      },
      "execution_count": null,
      "outputs": [
        {
          "output_type": "execute_result",
          "data": {
            "text/plain": [
              "   vf_DisplacementCC  vf_DisplacementCI  vf_DisplacementL Cluster\n",
              "0             2000.0         122.047488               2.0       0\n",
              "1             3600.0         219.685479               3.6       1\n",
              "4             1500.0          91.535616               1.5       4\n",
              "5             2500.0         152.559360               2.5       3\n",
              "6             3600.0         219.685479               3.6       1"
            ],
            "text/html": [
              "\n",
              "  <div id=\"df-82d196d8-e9fa-4494-97b1-21f644a02202\" class=\"colab-df-container\">\n",
              "    <div>\n",
              "<style scoped>\n",
              "    .dataframe tbody tr th:only-of-type {\n",
              "        vertical-align: middle;\n",
              "    }\n",
              "\n",
              "    .dataframe tbody tr th {\n",
              "        vertical-align: top;\n",
              "    }\n",
              "\n",
              "    .dataframe thead th {\n",
              "        text-align: right;\n",
              "    }\n",
              "</style>\n",
              "<table border=\"1\" class=\"dataframe\">\n",
              "  <thead>\n",
              "    <tr style=\"text-align: right;\">\n",
              "      <th></th>\n",
              "      <th>vf_DisplacementCC</th>\n",
              "      <th>vf_DisplacementCI</th>\n",
              "      <th>vf_DisplacementL</th>\n",
              "      <th>Cluster</th>\n",
              "    </tr>\n",
              "  </thead>\n",
              "  <tbody>\n",
              "    <tr>\n",
              "      <th>0</th>\n",
              "      <td>2000.0</td>\n",
              "      <td>122.047488</td>\n",
              "      <td>2.0</td>\n",
              "      <td>0</td>\n",
              "    </tr>\n",
              "    <tr>\n",
              "      <th>1</th>\n",
              "      <td>3600.0</td>\n",
              "      <td>219.685479</td>\n",
              "      <td>3.6</td>\n",
              "      <td>1</td>\n",
              "    </tr>\n",
              "    <tr>\n",
              "      <th>4</th>\n",
              "      <td>1500.0</td>\n",
              "      <td>91.535616</td>\n",
              "      <td>1.5</td>\n",
              "      <td>4</td>\n",
              "    </tr>\n",
              "    <tr>\n",
              "      <th>5</th>\n",
              "      <td>2500.0</td>\n",
              "      <td>152.559360</td>\n",
              "      <td>2.5</td>\n",
              "      <td>3</td>\n",
              "    </tr>\n",
              "    <tr>\n",
              "      <th>6</th>\n",
              "      <td>3600.0</td>\n",
              "      <td>219.685479</td>\n",
              "      <td>3.6</td>\n",
              "      <td>1</td>\n",
              "    </tr>\n",
              "  </tbody>\n",
              "</table>\n",
              "</div>\n",
              "    <div class=\"colab-df-buttons\">\n",
              "\n",
              "  <div class=\"colab-df-container\">\n",
              "    <button class=\"colab-df-convert\" onclick=\"convertToInteractive('df-82d196d8-e9fa-4494-97b1-21f644a02202')\"\n",
              "            title=\"Convert this dataframe to an interactive table.\"\n",
              "            style=\"display:none;\">\n",
              "\n",
              "  <svg xmlns=\"http://www.w3.org/2000/svg\" height=\"24px\" viewBox=\"0 -960 960 960\">\n",
              "    <path d=\"M120-120v-720h720v720H120Zm60-500h600v-160H180v160Zm220 220h160v-160H400v160Zm0 220h160v-160H400v160ZM180-400h160v-160H180v160Zm440 0h160v-160H620v160ZM180-180h160v-160H180v160Zm440 0h160v-160H620v160Z\"/>\n",
              "  </svg>\n",
              "    </button>\n",
              "\n",
              "  <style>\n",
              "    .colab-df-container {\n",
              "      display:flex;\n",
              "      gap: 12px;\n",
              "    }\n",
              "\n",
              "    .colab-df-convert {\n",
              "      background-color: #E8F0FE;\n",
              "      border: none;\n",
              "      border-radius: 50%;\n",
              "      cursor: pointer;\n",
              "      display: none;\n",
              "      fill: #1967D2;\n",
              "      height: 32px;\n",
              "      padding: 0 0 0 0;\n",
              "      width: 32px;\n",
              "    }\n",
              "\n",
              "    .colab-df-convert:hover {\n",
              "      background-color: #E2EBFA;\n",
              "      box-shadow: 0px 1px 2px rgba(60, 64, 67, 0.3), 0px 1px 3px 1px rgba(60, 64, 67, 0.15);\n",
              "      fill: #174EA6;\n",
              "    }\n",
              "\n",
              "    .colab-df-buttons div {\n",
              "      margin-bottom: 4px;\n",
              "    }\n",
              "\n",
              "    [theme=dark] .colab-df-convert {\n",
              "      background-color: #3B4455;\n",
              "      fill: #D2E3FC;\n",
              "    }\n",
              "\n",
              "    [theme=dark] .colab-df-convert:hover {\n",
              "      background-color: #434B5C;\n",
              "      box-shadow: 0px 1px 3px 1px rgba(0, 0, 0, 0.15);\n",
              "      filter: drop-shadow(0px 1px 2px rgba(0, 0, 0, 0.3));\n",
              "      fill: #FFFFFF;\n",
              "    }\n",
              "  </style>\n",
              "\n",
              "    <script>\n",
              "      const buttonEl =\n",
              "        document.querySelector('#df-82d196d8-e9fa-4494-97b1-21f644a02202 button.colab-df-convert');\n",
              "      buttonEl.style.display =\n",
              "        google.colab.kernel.accessAllowed ? 'block' : 'none';\n",
              "\n",
              "      async function convertToInteractive(key) {\n",
              "        const element = document.querySelector('#df-82d196d8-e9fa-4494-97b1-21f644a02202');\n",
              "        const dataTable =\n",
              "          await google.colab.kernel.invokeFunction('convertToInteractive',\n",
              "                                                    [key], {});\n",
              "        if (!dataTable) return;\n",
              "\n",
              "        const docLinkHtml = 'Like what you see? Visit the ' +\n",
              "          '<a target=\"_blank\" href=https://colab.research.google.com/notebooks/data_table.ipynb>data table notebook</a>'\n",
              "          + ' to learn more about interactive tables.';\n",
              "        element.innerHTML = '';\n",
              "        dataTable['output_type'] = 'display_data';\n",
              "        await google.colab.output.renderOutput(dataTable, element);\n",
              "        const docLink = document.createElement('div');\n",
              "        docLink.innerHTML = docLinkHtml;\n",
              "        element.appendChild(docLink);\n",
              "      }\n",
              "    </script>\n",
              "  </div>\n",
              "\n",
              "\n",
              "<div id=\"df-a29ab5f3-bdab-4bad-ac38-59342554d5b8\">\n",
              "  <button class=\"colab-df-quickchart\" onclick=\"quickchart('df-a29ab5f3-bdab-4bad-ac38-59342554d5b8')\"\n",
              "            title=\"Suggest charts\"\n",
              "            style=\"display:none;\">\n",
              "\n",
              "<svg xmlns=\"http://www.w3.org/2000/svg\" height=\"24px\"viewBox=\"0 0 24 24\"\n",
              "     width=\"24px\">\n",
              "    <g>\n",
              "        <path d=\"M19 3H5c-1.1 0-2 .9-2 2v14c0 1.1.9 2 2 2h14c1.1 0 2-.9 2-2V5c0-1.1-.9-2-2-2zM9 17H7v-7h2v7zm4 0h-2V7h2v10zm4 0h-2v-4h2v4z\"/>\n",
              "    </g>\n",
              "</svg>\n",
              "  </button>\n",
              "\n",
              "<style>\n",
              "  .colab-df-quickchart {\n",
              "      --bg-color: #E8F0FE;\n",
              "      --fill-color: #1967D2;\n",
              "      --hover-bg-color: #E2EBFA;\n",
              "      --hover-fill-color: #174EA6;\n",
              "      --disabled-fill-color: #AAA;\n",
              "      --disabled-bg-color: #DDD;\n",
              "  }\n",
              "\n",
              "  [theme=dark] .colab-df-quickchart {\n",
              "      --bg-color: #3B4455;\n",
              "      --fill-color: #D2E3FC;\n",
              "      --hover-bg-color: #434B5C;\n",
              "      --hover-fill-color: #FFFFFF;\n",
              "      --disabled-bg-color: #3B4455;\n",
              "      --disabled-fill-color: #666;\n",
              "  }\n",
              "\n",
              "  .colab-df-quickchart {\n",
              "    background-color: var(--bg-color);\n",
              "    border: none;\n",
              "    border-radius: 50%;\n",
              "    cursor: pointer;\n",
              "    display: none;\n",
              "    fill: var(--fill-color);\n",
              "    height: 32px;\n",
              "    padding: 0;\n",
              "    width: 32px;\n",
              "  }\n",
              "\n",
              "  .colab-df-quickchart:hover {\n",
              "    background-color: var(--hover-bg-color);\n",
              "    box-shadow: 0 1px 2px rgba(60, 64, 67, 0.3), 0 1px 3px 1px rgba(60, 64, 67, 0.15);\n",
              "    fill: var(--button-hover-fill-color);\n",
              "  }\n",
              "\n",
              "  .colab-df-quickchart-complete:disabled,\n",
              "  .colab-df-quickchart-complete:disabled:hover {\n",
              "    background-color: var(--disabled-bg-color);\n",
              "    fill: var(--disabled-fill-color);\n",
              "    box-shadow: none;\n",
              "  }\n",
              "\n",
              "  .colab-df-spinner {\n",
              "    border: 2px solid var(--fill-color);\n",
              "    border-color: transparent;\n",
              "    border-bottom-color: var(--fill-color);\n",
              "    animation:\n",
              "      spin 1s steps(1) infinite;\n",
              "  }\n",
              "\n",
              "  @keyframes spin {\n",
              "    0% {\n",
              "      border-color: transparent;\n",
              "      border-bottom-color: var(--fill-color);\n",
              "      border-left-color: var(--fill-color);\n",
              "    }\n",
              "    20% {\n",
              "      border-color: transparent;\n",
              "      border-left-color: var(--fill-color);\n",
              "      border-top-color: var(--fill-color);\n",
              "    }\n",
              "    30% {\n",
              "      border-color: transparent;\n",
              "      border-left-color: var(--fill-color);\n",
              "      border-top-color: var(--fill-color);\n",
              "      border-right-color: var(--fill-color);\n",
              "    }\n",
              "    40% {\n",
              "      border-color: transparent;\n",
              "      border-right-color: var(--fill-color);\n",
              "      border-top-color: var(--fill-color);\n",
              "    }\n",
              "    60% {\n",
              "      border-color: transparent;\n",
              "      border-right-color: var(--fill-color);\n",
              "    }\n",
              "    80% {\n",
              "      border-color: transparent;\n",
              "      border-right-color: var(--fill-color);\n",
              "      border-bottom-color: var(--fill-color);\n",
              "    }\n",
              "    90% {\n",
              "      border-color: transparent;\n",
              "      border-bottom-color: var(--fill-color);\n",
              "    }\n",
              "  }\n",
              "</style>\n",
              "\n",
              "  <script>\n",
              "    async function quickchart(key) {\n",
              "      const quickchartButtonEl =\n",
              "        document.querySelector('#' + key + ' button');\n",
              "      quickchartButtonEl.disabled = true;  // To prevent multiple clicks.\n",
              "      quickchartButtonEl.classList.add('colab-df-spinner');\n",
              "      try {\n",
              "        const charts = await google.colab.kernel.invokeFunction(\n",
              "            'suggestCharts', [key], {});\n",
              "      } catch (error) {\n",
              "        console.error('Error during call to suggestCharts:', error);\n",
              "      }\n",
              "      quickchartButtonEl.classList.remove('colab-df-spinner');\n",
              "      quickchartButtonEl.classList.add('colab-df-quickchart-complete');\n",
              "    }\n",
              "    (() => {\n",
              "      let quickchartButtonEl =\n",
              "        document.querySelector('#df-a29ab5f3-bdab-4bad-ac38-59342554d5b8 button');\n",
              "      quickchartButtonEl.style.display =\n",
              "        google.colab.kernel.accessAllowed ? 'block' : 'none';\n",
              "    })();\n",
              "  </script>\n",
              "</div>\n",
              "    </div>\n",
              "  </div>\n"
            ]
          },
          "metadata": {},
          "execution_count": 56
        }
      ]
    },
    {
      "cell_type": "code",
      "source": [
        "sns.relplot(\n",
        "    x=\"vf_DisplacementCC\", y=\"vf_DisplacementCI\", hue=\"vf_DisplacementL\", data=X, height=6,\n",
        ");"
      ],
      "metadata": {
        "colab": {
          "base_uri": "https://localhost:8080/",
          "height": 607
        },
        "id": "9uXMO6uaNohc",
        "outputId": "95616245-b8da-46f2-b826-e528408dcdc1"
      },
      "execution_count": null,
      "outputs": [
        {
          "output_type": "display_data",
          "data": {
            "text/plain": [
              "<Figure size 721.861x600 with 1 Axes>"
            ],
            "image/png": "[encoded data removed]"
          },
          "metadata": {}
        }
      ]
    },
    {
      "cell_type": "markdown",
      "source": [
        "*We can clearly see that there is high-correlated relationship between `vf_DisplacementCC` and `vf_DisplacementCI`*"
      ],
      "metadata": {
        "id": "fxSGjWLC4pFh"
      }
    },
    {
      "cell_type": "code",
      "source": [
        "X[\"vf_DisplacementCC\"] = df[\"vf_DisplacementCC\"]\n",
        "sns.catplot(x=\"vf_DisplacementCI\", y=\"Cluster\", data=X, kind=\"boxen\", height=6);"
      ],
      "metadata": {
        "colab": {
          "base_uri": "https://localhost:8080/",
          "height": 607
        },
        "id": "mu9AtJfGOgbJ",
        "outputId": "8d52d5e1-9e50-49e4-b6a6-ad977966b97e"
      },
      "execution_count": null,
      "outputs": [
        {
          "output_type": "display_data",
          "data": {
            "text/plain": [
              "<Figure size 600x600 with 1 Axes>"
            ],
            "image/png": "[encoded data removed]"
          },
          "metadata": {}
        }
      ]
    },
    {
      "cell_type": "markdown",
      "source": [
        "### Principle Component Analysis\n",
        "\n",
        "PCA is a great tool helping to discover important relationships in the data and can also be used to create more informative features."
      ],
      "metadata": {
        "id": "xp9qXOyckkdT"
      }
    },
    {
      "cell_type": "code",
      "source": [
        "pip install -U scikit-learn"
      ],
      "metadata": {
        "colab": {
          "base_uri": "https://localhost:8080/"
        },
        "id": "54zWNV4ugT7g",
        "outputId": "dca51c66-c820-41c3-98dc-e5eef1504b76"
      },
      "execution_count": null,
      "outputs": [
        {
          "output_type": "stream",
          "name": "stdout",
          "text": [
            "Requirement already satisfied: scikit-learn in /usr/local/lib/python3.10/dist-packages (1.3.2)\n",
            "Requirement already satisfied: numpy<2.0,>=1.17.3 in /usr/local/lib/python3.10/dist-packages (from scikit-learn) (1.23.5)\n",
            "Requirement already satisfied: scipy>=1.5.0 in /usr/local/lib/python3.10/dist-packages (from scikit-learn) (1.11.3)\n",
            "Requirement already satisfied: joblib>=1.1.1 in /usr/local/lib/python3.10/dist-packages (from scikit-learn) (1.3.2)\n",
            "Requirement already satisfied: threadpoolctl>=2.0.0 in /usr/local/lib/python3.10/dist-packages (from scikit-learn) (3.2.0)\n"
          ]
        }
      ]
    },
    {
      "cell_type": "code",
      "source": [
        "# Set the size of the figure\n",
        "plt.figure(figsize=(10, 8))\n",
        "\n",
        "# Use Seaborn's heatmap function to create a correlation heatmap\n",
        "sns.heatmap(df.select_dtypes(include='number').corr(), annot=True, cmap='coolwarm', fmt='.2f')\n",
        "\n",
        "# Add a title to the plot\n",
        "plt.title('Correlation Heatmap')"
      ],
      "metadata": {
        "colab": {
          "base_uri": "https://localhost:8080/",
          "height": 824
        },
        "id": "7Uc6CPYCTgcL",
        "outputId": "851e7805-7923-4e08-eb7d-c1c4fa8dd58c"
      },
      "execution_count": null,
      "outputs": [
        {
          "output_type": "execute_result",
          "data": {
            "text/plain": [
              "Text(0.5, 1.0, 'Correlation Heatmap')"
            ]
          },
          "metadata": {},
          "execution_count": 60
        },
        {
          "output_type": "display_data",
          "data": {
            "text/plain": [
              "<Figure size 1000x800 with 2 Axes>"
            ],
            "image/png": "[encoded data removed]"
          },
          "metadata": {}
        }
      ]
    },
    {
      "cell_type": "markdown",
      "source": [
        "In our dataset, we use vf_DisplacementCC, vf_DisplacementCI, vf_DisplacementL to investigate the relationships between these 3 variables by PCA. Now we can fit scikit-learn's PCA estimator and create the principal components. You can see here the first few rows of the transformed dataset."
      ],
      "metadata": {
        "id": "dmPduGz8tOdq"
      }
    },
    {
      "cell_type": "code",
      "source": [
        "from sklearn.decomposition import PCA\n",
        "correlated_columns = ['vf_DisplacementCC', 'vf_DisplacementCI', 'vf_DisplacementL']\n",
        "df2 = df[correlated_columns].copy(deep=True)\n",
        "\n",
        "pca = PCA(n_components=1)\n",
        "df_transformed = pca.fit_transform(df2)"
      ],
      "metadata": {
        "id": "dBeQp17JA_9x"
      },
      "execution_count": null,
      "outputs": []
    },
    {
      "cell_type": "markdown",
      "source": [
        "Replace the high correlated columns with the resulted PCA component."
      ],
      "metadata": {
        "id": "NzEQu7Hwkw97"
      }
    },
    {
      "cell_type": "code",
      "source": [
        "df['vf_DisplacementCombined_CC_CI_L'] = df_transformed"
      ],
      "metadata": {
        "id": "OVUb3fLbkwEF"
      },
      "execution_count": null,
      "outputs": []
    },
    {
      "cell_type": "code",
      "source": [
        "df.drop(['vf_DisplacementCC', 'vf_DisplacementCI', 'vf_DisplacementL'], axis='columns', inplace=True)"
      ],
      "metadata": {
        "id": "9lS1By0hm4e0"
      },
      "execution_count": null,
      "outputs": []
    },
    {
      "cell_type": "markdown",
      "source": [
        "In real life engineering, we will transformed the columns into insightful features to ease the further analysis. Besides, for the columns that have no contribution further will be dropped to improve the runtime complexity for large datasets."
      ],
      "metadata": {
        "id": "Xhy-aAJ35W8e"
      }
    },
    {
      "cell_type": "markdown",
      "source": [
        "## 7. Visualization"
      ],
      "metadata": {
        "id": "ixXkJweT_fsf"
      }
    },
    {
      "cell_type": "markdown",
      "source": [
        "Comparisons between `msrp` and `askPrice`"
      ],
      "metadata": {
        "id": "a4psrnRhRJqG"
      }
    },
    {
      "cell_type": "code",
      "source": [
        "# If the feature has 0.0 values, use np.log1p (log(1+x)) instead of np.log\n",
        "df[\"msrp\"] = df.msrp.apply(np.log1p)\n",
        "df[\"askPrice\"] = df.askPrice.apply(np.log1p)\n",
        "\n",
        "# Plot a comparison\n",
        "fig, axs = plt.subplots(1, 2, figsize=(8, 4))\n",
        "sns.kdeplot(df.msrp, shade=True, ax=axs[0])\n",
        "sns.kdeplot(df.askPrice, shade=True, ax=axs[1]);"
      ],
      "metadata": {
        "colab": {
          "base_uri": "https://localhost:8080/",
          "height": 407
        },
        "id": "tGLF4nY6Qf_z",
        "outputId": "bf0ff456-db4c-45e2-f8b0-b39b50f79e02"
      },
      "execution_count": null,
      "outputs": [
        {
          "output_type": "display_data",
          "data": {
            "text/plain": [
              "<Figure size 800x400 with 2 Axes>"
            ],
            "image/png": "[encoded data removed]"
          },
          "metadata": {}
        }
      ]
    },
    {
      "cell_type": "markdown",
      "source": [
        "*From the graph above, we can observe that msrp and askPrice has similar plot pattern. This shows that msrp and askPrice have similar behaviors as the vehicle manafaturing retail price has no much difference with ask price of vehicle.*"
      ],
      "metadata": {
        "id": "y9fbqNR9KwO8"
      }
    },
    {
      "cell_type": "code",
      "source": [
        "plt.figure(dpi=90)\n",
        "ax = sns.distplot(y, kde=False, norm_hist=True)\n",
        "ax = sns.kdeplot(X_train.askPrice, color='r', ax=ax)\n",
        "ax.set_xlabel(\"vf_ModelYear\")\n",
        "ax.legend(labels=['vf_ModelYear', 'askPrice']);"
      ],
      "metadata": {
        "colab": {
          "base_uri": "https://localhost:8080/",
          "height": 440
        },
        "outputId": "14d787d1-f3b1-43ae-8645-93828bff1d71",
        "id": "xA7-Ui26KvWo"
      },
      "execution_count": null,
      "outputs": [
        {
          "output_type": "display_data",
          "data": {
            "text/plain": [
              "<Figure size 576x432 with 1 Axes>"
            ],
            "image/png": "[encoded data removed]"
          },
          "metadata": {}
        }
      ]
    },
    {
      "cell_type": "markdown",
      "source": [
        "*As we can observe in the graph above, the model Year in between 2016 and 2018 has the highest ranked asked price of vehicles as the peak shown. From the graph, we can do further investigation and prediction on the preference of people on prefering the vehicles made in particular years.*"
      ],
      "metadata": {
        "id": "eDbL02qzKvWq"
      }
    },
    {
      "cell_type": "markdown",
      "source": [
        "## 8. Conclusion"
      ],
      "metadata": {
        "id": "9xUfD8in_XwJ"
      }
    },
    {
      "cell_type": "markdown",
      "source": [
        "From the first step import dataset to the end of feature engineering, we can receive and observe many insightful features and information from the process above. We know the the asked price of vehicles has close relationship with the msrp which is the Manufacturer's Suggested Retail Price.\n",
        "\n",
        "- The analysis of vehicle selling prices, considering columns such as ask price, MSRP (Manufacturer's Suggested Retail Price), and mileage, reveals a complex interplay of factors influencing the market. The ask price, often reflective of market demand and seller preferences, serves as a dynamic indicator that can fluctuate based on various considerations.\n",
        "\n",
        "- The MSRP, a benchmark set by manufacturers, provides a reference point for buyers and sellers alike. Deviations from the MSRP may signify market dynamics, including promotions, incentives, or adjustments based on vehicle features and specifications.\n",
        "\n",
        "- Mileage emerges as a critical determinant affecting the selling price. As a measure of a vehicle's wear and tear, mileage plays a pivotal role in shaping buyer perceptions of a car's condition and longevity. Lower mileage tends to be associated with a higher selling price, reflecting the perceived value of a well-maintained and less-used vehicle.\n",
        "\n",
        "- Overall, the negotiation and determination of a fair selling price involve a delicate balance between these factors. Buyers seek a reasonable price that aligns with the vehicle's condition, features, and market value, while sellers aim to maximize returns based on their investment and market demand.\n",
        "\n",
        "In essence, the vehicle selling price, when considering ask price, MSRP, and mileage, epitomizes the intricate dynamics of the automotive market. Successful transactions hinge on the understanding and strategic evaluation of these elements, ensuring a fair and satisfactory outcome for both buyers and sellers."
      ],
      "metadata": {
        "id": "cxKgFOe9LfSn"
      }
    }
  ],
  "metadata": {
    "colab": {
      "provenance": [],
      "include_colab_link": true
    },
    "kernelspec": {
      "display_name": "Python 3",
      "name": "python3"
    },
    "language_info": {
      "name": "python"
    }
  },
  "nbformat": 4,
  "nbformat_minor": 0
}